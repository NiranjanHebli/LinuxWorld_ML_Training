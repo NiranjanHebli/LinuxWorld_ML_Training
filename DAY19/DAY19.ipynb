{
 "cells": [
  {
   "cell_type": "code",
   "execution_count": null,
   "id": "c3a134e2",
   "metadata": {},
   "outputs": [
    {
     "name": "stdout",
     "output_type": "stream",
     "text": [
      "ABABABABBABABABAABBABABABABAABBABAABBABABABAABBABABABABA"
     ]
    }
   ],
   "source": [
    "import threading\n",
    "import time\n",
    "\n",
    "def A():\n",
    "    while True:\n",
    "        print(\"A\",end=\"\")\n",
    "        time.sleep(1)  \n",
    "\n",
    "def B():\n",
    "    while True:\n",
    "        print(\"B\",end=\"\")\n",
    "        time.sleep(1)  \n",
    "\n",
    "\n",
    "thread1 = threading.Thread(target=A)\n",
    "thread2 = threading.Thread(target=B)\n",
    "\n",
    "\n",
    "thread1.start()\n",
    "thread2.start()\n",
    "\n",
    "thread1.join()\n",
    "thread2.join()"
   ]
  },
  {
   "cell_type": "code",
   "execution_count": null,
   "id": "3187fb0c",
   "metadata": {},
   "outputs": [],
   "source": []
  }
 ],
 "metadata": {
  "kernelspec": {
   "display_name": "Python 3 (ipykernel)",
   "language": "python",
   "name": "python3"
  },
  "language_info": {
   "codemirror_mode": {
    "name": "ipython",
    "version": 3
   },
   "file_extension": ".py",
   "mimetype": "text/x-python",
   "name": "python",
   "nbconvert_exporter": "python",
   "pygments_lexer": "ipython3",
   "version": "3.10.9"
  }
 },
 "nbformat": 4,
 "nbformat_minor": 5
}
