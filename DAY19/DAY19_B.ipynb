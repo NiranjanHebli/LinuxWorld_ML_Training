{
 "cells": [
  {
   "cell_type": "code",
   "execution_count": null,
   "id": "a2b15891",
   "metadata": {},
   "outputs": [],
   "source": [
    "!pip install mediapipe\n",
    "!pip install cvzone "
   ]
  },
  {
   "cell_type": "code",
   "execution_count": null,
   "id": "bbc9851c",
   "metadata": {},
   "outputs": [],
   "source": [
    "\n",
    "from cvzone.HandTrackingModule import HandDetector"
   ]
  },
  {
   "cell_type": "code",
   "execution_count": null,
   "id": "8f3319eb",
   "metadata": {},
   "outputs": [],
   "source": [
    "handmodel= HandDetector(maxHands=1)"
   ]
  },
  {
   "cell_type": "code",
   "execution_count": null,
   "id": "ec1dfbcf",
   "metadata": {},
   "outputs": [],
   "source": [
    "import cv2"
   ]
  },
  {
   "cell_type": "code",
   "execution_count": null,
   "id": "5ee8032e",
   "metadata": {},
   "outputs": [],
   "source": [
    "cap=cv2.VideoCapture(0)"
   ]
  },
  {
   "cell_type": "code",
   "execution_count": null,
   "id": "a965a8cc",
   "metadata": {},
   "outputs": [],
   "source": [
    "status , photo = cap.read()"
   ]
  },
  {
   "cell_type": "code",
   "execution_count": null,
   "id": "7d116b54",
   "metadata": {},
   "outputs": [],
   "source": [
    "cv2.imshow(\"myphoto\",photo)\n",
    "cv2.waitKey()cap=cv2.VideoCapture(0)\n",
    "cv2.destroyAllWindows()"
   ]
  },
  {
   "cell_type": "code",
   "execution_count": null,
   "id": "47f8921c",
   "metadata": {},
   "outputs": [],
   "source": [
    "hand ,image = handmodel.findHands(photo)\n",
    "# hand =handmodel.findHands(photo)"
   ]
  },
  {
   "cell_type": "code",
   "execution_count": null,
   "id": "2323729d",
   "metadata": {},
   "outputs": [],
   "source": [
    "print(hand)"
   ]
  },
  {
   "cell_type": "code",
   "execution_count": null,
   "id": "4717c883",
   "metadata": {},
   "outputs": [],
   "source": [
    "if hand:\n",
    "    print(\"hand detected\")\n",
    "    cv2.imshow(\"my photo\",photo)\n",
    "    cv2.waitKey()\n",
    "    cv2.destroyAllWindows()\n",
    "else:\n",
    "    print(\"No hands detected\")\n",
    "    "
   ]
  },
  {
   "cell_type": "code",
   "execution_count": null,
   "id": "f768e306",
   "metadata": {},
   "outputs": [],
   "source": [
    "print(hand[0]['type'])"
   ]
  },
  {
   "cell_type": "code",
   "execution_count": null,
   "id": "0181d25f",
   "metadata": {},
   "outputs": [],
   "source": [
    "myHandlmList =hand[0]['lmList']\n",
    "print(handmodel.fingersUp(hand[0]))"
   ]
  },
  {
   "cell_type": "code",
   "execution_count": null,
   "id": "2f447ac9",
   "metadata": {},
   "outputs": [],
   "source": [
    "if hand:\n",
    "    print(\"Detected Hand: \",hand[0]['type'])\n",
    "#     print(handmodel.fingersUp(hand[0]))\n",
    "    if handmodel.fingersUp(hand[0]) == [1,0,0,0,0]:\n",
    "        print(\"Thumps Up\")\n",
    "    elif handmodel.fingersUp(hand[0]) == [0,1,0,0,0] :\n",
    "        print(\"Index Finger\")\n",
    "    elif handmodel.fingersUp(hand[0])==[0,0,1,0,0]:\n",
    "        print(\"Middle Finger\")\n",
    "    else:\n",
    "        print(\"Nothing\")\n",
    "\n",
    "else:\n",
    "    print(\"No hand detected\")\n",
    "        "
   ]
  },
  {
   "cell_type": "code",
   "execution_count": null,
   "id": "421ee1bd",
   "metadata": {},
   "outputs": [],
   "source": [
    "thumptip=LandMark[4]"
   ]
  },
  {
   "cell_type": "code",
   "execution_count": 1,
   "id": "65113838",
   "metadata": {},
   "outputs": [
    {
     "ename": "AttributeError",
     "evalue": "module 'cvzone' has no attribute 'rectangle'",
     "output_type": "error",
     "traceback": [
      "\u001b[1;31m---------------------------------------------------------------------------\u001b[0m",
      "\u001b[1;31mAttributeError\u001b[0m                            Traceback (most recent call last)",
      "Cell \u001b[1;32mIn[1], line 54\u001b[0m\n\u001b[0;32m     52\u001b[0m \u001b[38;5;28;01mfor\u001b[39;00m btn \u001b[38;5;129;01min\u001b[39;00m whiteBtns:\n\u001b[0;32m     53\u001b[0m     x, y \u001b[38;5;241m=\u001b[39m btn\u001b[38;5;241m.\u001b[39mpos\n\u001b[1;32m---> 54\u001b[0m     \u001b[43mcvzone\u001b[49m\u001b[38;5;241;43m.\u001b[39;49m\u001b[43mrectangle\u001b[49m(img, (x, y), btn\u001b[38;5;241m.\u001b[39msize, (\u001b[38;5;241m255\u001b[39m, \u001b[38;5;241m255\u001b[39m, \u001b[38;5;241m255\u001b[39m), cv2\u001b[38;5;241m.\u001b[39mFILLED)\n\u001b[0;32m     55\u001b[0m     cvzone\u001b[38;5;241m.\u001b[39mputText(img, btn\u001b[38;5;241m.\u001b[39mtext, [x\u001b[38;5;241m+\u001b[39m\u001b[38;5;241m20\u001b[39m, y\u001b[38;5;241m+\u001b[39m\u001b[38;5;241m60\u001b[39m], cv2\u001b[38;5;241m.\u001b[39mFONT_HERSHEY_PLAIN, \u001b[38;5;241m2\u001b[39m, (\u001b[38;5;241m255\u001b[39m, \u001b[38;5;241m0\u001b[39m, \u001b[38;5;241m0\u001b[39m), \u001b[38;5;241m2\u001b[39m)\n\u001b[0;32m     56\u001b[0m \u001b[38;5;28;01mfor\u001b[39;00m btn \u001b[38;5;129;01min\u001b[39;00m blackBtns:\n",
      "\u001b[1;31mAttributeError\u001b[0m: module 'cvzone' has no attribute 'rectangle'"
     ]
    }
   ],
   "source": []
  },
  {
   "cell_type": "code",
   "execution_count": null,
   "id": "da2c452b",
   "metadata": {},
   "outputs": [],
   "source": []
  }
 ],
 "metadata": {
  "kernelspec": {
   "display_name": "Python 3 (ipykernel)",
   "language": "python",
   "name": "python3"
  },
  "language_info": {
   "codemirror_mode": {
    "name": "ipython",
    "version": 3
   },
   "file_extension": ".py",
   "mimetype": "text/x-python",
   "name": "python",
   "nbconvert_exporter": "python",
   "pygments_lexer": "ipython3",
   "version": "3.10.9"
  }
 },
 "nbformat": 4,
 "nbformat_minor": 5
}
