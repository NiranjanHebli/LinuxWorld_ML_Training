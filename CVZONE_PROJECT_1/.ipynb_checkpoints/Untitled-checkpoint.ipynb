{
 "cells": [
  {
   "cell_type": "code",
   "execution_count": 1,
   "id": "fe9acc28",
   "metadata": {},
   "outputs": [],
   "source": [
    "from cvzone.HandTrackingModule import HandDetector"
   ]
  },
  {
   "cell_type": "code",
   "execution_count": 2,
   "id": "6646408b",
   "metadata": {},
   "outputs": [],
   "source": [
    "handmodel= HandDetector(maxHands=1)"
   ]
  },
  {
   "cell_type": "code",
   "execution_count": 3,
   "id": "ef72b609",
   "metadata": {},
   "outputs": [],
   "source": [
    "import cv2"
   ]
  },
  {
   "cell_type": "code",
   "execution_count": 4,
   "id": "d92ef448",
   "metadata": {},
   "outputs": [],
   "source": [
    "import numpy as np"
   ]
  },
  {
   "cell_type": "code",
   "execution_count": 5,
   "id": "2f437a84",
   "metadata": {},
   "outputs": [],
   "source": [
    "cap=cv2.VideoCapture(0)"
   ]
  },
  {
   "cell_type": "code",
   "execution_count": 8,
   "id": "1de0538c",
   "metadata": {},
   "outputs": [],
   "source": [
    "status,photo=cap.read()"
   ]
  },
  {
   "cell_type": "code",
   "execution_count": 148,
   "id": "a56d435f",
   "metadata": {},
   "outputs": [],
   "source": [
    "cv2.imshow(\"myphoto\",photo)\n",
    "cv2.waitKey()\n",
    "cv2.destroyAllWindows()"
   ]
  },
  {
   "cell_type": "code",
   "execution_count": 149,
   "id": "a1060158",
   "metadata": {},
   "outputs": [],
   "source": [
    "cap.release()"
   ]
  },
  {
   "cell_type": "code",
   "execution_count": 151,
   "id": "4aec7a44",
   "metadata": {},
   "outputs": [],
   "source": [
    "cap=cv2.VideoCapture(0)"
   ]
  },
  {
   "cell_type": "code",
   "execution_count": 215,
   "id": "c98a8ec4",
   "metadata": {},
   "outputs": [],
   "source": [
    "status , handphoto = cap.read()"
   ]
  },
  {
   "cell_type": "code",
   "execution_count": 216,
   "id": "008a4cb6",
   "metadata": {},
   "outputs": [],
   "source": [
    "cv2.imshow(\"myphoto\",handphoto)\n",
    "cv2.waitKey()\n",
    "cv2.destroyAllWindows()"
   ]
  },
  {
   "cell_type": "code",
   "execution_count": 217,
   "id": "f6d604e5",
   "metadata": {},
   "outputs": [],
   "source": [
    "hand ,image = handmodel.findHands(handphoto)"
   ]
  },
  {
   "cell_type": "code",
   "execution_count": 219,
   "id": "918f2bde",
   "metadata": {},
   "outputs": [
    {
     "name": "stdout",
     "output_type": "stream",
     "text": [
      "[0, 1, 1, 1, 1]\n"
     ]
    }
   ],
   "source": [
    "print(handmodel.fingersUp(hand[0]))"
   ]
  },
  {
   "cell_type": "code",
   "execution_count": 220,
   "id": "3a322bb8",
   "metadata": {},
   "outputs": [
    {
     "name": "stdout",
     "output_type": "stream",
     "text": [
      "Detected Hand:  Left\n"
     ]
    }
   ],
   "source": [
    "if hand:\n",
    "    print(\"Detected Hand: \",hand[0]['type'])\n",
    "#     print(handmodel.fingersUp(hand[0]))\n",
    "    if handmodel.fingersUp(hand[0]) == [0,1,0,0,0]:\n",
    "        cv2.imshow(\"myphoto\",photo)\n",
    "        cv2.waitKey()\n",
    "        cv2.destroyAllWindows()\n",
    "    elif handmodel.fingersUp(hand[0]) == [0,1,1,0,0] :\n",
    "        Distance(photo)\n",
    "    elif handmodel.fingersUp(hand[0])==[0,1,1,1,0]:\n",
    "        Blur_inside(photo)\n",
    "    elif handmodel.fingersUp(hand[0])==[0,1,1,1,1]:\n",
    "        Blur_outside(photo)\n",
    "        \n",
    "    elif handmodel.fingersUp(hand[0])==[1,1,1,1,1]:\n",
    "        cartoon(photo)\n",
    "\n",
    "    \n",
    "    else:\n",
    "        print(\"Nothing\")\n",
    "\n",
    "else:\n",
    "    print(\"No hand detected\")"
   ]
  },
  {
   "cell_type": "code",
   "execution_count": 213,
   "id": "8f1b94e4",
   "metadata": {},
   "outputs": [],
   "source": [
    "def cartoon(photo):\n",
    "    \n",
    "    \n",
    "    img = photo\n",
    "\n",
    "    # 1) Edges\n",
    "    gray = cv2.cvtColor(img, cv2.COLOR_BGR2GRAY)\n",
    "    gray = cv2.medianBlur(gray, 5)\n",
    "    edges = cv2.adaptiveThreshold(gray, 255, cv2.ADAPTIVE_THRESH_MEAN_C, cv2.THRESH_BINARY, 9, 9)\n",
    "\n",
    "    # 2) Color\n",
    "    color = cv2.bilateralFilter(img, 9, 300, 300)\n",
    "\n",
    "    # 3) Cartoon\n",
    "    cartoon = cv2.bitwise_and(color, color, mask=edges)\n",
    "\n",
    "\n",
    "    cv2.imshow(\"Cartoon\", cartoon)\n",
    "    cv2.waitKey(0)\n",
    "    cv2.destroyAllWindows()\n",
    "    "
   ]
  },
  {
   "cell_type": "code",
   "execution_count": 53,
   "id": "8cc00494",
   "metadata": {},
   "outputs": [],
   "source": [
    "def Blur_outside(photo):\n",
    "    faceModel=cv2.CascadeClassifier(\"haarcascade_frontalface_default.xml\")\n",
    "    myCoordinates=faceModel.detectMultiScale(photo)\n",
    "    x1=myCoordinates[0][0]\n",
    "    y1=myCoordinates[0][1]\n",
    "    x2=x1+myCoordinates[0][2]\n",
    "    y2=y1+myCoordinates[0][3]\n",
    "    newphoto=photo.copy()\n",
    "    cv2.rectangle(newphoto,(x1,y1),(x2,y2),[0,255,0],5)\n",
    "    blurred_image=newphoto.copy()\n",
    "    blurred_image = cv2.GaussianBlur(blurred_image, (15, 15), 20)\n",
    "    final_image=blurred_image.copy()\n",
    "    final_image[y1:y2, x1:x2] = newphoto[y1:y2, x1:x2]\n",
    "    cv2.imshow(\"myphoto\",final_image)\n",
    "e    cv2.waitKey()\n",
    "    cv2.destroyAllWindows()\n",
    "    "
   ]
  },
  {
   "cell_type": "code",
   "execution_count": 80,
   "id": "27890016",
   "metadata": {},
   "outputs": [],
   "source": [
    "def Blur_inside(photo):\n",
    "    faceModel=cv2.CascadeClassifier(\"haarcascade_frontalface_default.xml\")\n",
    "    myCoordinates=faceModel.detectMultiScale(photo)\n",
    "    x1=myCoordinates[0][0]\n",
    "    y1=myCoordinates[0][1]\n",
    "    x2=x1+myCoordinates[0][2]\n",
    "    y2=y1+myCoordinates[0][3]\n",
    "    newphoto=photo.copy()\n",
    "    cv2.rectangle(newphoto,(x1,y1),(x2,y2),[0,255,0],5)\n",
    "    blurred_image=newphoto.copy()\n",
    "    blurred_image = cv2.GaussianBlur(blurred_image, (15, 15), 20)\n",
    "    final_image=newphoto.copy()\n",
    "    final_image[y1:y2, x1:x2]=blurred_image[y1:y2,x1:x2]\n",
    "    cv2.imshow(\"myphoto\",final_image)\n",
    "    cv2.waitKey()\n",
    "    cv2.destroyAllWindows()"
   ]
  },
  {
   "cell_type": "code",
   "execution_count": 143,
   "id": "6fb60cb5",
   "metadata": {},
   "outputs": [],
   "source": [
    "def Distance(photo):\n",
    "    faceModel=cv2.CascadeClassifier(\"haarcascade_frontalface_default.xml\")\n",
    "    myCoordinates=faceModel.detectMultiScale(photo)\n",
    "    x1=myCoordinates[0][0]\n",
    "    y1=myCoordinates[0][1]\n",
    "    x2=myCoordinates[0][2]+x1\n",
    "    y2=myCoordinates[0][3]+y1\n",
    "    width=myCoordinates[0][3]\n",
    "    object_width=20\n",
    "    focal_length=500\n",
    "    object_width_pixels = photo[y1:y2,x1:x2].shape[1]\n",
    "    distance= (object_width * focal_length) /object_width_pixels\n",
    "    print(f\" Distance of Object from camera is {distance} cm\")"
   ]
  }
 ],
 "metadata": {
  "kernelspec": {
   "display_name": "Python 3 (ipykernel)",
   "language": "python",
   "name": "python3"
  },
  "language_info": {
   "codemirror_mode": {
    "name": "ipython",
    "version": 3
   },
   "file_extension": ".py",
   "mimetype": "text/x-python",
   "name": "python",
   "nbconvert_exporter": "python",
   "pygments_lexer": "ipython3",
   "version": "3.10.9"
  }
 },
 "nbformat": 4,
 "nbformat_minor": 5
}
