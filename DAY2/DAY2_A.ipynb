{
 "cells": [
  {
   "cell_type": "markdown",
   "id": "10b39ea0",
   "metadata": {},
   "source": [
    "TASK GIVEN:-\n",
    "Difference between tuple and list?\n",
    "\n",
    "ANSWER:-Tuples and lists are stored differently in RAM due to their different characteristics.\n",
    "\n",
    "Tuples are stored as a contiguous block of memory in RAM. Each element of the tuple is stored in a fixed-size slot within the memory block. The size of the slot is determined based on the size of the element it needs to store. Since tuples are immutable, their size is fixed and known at the time of creation. This allows tuples to be allocated a fixed amount of memory in a continuous block.\n",
    "\n",
    "Lists, on the other hand, are stored as an array of references to the elements in RAM. Each element of the list is stored separately in memory, and the list itself holds references (pointers) to those elements. This means that the memory occupied by a list is not necessarily contiguous. The list object itself also contains additional information, such as the size of the list and the capacity of the underlying array. This extra information contributes to the memory overhead of lists compared to tuples.\n",
    "\n",
    "The storage mechanism of tuples and lists in RAM has implications for their performance characteristics. Since tuples are stored as a continuous block of memory, accessing elements by index is generally faster compared to lists. Lists, on the other hand, allow for efficient resizing and modification of elements due to their dynamic nature, but accessing elements by index may involve following a reference to the desired element.\n"
   ]
  },
  {
   "cell_type": "code",
   "execution_count": null,
   "id": "8aba9206",
   "metadata": {},
   "outputs": [],
   "source": [
    "students = [\n",
    "            [\"vimal\",1111,\"ok\"],\n",
    "            [\"rahul\",2222,\"vgood\"],\n",
    "            [\"amit\",3333,\"good\"],\n",
    "            [\"jack\",4444,\"ok\"],\n",
    "]"
   ]
  },
  {
   "cell_type": "code",
   "execution_count": 7,
   "id": "1431a377",
   "metadata": {},
   "outputs": [
    {
     "data": {
      "text/plain": [
       "[['vimal', 1111, 'ok'],\n",
       " ['rahul', 2222, 'vgood'],\n",
       " ['amit', 3333, 'good'],\n",
       " ['jack', 4444, 'ok']]"
      ]
     },
     "execution_count": 7,
     "metadata": {},
     "output_type": "execute_result"
    }
   ],
   "source": [
    "students"
   ]
  },
  {
   "cell_type": "code",
   "execution_count": 8,
   "id": "665f6293",
   "metadata": {},
   "outputs": [
    {
     "data": {
      "text/plain": [
       "[['vimal', 1111, 'ok'],\n",
       " ['rahul', 2222, 'vgood'],\n",
       " ['amit', 3333, 'good'],\n",
       " ['jack', 4444, 'ok']]"
      ]
     },
     "execution_count": 8,
     "metadata": {},
     "output_type": "execute_result"
    }
   ],
   "source": [
    "students[:]"
   ]
  },
  {
   "cell_type": "code",
   "execution_count": 9,
   "id": "b167890d",
   "metadata": {},
   "outputs": [
    {
     "data": {
      "text/plain": [
       "[['vimal', 1111, 'ok'],\n",
       " ['rahul', 2222, 'vgood'],\n",
       " ['amit', 3333, 'good'],\n",
       " ['jack', 4444, 'ok']]"
      ]
     },
     "execution_count": 9,
     "metadata": {},
     "output_type": "execute_result"
    }
   ],
   "source": [
    "students"
   ]
  },
  {
   "cell_type": "code",
   "execution_count": 10,
   "id": "9f06ee48",
   "metadata": {},
   "outputs": [
    {
     "data": {
      "text/plain": [
       "4"
      ]
     },
     "execution_count": 10,
     "metadata": {},
     "output_type": "execute_result"
    }
   ],
   "source": [
    "len(students)"
   ]
  },
  {
   "cell_type": "code",
   "execution_count": 11,
   "id": "8160389f",
   "metadata": {},
   "outputs": [
    {
     "data": {
      "text/plain": [
       "3333"
      ]
     },
     "execution_count": 11,
     "metadata": {},
     "output_type": "execute_result"
    }
   ],
   "source": [
    "students[2][1]"
   ]
  },
  {
   "cell_type": "code",
   "execution_count": 12,
   "id": "a458388d",
   "metadata": {},
   "outputs": [
    {
     "data": {
      "text/plain": [
       "[['rahul', 2222, 'vgood'], ['amit', 3333, 'good'], ['jack', 4444, 'ok']]"
      ]
     },
     "execution_count": 12,
     "metadata": {},
     "output_type": "execute_result"
    }
   ],
   "source": [
    "students[1:4]"
   ]
  },
  {
   "cell_type": "markdown",
   "id": "d1ff40fb",
   "metadata": {},
   "source": [
    "-> We cant do operation on list column wise\n",
    "for ex:- find all numbers from previous example\n"
   ]
  },
  {
   "cell_type": "code",
   "execution_count": 50,
   "id": "c0f15f52",
   "metadata": {},
   "outputs": [
    {
     "data": {
      "text/plain": [
       "list"
      ]
     },
     "execution_count": 50,
     "metadata": {},
     "output_type": "execute_result"
    }
   ],
   "source": [
    "type(students)"
   ]
  },
  {
   "cell_type": "code",
   "execution_count": 52,
   "id": "d6ea6915",
   "metadata": {},
   "outputs": [],
   "source": [
    "import numpy \n"
   ]
  },
  {
   "cell_type": "markdown",
   "id": "cdb839c8",
   "metadata": {},
   "source": [
    "pip list -> used to display all the libraries preinstalled"
   ]
  },
  {
   "cell_type": "code",
   "execution_count": 56,
   "id": "39742d6d",
   "metadata": {},
   "outputs": [],
   "source": [
    "b=numpy.array(students)"
   ]
  },
  {
   "cell_type": "code",
   "execution_count": 57,
   "id": "4060788b",
   "metadata": {},
   "outputs": [
    {
     "data": {
      "text/plain": [
       "list"
      ]
     },
     "execution_count": 57,
     "metadata": {},
     "output_type": "execute_result"
    }
   ],
   "source": [
    "type(students)"
   ]
  },
  {
   "cell_type": "code",
   "execution_count": 58,
   "id": "a6158aef",
   "metadata": {},
   "outputs": [
    {
     "data": {
      "text/plain": [
       "numpy.ndarray"
      ]
     },
     "execution_count": 58,
     "metadata": {},
     "output_type": "execute_result"
    }
   ],
   "source": [
    "type(b)"
   ]
  },
  {
   "cell_type": "code",
   "execution_count": 59,
   "id": "620d471f",
   "metadata": {},
   "outputs": [
    {
     "data": {
      "text/plain": [
       "2"
      ]
     },
     "execution_count": 59,
     "metadata": {},
     "output_type": "execute_result"
    }
   ],
   "source": [
    "b.ndim"
   ]
  },
  {
   "cell_type": "code",
   "execution_count": 60,
   "id": "fed4a8c5",
   "metadata": {},
   "outputs": [
    {
     "data": {
      "text/plain": [
       "(4, 3)"
      ]
     },
     "execution_count": 60,
     "metadata": {},
     "output_type": "execute_result"
    }
   ],
   "source": [
    "b.shape"
   ]
  },
  {
   "cell_type": "code",
   "execution_count": 61,
   "id": "bec44f15",
   "metadata": {},
   "outputs": [
    {
     "data": {
      "text/plain": [
       "array(['rahul', '2222', 'vgood'], dtype='<U11')"
      ]
     },
     "execution_count": 61,
     "metadata": {},
     "output_type": "execute_result"
    }
   ],
   "source": [
    "b[1]"
   ]
  },
  {
   "cell_type": "code",
   "execution_count": 63,
   "id": "0b831199",
   "metadata": {},
   "outputs": [
    {
     "data": {
      "text/plain": [
       "array(['1111', '2222', '3333', '4444'], dtype='<U11')"
      ]
     },
     "execution_count": 63,
     "metadata": {},
     "output_type": "execute_result"
    }
   ],
   "source": [
    "b[:,1]"
   ]
  },
  {
   "cell_type": "code",
   "execution_count": 64,
   "id": "594d7a11",
   "metadata": {},
   "outputs": [
    {
     "ename": "TypeError",
     "evalue": "list indices must be integers or slices, not tuple",
     "output_type": "error",
     "traceback": [
      "\u001b[1;31m---------------------------------------------------------------------------\u001b[0m",
      "\u001b[1;31mTypeError\u001b[0m                                 Traceback (most recent call last)",
      "Cell \u001b[1;32mIn[64], line 1\u001b[0m\n\u001b[1;32m----> 1\u001b[0m \u001b[43mstudents\u001b[49m\u001b[43m[\u001b[49m\u001b[43m:\u001b[49m\u001b[43m,\u001b[49m\u001b[38;5;241;43m1\u001b[39;49m\u001b[43m]\u001b[49m\n",
      "\u001b[1;31mTypeError\u001b[0m: list indices must be integers or slices, not tuple"
     ]
    }
   ],
   "source": [
    "# students[:,1]"
   ]
  },
  {
   "cell_type": "code",
   "execution_count": 65,
   "id": "367e6e95",
   "metadata": {},
   "outputs": [
    {
     "data": {
      "text/plain": [
       "array([['vimal', '1111', 'ok'],\n",
       "       ['rahul', '2222', 'vgood'],\n",
       "       ['amit', '3333', 'good'],\n",
       "       ['jack', '4444', 'ok']], dtype='<U11')"
      ]
     },
     "execution_count": 65,
     "metadata": {},
     "output_type": "execute_result"
    }
   ],
   "source": [
    "b[:,:]"
   ]
  },
  {
   "cell_type": "code",
   "execution_count": 69,
   "id": "77dc38d3",
   "metadata": {},
   "outputs": [
    {
     "data": {
      "text/plain": [
       "array([['2222', 'vgood'],\n",
       "       ['3333', 'good']], dtype='<U11')"
      ]
     },
     "execution_count": 69,
     "metadata": {},
     "output_type": "execute_result"
    }
   ],
   "source": [
    "b[1:3,1:3]"
   ]
  },
  {
   "cell_type": "code",
   "execution_count": 70,
   "id": "f1e8dfa3",
   "metadata": {},
   "outputs": [],
   "source": [
    "db=numpy.array([\n",
    "    \"rahul\",\n",
    "    \"eric\",\n",
    "    \"linux\",\n",
    "    \"krish\",\n",
    "    \"umesh\",\n",
    "    \"priya\"])"
   ]
  },
  {
   "cell_type": "code",
   "execution_count": 72,
   "id": "e48d6c40",
   "metadata": {},
   "outputs": [
    {
     "data": {
      "text/plain": [
       "1"
      ]
     },
     "execution_count": 72,
     "metadata": {},
     "output_type": "execute_result"
    }
   ],
   "source": [
    "db.ndim"
   ]
  },
  {
   "cell_type": "code",
   "execution_count": 73,
   "id": "c554db6b",
   "metadata": {},
   "outputs": [
    {
     "data": {
      "text/plain": [
       "(6,)"
      ]
     },
     "execution_count": 73,
     "metadata": {},
     "output_type": "execute_result"
    }
   ],
   "source": [
    "db.shape"
   ]
  },
  {
   "cell_type": "code",
   "execution_count": 75,
   "id": "0bc6d7fe",
   "metadata": {},
   "outputs": [],
   "source": [
    "myteam=db.reshape(3,2)"
   ]
  },
  {
   "cell_type": "code",
   "execution_count": 76,
   "id": "85260975",
   "metadata": {},
   "outputs": [
    {
     "data": {
      "text/plain": [
       "(3, 2)"
      ]
     },
     "execution_count": 76,
     "metadata": {},
     "output_type": "execute_result"
    }
   ],
   "source": [
    "myteam.shape"
   ]
  },
  {
   "cell_type": "code",
   "execution_count": 77,
   "id": "33558e4d",
   "metadata": {},
   "outputs": [
    {
     "data": {
      "text/plain": [
       "2"
      ]
     },
     "execution_count": 77,
     "metadata": {},
     "output_type": "execute_result"
    }
   ],
   "source": [
    "myteam.ndim"
   ]
  },
  {
   "cell_type": "code",
   "execution_count": 78,
   "id": "4fa2e812",
   "metadata": {},
   "outputs": [
    {
     "data": {
      "text/plain": [
       "array([['rahul', 'eric'],\n",
       "       ['linux', 'krish'],\n",
       "       ['umesh', 'priya']], dtype='<U5')"
      ]
     },
     "execution_count": 78,
     "metadata": {},
     "output_type": "execute_result"
    }
   ],
   "source": [
    "myteam"
   ]
  },
  {
   "cell_type": "code",
   "execution_count": 79,
   "id": "9f666a5d",
   "metadata": {},
   "outputs": [
    {
     "data": {
      "text/plain": [
       "array(['rahul', 'eric', 'linux', 'krish', 'umesh', 'priya'], dtype='<U5')"
      ]
     },
     "execution_count": 79,
     "metadata": {},
     "output_type": "execute_result"
    }
   ],
   "source": [
    "myteam.flatten()"
   ]
  },
  {
   "cell_type": "code",
   "execution_count": 81,
   "id": "e2bd8f1f",
   "metadata": {},
   "outputs": [
    {
     "data": {
      "text/plain": [
       "2"
      ]
     },
     "execution_count": 81,
     "metadata": {},
     "output_type": "execute_result"
    }
   ],
   "source": [
    "myteam.ndim"
   ]
  },
  {
   "cell_type": "code",
   "execution_count": 84,
   "id": "c1a1e212",
   "metadata": {},
   "outputs": [],
   "source": [
    "score=numpy.array([23,45,67,21,8,9,34])"
   ]
  },
  {
   "cell_type": "code",
   "execution_count": 85,
   "id": "b01e571d",
   "metadata": {},
   "outputs": [
    {
     "data": {
      "text/plain": [
       "array([False,  True,  True, False, False, False,  True])"
      ]
     },
     "execution_count": 85,
     "metadata": {},
     "output_type": "execute_result"
    }
   ],
   "source": [
    "score >30"
   ]
  },
  {
   "cell_type": "code",
   "execution_count": 86,
   "id": "ce2c36eb",
   "metadata": {},
   "outputs": [
    {
     "data": {
      "text/plain": [
       "1"
      ]
     },
     "execution_count": 86,
     "metadata": {},
     "output_type": "execute_result"
    }
   ],
   "source": [
    "db.ndim"
   ]
  },
  {
   "cell_type": "code",
   "execution_count": 87,
   "id": "773f05d5",
   "metadata": {},
   "outputs": [
    {
     "data": {
      "text/plain": [
       "(6,)"
      ]
     },
     "execution_count": 87,
     "metadata": {},
     "output_type": "execute_result"
    }
   ],
   "source": [
    "db.shape"
   ]
  },
  {
   "cell_type": "code",
   "execution_count": 93,
   "id": "f99eba67",
   "metadata": {},
   "outputs": [],
   "source": [
    "c = db.reshape(6,1)"
   ]
  },
  {
   "cell_type": "code",
   "execution_count": 94,
   "id": "a9daf35c",
   "metadata": {},
   "outputs": [
    {
     "data": {
      "text/plain": [
       "numpy.ndarray"
      ]
     },
     "execution_count": 94,
     "metadata": {},
     "output_type": "execute_result"
    }
   ],
   "source": [
    "type(c)"
   ]
  },
  {
   "cell_type": "code",
   "execution_count": 96,
   "id": "7fb1c83e",
   "metadata": {},
   "outputs": [
    {
     "data": {
      "text/plain": [
       "(6, 1)"
      ]
     },
     "execution_count": 96,
     "metadata": {},
     "output_type": "execute_result"
    }
   ],
   "source": [
    "c.shape"
   ]
  },
  {
   "cell_type": "code",
   "execution_count": 97,
   "id": "5e8b9d77",
   "metadata": {},
   "outputs": [
    {
     "ename": "AttributeError",
     "evalue": "'numpy.ndarray' object has no attribute 'append'",
     "output_type": "error",
     "traceback": [
      "\u001b[1;31m---------------------------------------------------------------------------\u001b[0m",
      "\u001b[1;31mAttributeError\u001b[0m                            Traceback (most recent call last)",
      "Cell \u001b[1;32mIn[97], line 1\u001b[0m\n\u001b[1;32m----> 1\u001b[0m \u001b[43mc\u001b[49m\u001b[43m[\u001b[49m\u001b[38;5;241;43m0\u001b[39;49m\u001b[43m]\u001b[49m\u001b[38;5;241;43m.\u001b[39;49m\u001b[43mappend\u001b[49m(\u001b[38;5;241m1122\u001b[39m)\n",
      "\u001b[1;31mAttributeError\u001b[0m: 'numpy.ndarray' object has no attribute 'append'"
     ]
    }
   ],
   "source": [
    "# c[0].append(1122)"
   ]
  },
  {
   "cell_type": "code",
   "execution_count": 98,
   "id": "32377554",
   "metadata": {},
   "outputs": [
    {
     "data": {
      "text/plain": [
       "array(['rahul', '1111'], dtype='<U11')"
      ]
     },
     "execution_count": 98,
     "metadata": {},
     "output_type": "execute_result"
    }
   ],
   "source": [
    "numpy.append(c[0],1111)"
   ]
  },
  {
   "cell_type": "code",
   "execution_count": 99,
   "id": "9fc62567",
   "metadata": {},
   "outputs": [
    {
     "data": {
      "text/plain": [
       "array([['rahul'],\n",
       "       ['eric'],\n",
       "       ['linux'],\n",
       "       ['krish'],\n",
       "       ['umesh'],\n",
       "       ['priya']], dtype='<U5')"
      ]
     },
     "execution_count": 99,
     "metadata": {},
     "output_type": "execute_result"
    }
   ],
   "source": [
    "c"
   ]
  },
  {
   "cell_type": "code",
   "execution_count": 100,
   "id": "499941e9",
   "metadata": {},
   "outputs": [],
   "source": [
    "x=5"
   ]
  },
  {
   "cell_type": "code",
   "execution_count": 101,
   "id": "1c107da1",
   "metadata": {},
   "outputs": [],
   "source": [
    "y=5"
   ]
  },
  {
   "cell_type": "code",
   "execution_count": 102,
   "id": "6e77abd3",
   "metadata": {},
   "outputs": [
    {
     "data": {
      "text/plain": [
       "1544059289968"
      ]
     },
     "execution_count": 102,
     "metadata": {},
     "output_type": "execute_result"
    }
   ],
   "source": [
    "id(x)"
   ]
  },
  {
   "cell_type": "code",
   "execution_count": 103,
   "id": "537dd981",
   "metadata": {},
   "outputs": [
    {
     "data": {
      "text/plain": [
       "1544059289968"
      ]
     },
     "execution_count": 103,
     "metadata": {},
     "output_type": "execute_result"
    }
   ],
   "source": [
    "id(y)"
   ]
  },
  {
   "cell_type": "markdown",
   "id": "1b580473",
   "metadata": {},
   "source": []
  }
 ],
 "metadata": {
  "kernelspec": {
   "display_name": "Python 3 (ipykernel)",
   "language": "python",
   "name": "python3"
  },
  "language_info": {
   "codemirror_mode": {
    "name": "ipython",
    "version": 3
   },
   "file_extension": ".py",
   "mimetype": "text/x-python",
   "name": "python",
   "nbconvert_exporter": "python",
   "pygments_lexer": "ipython3",
   "version": "3.10.9"
  }
 },
 "nbformat": 4,
 "nbformat_minor": 5
}
