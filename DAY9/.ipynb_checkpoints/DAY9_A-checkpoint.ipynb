{
 "cells": [
  {
   "cell_type": "code",
   "execution_count": 17,
   "id": "a1b91b8d",
   "metadata": {},
   "outputs": [],
   "source": [
    "class Summerform:\n",
    "    name = None\n",
    "    whatsapp = None\n",
    "    enquiry = None\n",
    "    "
   ]
  },
  {
   "cell_type": "code",
   "execution_count": 18,
   "id": "2451a551",
   "metadata": {},
   "outputs": [],
   "source": [
    "X=None"
   ]
  },
  {
   "cell_type": "code",
   "execution_count": 19,
   "id": "52dd591a",
   "metadata": {},
   "outputs": [],
   "source": [
    "X\n"
   ]
  },
  {
   "cell_type": "code",
   "execution_count": 20,
   "id": "da420785",
   "metadata": {},
   "outputs": [
    {
     "data": {
      "text/plain": [
       "NoneType"
      ]
     },
     "execution_count": 20,
     "metadata": {},
     "output_type": "execute_result"
    }
   ],
   "source": [
    "type(X)"
   ]
  },
  {
   "cell_type": "code",
   "execution_count": 21,
   "id": "0e627199",
   "metadata": {},
   "outputs": [],
   "source": [
    "class JobForm:\n",
    "    name = None\n",
    "    Email = None\n",
    "    Exp = None"
   ]
  },
  {
   "cell_type": "code",
   "execution_count": 22,
   "id": "7fb8813a",
   "metadata": {},
   "outputs": [],
   "source": [
    "rahul = Summerform()   "
   ]
  },
  {
   "cell_type": "code",
   "execution_count": 23,
   "id": "5c4e32da",
   "metadata": {},
   "outputs": [],
   "source": [
    "rahul.name=\"rahul\"\n",
    "rahul.whatsapp=9832923888\n",
    "rahul.enquiry= True"
   ]
  },
  {
   "cell_type": "code",
   "execution_count": 24,
   "id": "1da4c9d1",
   "metadata": {},
   "outputs": [
    {
     "data": {
      "text/plain": [
       "<__main__.Summerform at 0x1bc4a51a380>"
      ]
     },
     "execution_count": 24,
     "metadata": {},
     "output_type": "execute_result"
    }
   ],
   "source": [
    "rahul"
   ]
  },
  {
   "cell_type": "code",
   "execution_count": 25,
   "id": "c12dbf4a",
   "metadata": {},
   "outputs": [
    {
     "name": "stdout",
     "output_type": "stream",
     "text": [
      "rahul 9832923888 True\n"
     ]
    }
   ],
   "source": [
    "print(rahul.name,\n",
    "rahul.whatsapp,\n",
    "rahul.enquiry)"
   ]
  },
  {
   "cell_type": "code",
   "execution_count": 28,
   "id": "91e2c019",
   "metadata": {},
   "outputs": [
    {
     "data": {
      "text/plain": [
       "{'name': 'rahul', 'whatsapp': 9832923888, 'enquiry': True}"
      ]
     },
     "execution_count": 28,
     "metadata": {},
     "output_type": "execute_result"
    }
   ],
   "source": [
    "rahul.__dict__"
   ]
  },
  {
   "cell_type": "code",
   "execution_count": 29,
   "id": "fa03d0ec",
   "metadata": {},
   "outputs": [
    {
     "data": {
      "text/plain": [
       "__main__.Summerform"
      ]
     },
     "execution_count": 29,
     "metadata": {},
     "output_type": "execute_result"
    }
   ],
   "source": [
    "type(rahul)"
   ]
  },
  {
   "cell_type": "code",
   "execution_count": 30,
   "id": "fa0305a9",
   "metadata": {},
   "outputs": [
    {
     "data": {
      "text/plain": [
       "dict"
      ]
     },
     "execution_count": 30,
     "metadata": {},
     "output_type": "execute_result"
    }
   ],
   "source": [
    "type(rahul.__dict__)"
   ]
  },
  {
   "cell_type": "code",
   "execution_count": 31,
   "id": "f1350bfa",
   "metadata": {},
   "outputs": [],
   "source": [
    "rahul.name=\"Rahul Sharma\""
   ]
  },
  {
   "cell_type": "code",
   "execution_count": 32,
   "id": "7b4c478a",
   "metadata": {},
   "outputs": [
    {
     "data": {
      "text/plain": [
       "{'name': 'Rahul Sharma', 'whatsapp': 9832923888, 'enquiry': True}"
      ]
     },
     "execution_count": 32,
     "metadata": {},
     "output_type": "execute_result"
    }
   ],
   "source": [
    "rahul.__dict__"
   ]
  },
  {
   "cell_type": "code",
   "execution_count": 33,
   "id": "a7cb52c8",
   "metadata": {},
   "outputs": [
    {
     "data": {
      "text/plain": [
       "<__main__.Summerform at 0x1bc4a51a380>"
      ]
     },
     "execution_count": 33,
     "metadata": {},
     "output_type": "execute_result"
    }
   ],
   "source": [
    "rahul"
   ]
  },
  {
   "cell_type": "code",
   "execution_count": 35,
   "id": "4942b7c5",
   "metadata": {},
   "outputs": [
    {
     "data": {
      "text/plain": [
       "str"
      ]
     },
     "execution_count": 35,
     "metadata": {},
     "output_type": "execute_result"
    }
   ],
   "source": [
    "type(rahul.name)"
   ]
  },
  {
   "cell_type": "code",
   "execution_count": 36,
   "id": "946a62c3",
   "metadata": {},
   "outputs": [
    {
     "data": {
      "text/plain": [
       "int"
      ]
     },
     "execution_count": 36,
     "metadata": {},
     "output_type": "execute_result"
    }
   ],
   "source": [
    "type(rahul.whatsapp)"
   ]
  },
  {
   "cell_type": "code",
   "execution_count": 37,
   "id": "1a9171bb",
   "metadata": {},
   "outputs": [
    {
     "data": {
      "text/plain": [
       "bool"
      ]
     },
     "execution_count": 37,
     "metadata": {},
     "output_type": "execute_result"
    }
   ],
   "source": [
    "type(rahul.enquiry)"
   ]
  },
  {
   "cell_type": "code",
   "execution_count": null,
   "id": "bdc9e719",
   "metadata": {},
   "outputs": [],
   "source": [
    "## Will this work?"
   ]
  },
  {
   "cell_type": "code",
   "execution_count": 38,
   "id": "44270664",
   "metadata": {},
   "outputs": [],
   "source": [
    "import numpy as np"
   ]
  },
  {
   "cell_type": "code",
   "execution_count": 40,
   "id": "34d22dbc",
   "metadata": {},
   "outputs": [],
   "source": [
    "x=np.array(rahul.__dict__)"
   ]
  },
  {
   "cell_type": "code",
   "execution_count": 41,
   "id": "37ea42b0",
   "metadata": {},
   "outputs": [
    {
     "data": {
      "text/plain": [
       "array({'name': 'Rahul Sharma', 'whatsapp': 9832923888, 'enquiry': True},\n",
       "      dtype=object)"
      ]
     },
     "execution_count": 41,
     "metadata": {},
     "output_type": "execute_result"
    }
   ],
   "source": [
    "x"
   ]
  },
  {
   "cell_type": "code",
   "execution_count": 42,
   "id": "8d60b722",
   "metadata": {},
   "outputs": [
    {
     "data": {
      "text/plain": [
       "numpy.ndarray"
      ]
     },
     "execution_count": 42,
     "metadata": {},
     "output_type": "execute_result"
    }
   ],
   "source": [
    "type(x)"
   ]
  },
  {
   "cell_type": "code",
   "execution_count": 44,
   "id": "fb16beb8",
   "metadata": {},
   "outputs": [],
   "source": [
    "x=np.array(rahul)"
   ]
  },
  {
   "cell_type": "code",
   "execution_count": 45,
   "id": "602ec768",
   "metadata": {},
   "outputs": [
    {
     "data": {
      "text/plain": [
       "array(<__main__.Summerform object at 0x000001BC4A51A380>, dtype=object)"
      ]
     },
     "execution_count": 45,
     "metadata": {},
     "output_type": "execute_result"
    }
   ],
   "source": [
    "x"
   ]
  },
  {
   "cell_type": "code",
   "execution_count": 46,
   "id": "1c954bb5",
   "metadata": {},
   "outputs": [
    {
     "data": {
      "text/plain": [
       "numpy.ndarray"
      ]
     },
     "execution_count": 46,
     "metadata": {},
     "output_type": "execute_result"
    }
   ],
   "source": [
    "type(x)"
   ]
  },
  {
   "cell_type": "code",
   "execution_count": 50,
   "id": "f0f09e7a",
   "metadata": {},
   "outputs": [],
   "source": [
    "yash= Summerform()"
   ]
  },
  {
   "cell_type": "code",
   "execution_count": 51,
   "id": "449f2582",
   "metadata": {},
   "outputs": [
    {
     "data": {
      "text/plain": [
       "{}"
      ]
     },
     "execution_count": 51,
     "metadata": {},
     "output_type": "execute_result"
    }
   ],
   "source": [
    "yash.__dict__"
   ]
  },
  {
   "cell_type": "code",
   "execution_count": 52,
   "id": "156b3129",
   "metadata": {},
   "outputs": [
    {
     "data": {
      "text/plain": [
       "<__main__.Summerform at 0x1bc4cd86bf0>"
      ]
     },
     "execution_count": 52,
     "metadata": {},
     "output_type": "execute_result"
    }
   ],
   "source": [
    "yash"
   ]
  },
  {
   "cell_type": "code",
   "execution_count": 53,
   "id": "be27ad43",
   "metadata": {},
   "outputs": [
    {
     "data": {
      "text/plain": [
       "1908254731248"
      ]
     },
     "execution_count": 53,
     "metadata": {},
     "output_type": "execute_result"
    }
   ],
   "source": [
    "id(yash)"
   ]
  },
  {
   "cell_type": "code",
   "execution_count": 54,
   "id": "533183cf",
   "metadata": {},
   "outputs": [
    {
     "data": {
      "text/plain": [
       "1908212343680"
      ]
     },
     "execution_count": 54,
     "metadata": {},
     "output_type": "execute_result"
    }
   ],
   "source": [
    "id(rahul)"
   ]
  },
  {
   "cell_type": "code",
   "execution_count": 55,
   "id": "18783015",
   "metadata": {},
   "outputs": [],
   "source": [
    "#what to do? Change access\n",
    "yash.city =\"Jaipur\""
   ]
  },
  {
   "cell_type": "code",
   "execution_count": 56,
   "id": "ed8641e0",
   "metadata": {},
   "outputs": [
    {
     "data": {
      "text/plain": [
       "{'city': 'Jaipur'}"
      ]
     },
     "execution_count": 56,
     "metadata": {},
     "output_type": "execute_result"
    }
   ],
   "source": [
    "yash.__dict__"
   ]
  },
  {
   "cell_type": "code",
   "execution_count": 97,
   "id": "bbc5c9d3",
   "metadata": {},
   "outputs": [],
   "source": [
    "class SummerForm:\n",
    "    name = None\n",
    "    whatsapp = None\n",
    "    enquiry = None\n",
    "    \n",
    "    def changename(mymem,n):\n",
    "        mymem.name=n\n",
    "    def whatsapp(mymem,w):\n",
    "        mymem.whatsapp=w\n",
    "    def enquiry(mymem,e):\n",
    "        mymem.enquiry=e\n",
    "        \n",
    "    "
   ]
  },
  {
   "cell_type": "code",
   "execution_count": 98,
   "id": "7b252255",
   "metadata": {},
   "outputs": [],
   "source": [
    "jack=SummerForm()"
   ]
  },
  {
   "cell_type": "code",
   "execution_count": 99,
   "id": "87a95fc9",
   "metadata": {},
   "outputs": [
    {
     "data": {
      "text/plain": [
       "<__main__.SummerForm at 0x1bc4cda75b0>"
      ]
     },
     "execution_count": 99,
     "metadata": {},
     "output_type": "execute_result"
    }
   ],
   "source": [
    "jack"
   ]
  },
  {
   "cell_type": "code",
   "execution_count": 100,
   "id": "4f705fe3",
   "metadata": {},
   "outputs": [
    {
     "data": {
      "text/plain": [
       "{}"
      ]
     },
     "execution_count": 100,
     "metadata": {},
     "output_type": "execute_result"
    }
   ],
   "source": [
    "jack.__dict__"
   ]
  },
  {
   "cell_type": "code",
   "execution_count": 101,
   "id": "378d3853",
   "metadata": {},
   "outputs": [],
   "source": [
    "jack.changename('Jack')"
   ]
  },
  {
   "cell_type": "code",
   "execution_count": 102,
   "id": "51aceda9",
   "metadata": {},
   "outputs": [
    {
     "data": {
      "text/plain": [
       "{'name': 'Jack'}"
      ]
     },
     "execution_count": 102,
     "metadata": {},
     "output_type": "execute_result"
    }
   ],
   "source": [
    "jack.__dict__"
   ]
  },
  {
   "cell_type": "code",
   "execution_count": 103,
   "id": "8cfcb10d",
   "metadata": {},
   "outputs": [],
   "source": [
    "jack.whatsapp(9329034233)"
   ]
  },
  {
   "cell_type": "code",
   "execution_count": 104,
   "id": "20e3bcda",
   "metadata": {},
   "outputs": [],
   "source": [
    "jack.enquiry(True)"
   ]
  },
  {
   "cell_type": "code",
   "execution_count": 105,
   "id": "39a51b5a",
   "metadata": {},
   "outputs": [
    {
     "data": {
      "text/plain": [
       "{'name': 'Jack', 'whatsapp': 9329034233, 'enquiry': True}"
      ]
     },
     "execution_count": 105,
     "metadata": {},
     "output_type": "execute_result"
    }
   ],
   "source": [
    "jack.__dict__"
   ]
  },
  {
   "cell_type": "code",
   "execution_count": 115,
   "id": "24741f46",
   "metadata": {},
   "outputs": [],
   "source": [
    "class SummerForm:\n",
    "    name = None\n",
    "    whatsapp = None\n",
    "    enquiry = None\n",
    "    \n",
    "    def setname(self,n):\n",
    "        self.name=n\n",
    "    def setwhatsapp(self,w):\n",
    "        self.whatsapp=w\n",
    "    def setenquiry(self,e):\n",
    "        self.enquiry=e\n",
    "    def getname(self):\n",
    "        return self.name\n",
    "    def getwhatsapp(self):\n",
    "        return self.whatsapp\n",
    "    def getsenquiry(self):\n",
    "        return self.enquiry"
   ]
  },
  {
   "cell_type": "code",
   "execution_count": 116,
   "id": "1c7080f9",
   "metadata": {},
   "outputs": [],
   "source": [
    "rahul=SummerForm()"
   ]
  },
  {
   "cell_type": "code",
   "execution_count": 117,
   "id": "4d8c3350",
   "metadata": {},
   "outputs": [],
   "source": [
    "rahul.setname(\"Rahul Sharma\")\n",
    "rahul.setwhatsapp(9341093401)\n",
    "rahul.setenquiry(False)"
   ]
  },
  {
   "cell_type": "code",
   "execution_count": 118,
   "id": "9fb1819e",
   "metadata": {},
   "outputs": [
    {
     "data": {
      "text/plain": [
       "'Rahul Sharma'"
      ]
     },
     "execution_count": 118,
     "metadata": {},
     "output_type": "execute_result"
    }
   ],
   "source": [
    "rahul.getname()"
   ]
  },
  {
   "cell_type": "code",
   "execution_count": 119,
   "id": "c6e54428",
   "metadata": {},
   "outputs": [
    {
     "data": {
      "text/plain": [
       "9341093401"
      ]
     },
     "execution_count": 119,
     "metadata": {},
     "output_type": "execute_result"
    }
   ],
   "source": [
    "rahul.getwhatsapp()"
   ]
  },
  {
   "cell_type": "code",
   "execution_count": 121,
   "id": "453df55f",
   "metadata": {},
   "outputs": [
    {
     "data": {
      "text/plain": [
       "False"
      ]
     },
     "execution_count": 121,
     "metadata": {},
     "output_type": "execute_result"
    }
   ],
   "source": [
    "rahul.getsenquiry()"
   ]
  },
  {
   "cell_type": "code",
   "execution_count": 122,
   "id": "8a9301a0",
   "metadata": {},
   "outputs": [],
   "source": [
    "#rahul.city=\"Jaipur\""
   ]
  },
  {
   "cell_type": "code",
   "execution_count": 124,
   "id": "fef47dd9",
   "metadata": {},
   "outputs": [
    {
     "data": {
      "text/plain": [
       "{'name': 'Rahul Sharma',\n",
       " 'whatsapp': 9341093401,\n",
       " 'enquiry': False,\n",
       " 'city': 'Jaipur'}"
      ]
     },
     "execution_count": 124,
     "metadata": {},
     "output_type": "execute_result"
    }
   ],
   "source": [
    "rahul.__dict__"
   ]
  },
  {
   "cell_type": "code",
   "execution_count": 125,
   "id": "980ca80d",
   "metadata": {},
   "outputs": [],
   "source": [
    "rahul.city=None"
   ]
  },
  {
   "cell_type": "code",
   "execution_count": 127,
   "id": "5d86069f",
   "metadata": {},
   "outputs": [
    {
     "data": {
      "text/plain": [
       "{'name': 'Rahul Sharma',\n",
       " 'whatsapp': 9341093401,\n",
       " 'enquiry': False,\n",
       " 'city': None}"
      ]
     },
     "execution_count": 127,
     "metadata": {},
     "output_type": "execute_result"
    }
   ],
   "source": [
    "rahul.__dict__"
   ]
  },
  {
   "cell_type": "code",
   "execution_count": null,
   "id": "dc6a7855",
   "metadata": {},
   "outputs": [],
   "source": []
  }
 ],
 "metadata": {
  "kernelspec": {
   "display_name": "Python 3 (ipykernel)",
   "language": "python",
   "name": "python3"
  },
  "language_info": {
   "codemirror_mode": {
    "name": "ipython",
    "version": 3
   },
   "file_extension": ".py",
   "mimetype": "text/x-python",
   "name": "python",
   "nbconvert_exporter": "python",
   "pygments_lexer": "ipython3",
   "version": "3.10.9"
  }
 },
 "nbformat": 4,
 "nbformat_minor": 5
}
