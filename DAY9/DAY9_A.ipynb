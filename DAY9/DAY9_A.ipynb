{
 "cells": [
  {
   "cell_type": "code",
   "execution_count": 17,
   "id": "a1b91b8d",
   "metadata": {},
   "outputs": [],
   "source": [
    "class Summerform:\n",
    "    name = None\n",
    "    whatsapp = None\n",
    "    enquiry = None\n",
    "    "
   ]
  },
  {
   "cell_type": "code",
   "execution_count": 18,
   "id": "8c297eaf",
   "metadata": {},
   "outputs": [],
   "source": [
    "X=None"
   ]
  },
  {
   "cell_type": "code",
   "execution_count": 19,
   "id": "18642fe3",
   "metadata": {},
   "outputs": [],
   "source": [
    "X\n"
   ]
  },
  {
   "cell_type": "code",
   "execution_count": 20,
   "id": "0bb540c4",
   "metadata": {},
   "outputs": [
    {
     "data": {
      "text/plain": [
       "NoneType"
      ]
     },
     "execution_count": 20,
     "metadata": {},
     "output_type": "execute_result"
    }
   ],
   "source": [
    "type(X)"
   ]
  },
  {
   "cell_type": "code",
   "execution_count": 21,
   "id": "3d2b2635",
   "metadata": {},
   "outputs": [],
   "source": [
    "class JobForm:\n",
    "    name = None\n",
    "    Email = None\n",
    "    Exp = None"
   ]
  },
  {
   "cell_type": "code",
   "execution_count": 22,
   "id": "4c136793",
   "metadata": {},
   "outputs": [],
   "source": [
    "rahul = Summerform()   "
   ]
  },
  {
   "cell_type": "code",
   "execution_count": 23,
   "id": "a377d549",
   "metadata": {},
   "outputs": [],
   "source": [
    "rahul.name=\"rahul\"\n",
    "rahul.whatsapp=9832923888\n",
    "rahul.enquiry= True"
   ]
  },
  {
   "cell_type": "code",
   "execution_count": 24,
   "id": "4ca12b5f",
   "metadata": {},
   "outputs": [
    {
     "data": {
      "text/plain": [
       "<__main__.Summerform at 0x1bc4a51a380>"
      ]
     },
     "execution_count": 24,
     "metadata": {},
     "output_type": "execute_result"
    }
   ],
   "source": [
    "rahul"
   ]
  },
  {
   "cell_type": "code",
   "execution_count": 25,
   "id": "49195ae4",
   "metadata": {},
   "outputs": [
    {
     "name": "stdout",
     "output_type": "stream",
     "text": [
      "rahul 9832923888 True\n"
     ]
    }
   ],
   "source": [
    "print(rahul.name,\n",
    "rahul.whatsapp,\n",
    "rahul.enquiry)"
   ]
  },
  {
   "cell_type": "code",
   "execution_count": 28,
   "id": "945854a2",
   "metadata": {},
   "outputs": [
    {
     "data": {
      "text/plain": [
       "{'name': 'rahul', 'whatsapp': 9832923888, 'enquiry': True}"
      ]
     },
     "execution_count": 28,
     "metadata": {},
     "output_type": "execute_result"
    }
   ],
   "source": [
    "rahul.__dict__"
   ]
  },
  {
   "cell_type": "code",
   "execution_count": 29,
   "id": "acb42abb",
   "metadata": {},
   "outputs": [
    {
     "data": {
      "text/plain": [
       "__main__.Summerform"
      ]
     },
     "execution_count": 29,
     "metadata": {},
     "output_type": "execute_result"
    }
   ],
   "source": [
    "type(rahul)"
   ]
  },
  {
   "cell_type": "code",
   "execution_count": 30,
   "id": "db857f92",
   "metadata": {},
   "outputs": [
    {
     "data": {
      "text/plain": [
       "dict"
      ]
     },
     "execution_count": 30,
     "metadata": {},
     "output_type": "execute_result"
    }
   ],
   "source": [
    "type(rahul.__dict__)"
   ]
  },
  {
   "cell_type": "code",
   "execution_count": 31,
   "id": "3253e684",
   "metadata": {},
   "outputs": [],
   "source": [
    "rahul.name=\"Rahul Sharma\""
   ]
  },
  {
   "cell_type": "code",
   "execution_count": 32,
   "id": "2e4398b3",
   "metadata": {},
   "outputs": [
    {
     "data": {
      "text/plain": [
       "{'name': 'Rahul Sharma', 'whatsapp': 9832923888, 'enquiry': True}"
      ]
     },
     "execution_count": 32,
     "metadata": {},
     "output_type": "execute_result"
    }
   ],
   "source": [
    "rahul.__dict__"
   ]
  },
  {
   "cell_type": "code",
   "execution_count": 33,
   "id": "91b439b9",
   "metadata": {},
   "outputs": [
    {
     "data": {
      "text/plain": [
       "<__main__.Summerform at 0x1bc4a51a380>"
      ]
     },
     "execution_count": 33,
     "metadata": {},
     "output_type": "execute_result"
    }
   ],
   "source": [
    "rahul"
   ]
  },
  {
   "cell_type": "code",
   "execution_count": 35,
   "id": "6c772714",
   "metadata": {},
   "outputs": [
    {
     "data": {
      "text/plain": [
       "str"
      ]
     },
     "execution_count": 35,
     "metadata": {},
     "output_type": "execute_result"
    }
   ],
   "source": [
    "type(rahul.name)"
   ]
  },
  {
   "cell_type": "code",
   "execution_count": 36,
   "id": "e5f291f3",
   "metadata": {},
   "outputs": [
    {
     "data": {
      "text/plain": [
       "int"
      ]
     },
     "execution_count": 36,
     "metadata": {},
     "output_type": "execute_result"
    }
   ],
   "source": [
    "type(rahul.whatsapp)"
   ]
  },
  {
   "cell_type": "code",
   "execution_count": 37,
   "id": "91453c72",
   "metadata": {},
   "outputs": [
    {
     "data": {
      "text/plain": [
       "bool"
      ]
     },
     "execution_count": 37,
     "metadata": {},
     "output_type": "execute_result"
    }
   ],
   "source": [
    "type(rahul.enquiry)"
   ]
  },
  {
   "cell_type": "code",
   "execution_count": null,
   "id": "2ce6f8b6",
   "metadata": {},
   "outputs": [],
   "source": [
    "## Will this work?"
   ]
  },
  {
   "cell_type": "code",
   "execution_count": 38,
   "id": "f4eff398",
   "metadata": {},
   "outputs": [],
   "source": [
    "import numpy as np"
   ]
  },
  {
   "cell_type": "code",
   "execution_count": 40,
   "id": "38c498e8",
   "metadata": {},
   "outputs": [],
   "source": [
    "x=np.array(rahul.__dict__)"
   ]
  },
  {
   "cell_type": "code",
   "execution_count": 41,
   "id": "f34b11a7",
   "metadata": {},
   "outputs": [
    {
     "data": {
      "text/plain": [
       "array({'name': 'Rahul Sharma', 'whatsapp': 9832923888, 'enquiry': True},\n",
       "      dtype=object)"
      ]
     },
     "execution_count": 41,
     "metadata": {},
     "output_type": "execute_result"
    }
   ],
   "source": [
    "x"
   ]
  },
  {
   "cell_type": "code",
   "execution_count": 42,
   "id": "b19886c8",
   "metadata": {},
   "outputs": [
    {
     "data": {
      "text/plain": [
       "numpy.ndarray"
      ]
     },
     "execution_count": 42,
     "metadata": {},
     "output_type": "execute_result"
    }
   ],
   "source": [
    "type(x)"
   ]
  },
  {
   "cell_type": "code",
   "execution_count": 44,
   "id": "1d21e70a",
   "metadata": {},
   "outputs": [],
   "source": [
    "x=np.array(rahul)"
   ]
  },
  {
   "cell_type": "code",
   "execution_count": 45,
   "id": "0c8c4121",
   "metadata": {},
   "outputs": [
    {
     "data": {
      "text/plain": [
       "array(<__main__.Summerform object at 0x000001BC4A51A380>, dtype=object)"
      ]
     },
     "execution_count": 45,
     "metadata": {},
     "output_type": "execute_result"
    }
   ],
   "source": [
    "x"
   ]
  },
  {
   "cell_type": "code",
   "execution_count": 46,
   "id": "ad15b6eb",
   "metadata": {},
   "outputs": [
    {
     "data": {
      "text/plain": [
       "numpy.ndarray"
      ]
     },
     "execution_count": 46,
     "metadata": {},
     "output_type": "execute_result"
    }
   ],
   "source": [
    "type(x)"
   ]
  },
  {
   "cell_type": "code",
   "execution_count": 50,
   "id": "34cb53e1",
   "metadata": {},
   "outputs": [],
   "source": [
    "yash= Summerform()"
   ]
  },
  {
   "cell_type": "code",
   "execution_count": 51,
   "id": "79eb8217",
   "metadata": {},
   "outputs": [
    {
     "data": {
      "text/plain": [
       "{}"
      ]
     },
     "execution_count": 51,
     "metadata": {},
     "output_type": "execute_result"
    }
   ],
   "source": [
    "yash.__dict__"
   ]
  },
  {
   "cell_type": "code",
   "execution_count": 52,
   "id": "5e2629da",
   "metadata": {},
   "outputs": [
    {
     "data": {
      "text/plain": [
       "<__main__.Summerform at 0x1bc4cd86bf0>"
      ]
     },
     "execution_count": 52,
     "metadata": {},
     "output_type": "execute_result"
    }
   ],
   "source": [
    "yash"
   ]
  },
  {
   "cell_type": "code",
   "execution_count": 53,
   "id": "b349e0e7",
   "metadata": {},
   "outputs": [
    {
     "data": {
      "text/plain": [
       "1908254731248"
      ]
     },
     "execution_count": 53,
     "metadata": {},
     "output_type": "execute_result"
    }
   ],
   "source": [
    "id(yash)"
   ]
  },
  {
   "cell_type": "code",
   "execution_count": 54,
   "id": "0ae0c213",
   "metadata": {},
   "outputs": [
    {
     "data": {
      "text/plain": [
       "1908212343680"
      ]
     },
     "execution_count": 54,
     "metadata": {},
     "output_type": "execute_result"
    }
   ],
   "source": [
    "id(rahul)"
   ]
  },
  {
   "cell_type": "code",
   "execution_count": 55,
   "id": "28d2a33a",
   "metadata": {},
   "outputs": [],
   "source": [
    "#what to do? Change access\n",
    "yash.city =\"Jaipur\""
   ]
  },
  {
   "cell_type": "code",
   "execution_count": 56,
   "id": "1c13041e",
   "metadata": {},
   "outputs": [
    {
     "data": {
      "text/plain": [
       "{'city': 'Jaipur'}"
      ]
     },
     "execution_count": 56,
     "metadata": {},
     "output_type": "execute_result"
    }
   ],
   "source": [
    "yash.__dict__"
   ]
  },
  {
   "cell_type": "code",
   "execution_count": 97,
   "id": "3a85f257",
   "metadata": {},
   "outputs": [],
   "source": [
    "class SummerForm:\n",
    "    name = None\n",
    "    whatsapp = None\n",
    "    enquiry = None\n",
    "    \n",
    "    def changename(mymem,n):\n",
    "        mymem.name=n\n",
    "    def whatsapp(mymem,w):\n",
    "        mymem.whatsapp=w\n",
    "    def enquiry(mymem,e):\n",
    "        mymem.enquiry=e\n",
    "        \n",
    "    "
   ]
  },
  {
   "cell_type": "code",
   "execution_count": 98,
   "id": "10a15bdb",
   "metadata": {},
   "outputs": [],
   "source": [
    "jack=SummerForm()"
   ]
  },
  {
   "cell_type": "code",
   "execution_count": 99,
   "id": "a07fa4db",
   "metadata": {},
   "outputs": [
    {
     "data": {
      "text/plain": [
       "<__main__.SummerForm at 0x1bc4cda75b0>"
      ]
     },
     "execution_count": 99,
     "metadata": {},
     "output_type": "execute_result"
    }
   ],
   "source": [
    "jack"
   ]
  },
  {
   "cell_type": "code",
   "execution_count": 100,
   "id": "15a2a170",
   "metadata": {},
   "outputs": [
    {
     "data": {
      "text/plain": [
       "{}"
      ]
     },
     "execution_count": 100,
     "metadata": {},
     "output_type": "execute_result"
    }
   ],
   "source": [
    "jack.__dict__"
   ]
  },
  {
   "cell_type": "code",
   "execution_count": 101,
   "id": "4af04fe0",
   "metadata": {},
   "outputs": [],
   "source": [
    "jack.changename('Jack')"
   ]
  },
  {
   "cell_type": "code",
   "execution_count": 102,
   "id": "c4888191",
   "metadata": {},
   "outputs": [
    {
     "data": {
      "text/plain": [
       "{'name': 'Jack'}"
      ]
     },
     "execution_count": 102,
     "metadata": {},
     "output_type": "execute_result"
    }
   ],
   "source": [
    "jack.__dict__"
   ]
  },
  {
   "cell_type": "code",
   "execution_count": 103,
   "id": "460dc952",
   "metadata": {},
   "outputs": [],
   "source": [
    "jack.whatsapp(9329034233)"
   ]
  },
  {
   "cell_type": "code",
   "execution_count": 104,
   "id": "e5d03ed3",
   "metadata": {},
   "outputs": [],
   "source": [
    "jack.enquiry(True)"
   ]
  },
  {
   "cell_type": "code",
   "execution_count": 105,
   "id": "360355ce",
   "metadata": {},
   "outputs": [
    {
     "data": {
      "text/plain": [
       "{'name': 'Jack', 'whatsapp': 9329034233, 'enquiry': True}"
      ]
     },
     "execution_count": 105,
     "metadata": {},
     "output_type": "execute_result"
    }
   ],
   "source": [
    "jack.__dict__"
   ]
  },
  {
   "cell_type": "code",
   "execution_count": 115,
   "id": "5c1ca826",
   "metadata": {},
   "outputs": [],
   "source": [
    "class SummerForm:\n",
    "    name = None\n",
    "    whatsapp = None\n",
    "    enquiry = None\n",
    "    \n",
    "    def setname(self,n):\n",
    "        self.name=n\n",
    "    def setwhatsapp(self,w):\n",
    "        self.whatsapp=w\n",
    "    def setenquiry(self,e):\n",
    "        self.enquiry=e\n",
    "    def getname(self):\n",
    "        return self.name\n",
    "    def getwhatsapp(self):\n",
    "        return self.whatsapp\n",
    "    def getsenquiry(self):\n",
    "        return self.enquiry"
   ]
  },
  {
   "cell_type": "code",
   "execution_count": 116,
   "id": "49e4ea93",
   "metadata": {},
   "outputs": [],
   "source": [
    "rahul=SummerForm()"
   ]
  },
  {
   "cell_type": "code",
   "execution_count": 117,
   "id": "b0b6c144",
   "metadata": {},
   "outputs": [],
   "source": [
    "rahul.setname(\"Rahul Sharma\")\n",
    "rahul.setwhatsapp(9341093401)\n",
    "rahul.setenquiry(False)"
   ]
  },
  {
   "cell_type": "code",
   "execution_count": 118,
   "id": "a000f51e",
   "metadata": {},
   "outputs": [
    {
     "data": {
      "text/plain": [
       "'Rahul Sharma'"
      ]
     },
     "execution_count": 118,
     "metadata": {},
     "output_type": "execute_result"
    }
   ],
   "source": [
    "rahul.getname()"
   ]
  },
  {
   "cell_type": "code",
   "execution_count": 119,
   "id": "1783af3d",
   "metadata": {},
   "outputs": [
    {
     "data": {
      "text/plain": [
       "9341093401"
      ]
     },
     "execution_count": 119,
     "metadata": {},
     "output_type": "execute_result"
    }
   ],
   "source": [
    "rahul.getwhatsapp()"
   ]
  },
  {
   "cell_type": "code",
   "execution_count": 121,
   "id": "541aac06",
   "metadata": {},
   "outputs": [
    {
     "data": {
      "text/plain": [
       "False"
      ]
     },
     "execution_count": 121,
     "metadata": {},
     "output_type": "execute_result"
    }
   ],
   "source": [
    "rahul.getsenquiry()"
   ]
  },
  {
   "cell_type": "code",
   "execution_count": 122,
   "id": "0260442c",
   "metadata": {},
   "outputs": [],
   "source": [
    "#rahul.city=\"Jaipur\""
   ]
  },
  {
   "cell_type": "code",
   "execution_count": 124,
   "id": "47002dae",
   "metadata": {},
   "outputs": [
    {
     "data": {
      "text/plain": [
       "{'name': 'Rahul Sharma',\n",
       " 'whatsapp': 9341093401,\n",
       " 'enquiry': False,\n",
       " 'city': 'Jaipur'}"
      ]
     },
     "execution_count": 124,
     "metadata": {},
     "output_type": "execute_result"
    }
   ],
   "source": [
    "rahul.__dict__"
   ]
  },
  {
   "cell_type": "code",
   "execution_count": 125,
   "id": "c91e85ac",
   "metadata": {},
   "outputs": [],
   "source": [
    "rahul.city=None"
   ]
  },
  {
   "cell_type": "code",
   "execution_count": 127,
   "id": "02ed8d7c",
   "metadata": {},
   "outputs": [
    {
     "data": {
      "text/plain": [
       "{'name': 'Rahul Sharma',\n",
       " 'whatsapp': 9341093401,\n",
       " 'enquiry': False,\n",
       " 'city': None}"
      ]
     },
     "execution_count": 127,
     "metadata": {},
     "output_type": "execute_result"
    }
   ],
   "source": [
    "rahul.__dict__"
   ]
  },
  {
   "cell_type": "code",
   "execution_count": 129,
   "id": "83e3ea9b",
   "metadata": {},
   "outputs": [
    {
     "data": {
      "text/plain": [
       "'Rahul Sharma'"
      ]
     },
     "execution_count": 129,
     "metadata": {},
     "output_type": "execute_result"
    }
   ],
   "source": [
    "rahul.getname()"
   ]
  },
  {
   "cell_type": "code",
   "execution_count": 130,
   "id": "52dbb6b2",
   "metadata": {},
   "outputs": [],
   "source": [
    "rahul.xyz='xyz'"
   ]
  },
  {
   "cell_type": "code",
   "execution_count": 131,
   "id": "e20e9fc6",
   "metadata": {},
   "outputs": [
    {
     "data": {
      "text/plain": [
       "{'name': 'Rahul Sharma',\n",
       " 'whatsapp': 9341093401,\n",
       " 'enquiry': False,\n",
       " 'city': None,\n",
       " 'xyz': 'xyz'}"
      ]
     },
     "execution_count": 131,
     "metadata": {},
     "output_type": "execute_result"
    }
   ],
   "source": [
    "rahul.__dict__"
   ]
  },
  {
   "cell_type": "code",
   "execution_count": null,
   "id": "e8b7b116",
   "metadata": {},
   "outputs": [],
   "source": []
  }
 ],
 "metadata": {
  "kernelspec": {
   "display_name": "Python 3 (ipykernel)",
   "language": "python",
   "name": "python3"
  },
  "language_info": {
   "codemirror_mode": {
    "name": "ipython",
    "version": 3
   },
   "file_extension": ".py",
   "mimetype": "text/x-python",
   "name": "python",
   "nbconvert_exporter": "python",
   "pygments_lexer": "ipython3",
   "version": "3.10.9"
  }
 },
 "nbformat": 4,
 "nbformat_minor": 5
}
