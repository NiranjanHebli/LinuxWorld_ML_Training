{
 "cells": [
  {
   "cell_type": "code",
   "execution_count": null,
   "id": "d6a080e8",
   "metadata": {},
   "outputs": [],
   "source": [
    "# Send whatsapp message using python \n",
    "\n",
    "import pywhatkit\n",
    "\n",
    "phone_number = \"\" # Add your phone number here\n",
    "message = \"Hello, this is an automated message.\"\n",
    "hours=int(input(\"Enter your time in hours\"))\n",
    "minutes=int(input(\"Enter your time in minutes\"))\n",
    "pywhatkit.sendwhatmsg(phone_number, message,hours,minutes)"
   ]
  },
  {
   "cell_type": "code",
   "execution_count": null,
   "id": "520ec034",
   "metadata": {},
   "outputs": [],
   "source": [
    "#Send Email using python\n",
    "\n",
    "import smtplib\n",
    "from email.mime.multipart import MIMEMultipart\n",
    "from email.mime.text import MIMEText\n",
    "/\n",
    "def send_email(sender_email, sender_password, receiver_email, subject, message):\n",
    "    # Set up the SMTP server\n",
    "    smtp_server = \"smtp.gmail.com\"  # Example for Gmail SMTP server. Update for other providers.\n",
    "\n",
    "    # Create a multipart message\n",
    "    msg = MIMEMultipart()\n",
    "    msg[\"From\"] = sender_email\n",
    "    msg[\"To\"] = receiver_email\n",
    "    msg[\"Subject\"] = subject\n",
    "\n",
    "    # Add message body\n",
    "    msg.attach(MIMEText(message, \"plain\"))\n",
    "\n",
    "    try:\n",
    "        # Login to the email account\n",
    "        server = smtplib.SMTP(smtp_server, 587)\n",
    "        server.starttls()\n",
    "        server.login(sender_email, sender_password)\n",
    "\n",
    "        # Send email\n",
    "        server.send_message(msg)\n",
    "        print(\"Email sent successfully!\")\n",
    "\n",
    "    except Exception as e:\n",
    "        print(\"An error occurred while sending the email:\", str(e))\n",
    "\n",
    "    finally:\n",
    "        # Cleanup\n",
    "        server.quit()\n",
    "\n",
    "# Example usage\n",
    "# sender_email = \"your_email@gmail.com\"\n",
    "# sender_password = \"your_password\"\n",
    "# receiver_email = \"recipient_email@example.com\"\n",
    "# subject = \"Hello from Python!\"\n",
    "# message = \"This is a test email sent from Python.\"\n",
    "\n",
    "send_email(sender_email, sender_password, receiver_email, subject, message)"
   ]
  },
  {
   "cell_type": "code",
   "execution_count": null,
   "id": "afb24be9",
   "metadata": {},
   "outputs": [],
   "source": [
    "# Send SMS using python\n",
    "from twilio.rest import Client\n",
    "\n",
    "account_sid = \"\"\n",
    "auth_token = \"\"\n",
    "client = Client(account_sid, auth_token)\n",
    "\n",
    "message = client.messages.create(\n",
    "  from_='whatsapp:', # phone number of the sender \n",
    "  body='',# add content tobe there in sms \n",
    "  to='whatsapp:'# phone number of the receiver \n",
    ")\n",
    "\n",
    "print(message.sid)"
   ]
  },
  {
   "cell_type": "code",
   "execution_count": null,
   "id": "f9e045fc",
   "metadata": {},
   "outputs": [],
   "source": [
    "# How to store the output of a command in a variable using Python\n",
    "\n",
    "import os\n",
    "f = os.popen(\"date\").read()\n",
    "print(f)"
   ]
  },
  {
   "cell_type": "code",
   "execution_count": null,
   "id": "716088b2",
   "metadata": {},
   "outputs": [],
   "source": [
    "#Create your very own API using any technologies you're familiar with. You can start by running commands like date, cal, docker, and more.\n",
    "\n",
    "#!/usr/bin/python3\n",
    "import subprocess\n",
    "import cgi\n",
    "\n",
    "print(\"content-type: text/html\")\n",
    "print()\n",
    "form = cgi.FieldStorage()\n",
    "cmd = form.getvalue(\"c\")\n",
    "output = subprocess.getoutput(cmd)\n",
    "print(\"<pre>\"+output+\"</pre>\")"
   ]
  }
 ],
 "metadata": {
  "kernelspec": {
   "display_name": "Python 3 (ipykernel)",
   "language": "python",
   "name": "python3"
  },
  "language_info": {
   "codemirror_mode": {
    "name": "ipython",
    "version": 3
   },
   "file_extension": ".py",
   "mimetype": "text/x-python",
   "name": "python",
   "nbconvert_exporter": "python",
   "pygments_lexer": "ipython3",
   "version": "3.10.9"
  }
 },
 "nbformat": 4,
 "nbformat_minor": 5
}
