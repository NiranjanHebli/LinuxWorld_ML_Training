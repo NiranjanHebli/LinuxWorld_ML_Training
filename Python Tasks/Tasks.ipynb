{
 "cells": [
  {
   "cell_type": "code",
   "execution_count": null,
   "id": "d6a080e8",
   "metadata": {},
   "outputs": [],
   "source": [
    "# Send whatsapp message using python \n",
    "\n",
    "import pywhatkit\n",
    "\n",
    "phone_number = \"\" # Add your phone number here\n",
    "message = \"Hello, this is an automated message.\"\n",
    "hours=int(input(\"Enter your time in hours\"))\n",
    "minutes=int(input(\"Enter your time in minutes\"))\n",
    "pywhatkit.sendwhatmsg(phone_number, message,hours,minutes)"
   ]
  },
  {
   "cell_type": "code",
   "execution_count": null,
   "id": "520ec034",
   "metadata": {},
   "outputs": [],
   "source": [
    "#Send Email using python\n",
    "\n",
    "import smtplib\n",
    "from email.mime.multipart import MIMEMultipart\n",
    "from email.mime.text import MIMEText\n",
    "/\n",
    "def send_email(sender_email, sender_password, receiver_email, subject, message):\n",
    "    # Set up the SMTP server\n",
    "    smtp_server = \"smtp.gmail.com\"  # Example for Gmail SMTP server. Update for other providers.\n",
    "\n",
    "    # Create a multipart message\n",
    "    msg = MIMEMultipart()\n",
    "    msg[\"From\"] = sender_email\n",
    "    msg[\"To\"] = receiver_email\n",
    "    msg[\"Subject\"] = subject\n",
    "\n",
    "    # Add message body\n",
    "    msg.attach(MIMEText(message, \"plain\"))\n",
    "\n",
    "    try:\n",
    "        # Login to the email account\n",
    "        server = smtplib.SMTP(smtp_server, 587)\n",
    "        server.starttls()\n",
    "        server.login(sender_email, sender_password)\n",
    "\n",
    "        # Send email\n",
    "        server.send_message(msg)\n",
    "        print(\"Email sent successfully!\")\n",
    "\n",
    "    except Exception as e:\n",
    "        print(\"An error occurred while sending the email:\", str(e))\n",
    "\n",
    "    finally:\n",
    "        # Cleanup\n",
    "        server.quit()\n",
    "\n",
    "# Example usage\n",
    "# sender_email = \"your_email@gmail.com\"\n",
    "# sender_password = \"your_password\"\n",
    "# receiver_email = \"recipient_email@example.com\"\n",
    "# subject = \"Hello from Python!\"\n",
    "# message = \"This is a test email sent from Python.\"\n",
    "\n",
    "send_email(sender_email, sender_password, receiver_email, subject, message)"
   ]
  },
  {
   "cell_type": "code",
   "execution_count": 5,
   "id": "7f947e52",
   "metadata": {},
   "outputs": [
    {
     "ename": "ModuleNotFoundError",
     "evalue": "No module named 'twilio'",
     "output_type": "error",
     "traceback": [
      "\u001b[1;31m---------------------------------------------------------------------------\u001b[0m",
      "\u001b[1;31mModuleNotFoundError\u001b[0m                       Traceback (most recent call last)",
      "Cell \u001b[1;32mIn[5], line 1\u001b[0m\n\u001b[1;32m----> 1\u001b[0m \u001b[38;5;28;01mfrom\u001b[39;00m \u001b[38;5;21;01mtwilio\u001b[39;00m\u001b[38;5;21;01m.\u001b[39;00m\u001b[38;5;21;01mrest\u001b[39;00m \u001b[38;5;28;01mimport\u001b[39;00m Client\n\u001b[0;32m      2\u001b[0m client \u001b[38;5;241m=\u001b[39m Client(\u001b[38;5;124m'\u001b[39m\u001b[38;5;124mACbd0e61c8c0f338e343aa57a1bbb2ba51\u001b[39m\u001b[38;5;124m'\u001b[39m, \u001b[38;5;124m'\u001b[39m\u001b[38;5;124m844f99628b4ae0685121632e61cec880\u001b[39m\u001b[38;5;124m'\u001b[39m)\n\u001b[0;32m      3\u001b[0m msg \u001b[38;5;241m=\u001b[39m client\u001b[38;5;241m.\u001b[39mmessages\u001b[38;5;241m.\u001b[39mcreate(body\u001b[38;5;241m=\u001b[39m\u001b[38;5;124m'\u001b[39m\u001b[38;5;124mYour message\u001b[39m\u001b[38;5;124m'\u001b[39m, from_\u001b[38;5;241m=\u001b[39m\u001b[38;5;124m'\u001b[39m\u001b[38;5;124mwhatsapp:+14155238886\u001b[39m\u001b[38;5;124m'\u001b[39m, to\u001b[38;5;241m=\u001b[39m\u001b[38;5;124m'\u001b[39m\u001b[38;5;124mwhatsapp:+917028148667\u001b[39m\u001b[38;5;124m'\u001b[39m)\n",
      "\u001b[1;31mModuleNotFoundError\u001b[0m: No module named 'twilio'"
     ]
    }
   ],
   "source": [
    "from twilio.rest import Client\n",
    "client = Client('ACbd0e61c8c0f338e343aa57a1bbb2ba51', '844f99628b4ae0685121632e61cec880')\n",
    "msg = client.messages.create(body='Your message', from_='whatsapp:+14155238886', to='whatsapp:+917028148667')"
   ]
  },
  {
   "cell_type": "code",
   "execution_count": null,
   "id": "4abdba9e",
   "metadata": {},
   "outputs": [],
   "source": [
    "! pip uninstall twilio"
   ]
  },
  {
   "cell_type": "code",
   "execution_count": null,
   "id": "afb24be9",
   "metadata": {},
   "outputs": [],
   "source": [
    "# Send SMS using python\n",
    "from twilio.rest import Client\n",
    "\n",
    "account_sid = \"\"\n",
    "auth_token = \"\"\n",
    "client = Client(account_sid, auth_token)\n",
    "\n",
    "message = client.messages.create(\n",
    "  from_='whatsapp:', # phone number of the sender \n",
    "  body='',# add content tobe there in sms \n",
    "  to='whatsapp:'# phone number of the receiver \n",
    ")\n",
    "\n",
    "print(message.sid)"
   ]
  },
  {
   "cell_type": "code",
   "execution_count": null,
   "id": "f9e045fc",
   "metadata": {},
   "outputs": [],
   "source": [
    "# How to store the output of a command in a variable using Python\n",
    "\n",
    "import os\n",
    "f = os.popen(\"date\").read()\n",
    "print(f)"
   ]
  },
  {
   "cell_type": "code",
   "execution_count": null,
   "id": "716088b2",
   "metadata": {},
   "outputs": [],
   "source": [
    "#Create your very own API using any technologies you're familiar with. You can start by running commands like date, cal, docker, and more.\n",
    "\n",
    "#!/usr/bin/python3\n",
    "import subprocess\n",
    "import cgi\n",
    "\n",
    "print(\"content-type: text/html\")\n",
    "print()\n",
    "form = cgi.FieldStorage()\n",
    "cmd = form.getvalue(\"c\")\n",
    "output = subprocess.getoutput(cmd)\n",
    "print(\"<pre>\"+output+\"</pre>\")"
   ]
  }
 ],
 "metadata": {
  "kernelspec": {
   "display_name": "Python 3 (ipykernel)",
   "language": "python",
   "name": "python3"
  },
  "language_info": {
   "codemirror_mode": {
    "name": "ipython",
    "version": 3
   },
   "file_extension": ".py",
   "mimetype": "text/x-python",
   "name": "python",
   "nbconvert_exporter": "python",
   "pygments_lexer": "ipython3",
   "version": "3.10.9"
  }
 },
 "nbformat": 4,
 "nbformat_minor": 5
}
