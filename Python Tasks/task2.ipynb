{
 "cells": [
  {
   "cell_type": "code",
   "execution_count": 3,
   "id": "045ccecb",
   "metadata": {},
   "outputs": [],
   "source": [
    "import subprocess\n",
    "\n",
    "command = \"date\"  \n",
    "\n",
    "process = subprocess.Popen(command, stdout=subprocess.PIPE, shell=True)\n",
    "output, error = process.communicate()\n",
    "\n",
    "file_path = \"output.txt\"\n",
    "try:\n",
    "    with open(file_path, \"w\") as file:\n",
    "        file.write(output.decode())\n",
    "except:\n",
    "    print(error)\n",
    "finally:\n",
    "    pass"
   ]
  },
  {
   "cell_type": "code",
   "execution_count": 4,
   "id": "1ca799bd",
   "metadata": {},
   "outputs": [],
   "source": [
    "import subprocess\n",
    "\n",
    "command = \"date\"  \n",
    "\n",
    "process = subprocess.Popen(command, stdout=subprocess.PIPE, shell=True)\n",
    "output, error = process.communicate()\n",
    "\n",
    "file_path = \"output.txt\"\n",
    "try:\n",
    "    with open(file_path, \"w\") as file:\n",
    "        file.write(output.decode())\n",
    "except:\n",
    "    print(error)\n",
    "finally:\n",
    "    pass"
   ]
  },
  {
   "cell_type": "code",
   "execution_count": null,
   "id": "d58b0e12",
   "metadata": {},
   "outputs": [],
   "source": []
  }
 ],
 "metadata": {
  "kernelspec": {
   "display_name": "Python 3 (ipykernel)",
   "language": "python",
   "name": "python3"
  },
  "language_info": {
   "codemirror_mode": {
    "name": "ipython",
    "version": 3
   },
   "file_extension": ".py",
   "mimetype": "text/x-python",
   "name": "python",
   "nbconvert_exporter": "python",
   "pygments_lexer": "ipython3",
   "version": "3.10.9"
  }
 },
 "nbformat": 4,
 "nbformat_minor": 5
}
