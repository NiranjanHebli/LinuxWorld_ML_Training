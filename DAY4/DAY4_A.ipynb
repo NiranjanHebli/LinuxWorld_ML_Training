{
 "cells": [
  {
   "cell_type": "markdown",
   "id": "a720a96c",
   "metadata": {},
   "source": [
    "## TASKS:\n",
    "\n",
    " Find python libraries to send:- \n",
    " \n",
    " 1)Whatsapp messages\n",
    " \n",
    " 2)Emails\n",
    " \n",
    " 3)SMS\n",
    " \n",
    " ANSWERS:-\n",
    " \n",
    " 1)pywhatkit\n",
    " 2)smtplib\n",
    " 3)SinchSMS \n",
    " "
   ]
  },
  {
   "cell_type": "code",
   "execution_count": 1,
   "id": "cfb980c3",
   "metadata": {},
   "outputs": [],
   "source": [
    "names=['vimal','abhi','harry','tom']"
   ]
  },
  {
   "cell_type": "code",
   "execution_count": 2,
   "id": "753edf18",
   "metadata": {},
   "outputs": [
    {
     "data": {
      "text/plain": [
       "['vimal', 'abhi', 'harry', 'tom']"
      ]
     },
     "execution_count": 2,
     "metadata": {},
     "output_type": "execute_result"
    }
   ],
   "source": [
    "names"
   ]
  },
  {
   "cell_type": "code",
   "execution_count": 3,
   "id": "de50c158",
   "metadata": {},
   "outputs": [],
   "source": [
    "cname=names\n",
    "# cname is Reference of names "
   ]
  },
  {
   "cell_type": "code",
   "execution_count": 4,
   "id": "28c36ace",
   "metadata": {},
   "outputs": [
    {
     "data": {
      "text/plain": [
       "['vimal', 'abhi', 'harry', 'tom']"
      ]
     },
     "execution_count": 4,
     "metadata": {},
     "output_type": "execute_result"
    }
   ],
   "source": [
    "names"
   ]
  },
  {
   "cell_type": "code",
   "execution_count": 5,
   "id": "942e030e",
   "metadata": {},
   "outputs": [
    {
     "data": {
      "text/plain": [
       "['vimal', 'abhi', 'harry', 'tom']"
      ]
     },
     "execution_count": 5,
     "metadata": {},
     "output_type": "execute_result"
    }
   ],
   "source": [
    "cname"
   ]
  },
  {
   "cell_type": "code",
   "execution_count": 6,
   "id": "cbd89278",
   "metadata": {},
   "outputs": [],
   "source": [
    "cname[1]='harry'"
   ]
  },
  {
   "cell_type": "code",
   "execution_count": 7,
   "id": "015fefc0",
   "metadata": {},
   "outputs": [
    {
     "data": {
      "text/plain": [
       "['vimal', 'harry', 'harry', 'tom']"
      ]
     },
     "execution_count": 7,
     "metadata": {},
     "output_type": "execute_result"
    }
   ],
   "source": [
    "cname"
   ]
  },
  {
   "cell_type": "code",
   "execution_count": 8,
   "id": "a2244d8f",
   "metadata": {},
   "outputs": [
    {
     "data": {
      "text/plain": [
       "['vimal', 'harry', 'harry', 'tom']"
      ]
     },
     "execution_count": 8,
     "metadata": {},
     "output_type": "execute_result"
    }
   ],
   "source": [
    "names"
   ]
  },
  {
   "cell_type": "code",
   "execution_count": 9,
   "id": "392f20e1",
   "metadata": {},
   "outputs": [],
   "source": [
    "a=[1,2,3,4]"
   ]
  },
  {
   "cell_type": "code",
   "execution_count": 10,
   "id": "63e5b6c8",
   "metadata": {},
   "outputs": [
    {
     "data": {
      "text/plain": [
       "[1, 2, 3, 4]"
      ]
     },
     "execution_count": 10,
     "metadata": {},
     "output_type": "execute_result"
    }
   ],
   "source": [
    "a"
   ]
  },
  {
   "cell_type": "code",
   "execution_count": 11,
   "id": "a109b0d4",
   "metadata": {},
   "outputs": [
    {
     "data": {
      "text/plain": [
       "1434030187456"
      ]
     },
     "execution_count": 11,
     "metadata": {},
     "output_type": "execute_result"
    }
   ],
   "source": [
    "id(a)"
   ]
  },
  {
   "cell_type": "code",
   "execution_count": 12,
   "id": "33a82a10",
   "metadata": {},
   "outputs": [
    {
     "data": {
      "text/plain": [
       "1433949438192"
      ]
     },
     "execution_count": 12,
     "metadata": {},
     "output_type": "execute_result"
    }
   ],
   "source": [
    "id(a[0])"
   ]
  },
  {
   "cell_type": "code",
   "execution_count": 13,
   "id": "2f9ef399",
   "metadata": {},
   "outputs": [
    {
     "data": {
      "text/plain": [
       "1433949438224"
      ]
     },
     "execution_count": 13,
     "metadata": {},
     "output_type": "execute_result"
    }
   ],
   "source": [
    "id(a[1])"
   ]
  },
  {
   "cell_type": "code",
   "execution_count": 14,
   "id": "1f8b4b9e",
   "metadata": {},
   "outputs": [],
   "source": [
    "b=a"
   ]
  },
  {
   "cell_type": "code",
   "execution_count": 15,
   "id": "595bb009",
   "metadata": {},
   "outputs": [
    {
     "data": {
      "text/plain": [
       "[1, 2, 3, 4]"
      ]
     },
     "execution_count": 15,
     "metadata": {},
     "output_type": "execute_result"
    }
   ],
   "source": [
    "b"
   ]
  },
  {
   "cell_type": "code",
   "execution_count": 16,
   "id": "17543787",
   "metadata": {},
   "outputs": [
    {
     "data": {
      "text/plain": [
       "1434030187456"
      ]
     },
     "execution_count": 16,
     "metadata": {},
     "output_type": "execute_result"
    }
   ],
   "source": [
    "id(b)"
   ]
  },
  {
   "cell_type": "code",
   "execution_count": 17,
   "id": "1fff9e65",
   "metadata": {},
   "outputs": [
    {
     "data": {
      "text/plain": [
       "1434030187456"
      ]
     },
     "execution_count": 17,
     "metadata": {},
     "output_type": "execute_result"
    }
   ],
   "source": [
    "id(a)"
   ]
  },
  {
   "cell_type": "code",
   "execution_count": 18,
   "id": "69caf6e0",
   "metadata": {},
   "outputs": [
    {
     "data": {
      "text/plain": [
       "3"
      ]
     },
     "execution_count": 18,
     "metadata": {},
     "output_type": "execute_result"
    }
   ],
   "source": [
    "b[2]"
   ]
  },
  {
   "cell_type": "code",
   "execution_count": 19,
   "id": "c03822d2",
   "metadata": {},
   "outputs": [],
   "source": [
    "b[2]=3333"
   ]
  },
  {
   "cell_type": "code",
   "execution_count": 20,
   "id": "402b0148",
   "metadata": {},
   "outputs": [
    {
     "data": {
      "text/plain": [
       "3333"
      ]
     },
     "execution_count": 20,
     "metadata": {},
     "output_type": "execute_result"
    }
   ],
   "source": [
    "a[2]"
   ]
  },
  {
   "cell_type": "code",
   "execution_count": 21,
   "id": "d85b0d18",
   "metadata": {},
   "outputs": [
    {
     "data": {
      "text/plain": [
       "3333"
      ]
     },
     "execution_count": 21,
     "metadata": {},
     "output_type": "execute_result"
    }
   ],
   "source": [
    "b[2]"
   ]
  },
  {
   "cell_type": "code",
   "execution_count": 22,
   "id": "8be6d4b4",
   "metadata": {},
   "outputs": [],
   "source": [
    "b=a[:] #shallow copy"
   ]
  },
  {
   "cell_type": "code",
   "execution_count": 23,
   "id": "e937d5f7",
   "metadata": {},
   "outputs": [
    {
     "data": {
      "text/plain": [
       "[1, 2, 3333, 4]"
      ]
     },
     "execution_count": 23,
     "metadata": {},
     "output_type": "execute_result"
    }
   ],
   "source": [
    "b"
   ]
  },
  {
   "cell_type": "code",
   "execution_count": 24,
   "id": "0602d6e3",
   "metadata": {},
   "outputs": [
    {
     "data": {
      "text/plain": [
       "[1, 2, 3333, 4]"
      ]
     },
     "execution_count": 24,
     "metadata": {},
     "output_type": "execute_result"
    }
   ],
   "source": [
    "a"
   ]
  },
  {
   "cell_type": "code",
   "execution_count": 25,
   "id": "80c59e6f",
   "metadata": {},
   "outputs": [],
   "source": [
    "b[3]=3"
   ]
  },
  {
   "cell_type": "code",
   "execution_count": 26,
   "id": "f9591656",
   "metadata": {},
   "outputs": [
    {
     "data": {
      "text/plain": [
       "3"
      ]
     },
     "execution_count": 26,
     "metadata": {},
     "output_type": "execute_result"
    }
   ],
   "source": [
    "b[3]"
   ]
  },
  {
   "cell_type": "code",
   "execution_count": 27,
   "id": "02e913a6",
   "metadata": {},
   "outputs": [
    {
     "data": {
      "text/plain": [
       "4"
      ]
     },
     "execution_count": 27,
     "metadata": {},
     "output_type": "execute_result"
    }
   ],
   "source": [
    "a[3]"
   ]
  },
  {
   "cell_type": "code",
   "execution_count": 28,
   "id": "d03091dc",
   "metadata": {},
   "outputs": [
    {
     "data": {
      "text/plain": [
       "[1, 2, 3333, 4]"
      ]
     },
     "execution_count": 28,
     "metadata": {},
     "output_type": "execute_result"
    }
   ],
   "source": [
    "\n",
    "a"
   ]
  },
  {
   "cell_type": "code",
   "execution_count": 29,
   "id": "8715db14",
   "metadata": {},
   "outputs": [
    {
     "data": {
      "text/plain": [
       "[1, 2, 3333, 3]"
      ]
     },
     "execution_count": 29,
     "metadata": {},
     "output_type": "execute_result"
    }
   ],
   "source": [
    "b"
   ]
  },
  {
   "cell_type": "code",
   "execution_count": 30,
   "id": "79e17fd2",
   "metadata": {},
   "outputs": [
    {
     "data": {
      "text/plain": [
       "1434030294720"
      ]
     },
     "execution_count": 30,
     "metadata": {},
     "output_type": "execute_result"
    }
   ],
   "source": [
    "id(b)"
   ]
  },
  {
   "cell_type": "code",
   "execution_count": 31,
   "id": "5929c443",
   "metadata": {},
   "outputs": [
    {
     "data": {
      "text/plain": [
       "1434030187456"
      ]
     },
     "execution_count": 31,
     "metadata": {},
     "output_type": "execute_result"
    }
   ],
   "source": [
    "id(a)"
   ]
  },
  {
   "cell_type": "code",
   "execution_count": 32,
   "id": "44abbbca",
   "metadata": {},
   "outputs": [],
   "source": [
    "import copy"
   ]
  },
  {
   "cell_type": "code",
   "execution_count": 33,
   "id": "cc37b16a",
   "metadata": {},
   "outputs": [],
   "source": [
    "d=copy.copy(a)"
   ]
  },
  {
   "cell_type": "code",
   "execution_count": 34,
   "id": "9b46aa44",
   "metadata": {},
   "outputs": [
    {
     "data": {
      "text/plain": [
       "[1, 2, 3333, 4]"
      ]
     },
     "execution_count": 34,
     "metadata": {},
     "output_type": "execute_result"
    }
   ],
   "source": [
    "d"
   ]
  },
  {
   "cell_type": "code",
   "execution_count": 35,
   "id": "2c674497",
   "metadata": {},
   "outputs": [
    {
     "data": {
      "text/plain": [
       "[1, 2, 3333, 4]"
      ]
     },
     "execution_count": 35,
     "metadata": {},
     "output_type": "execute_result"
    }
   ],
   "source": [
    "a"
   ]
  },
  {
   "cell_type": "code",
   "execution_count": 36,
   "id": "1ceb2f9e",
   "metadata": {},
   "outputs": [],
   "source": [
    "a[2]=3"
   ]
  },
  {
   "cell_type": "code",
   "execution_count": 37,
   "id": "59d5f9aa",
   "metadata": {},
   "outputs": [
    {
     "data": {
      "text/plain": [
       "[1, 2, 3, 4]"
      ]
     },
     "execution_count": 37,
     "metadata": {},
     "output_type": "execute_result"
    }
   ],
   "source": [
    "a"
   ]
  },
  {
   "cell_type": "code",
   "execution_count": 38,
   "id": "7b7a0518",
   "metadata": {},
   "outputs": [
    {
     "data": {
      "text/plain": [
       "[1, 2, 3333, 3]"
      ]
     },
     "execution_count": 38,
     "metadata": {},
     "output_type": "execute_result"
    }
   ],
   "source": [
    "b"
   ]
  },
  {
   "cell_type": "code",
   "execution_count": 39,
   "id": "c6fe62e4",
   "metadata": {},
   "outputs": [
    {
     "data": {
      "text/plain": [
       "[1, 2, 3333, 4]"
      ]
     },
     "execution_count": 39,
     "metadata": {},
     "output_type": "execute_result"
    }
   ],
   "source": [
    "d"
   ]
  },
  {
   "cell_type": "code",
   "execution_count": 40,
   "id": "014448c6",
   "metadata": {},
   "outputs": [],
   "source": [
    "db=[1,\"vimal\",[98291,11111]]"
   ]
  },
  {
   "cell_type": "code",
   "execution_count": 41,
   "id": "8295dbc4",
   "metadata": {},
   "outputs": [],
   "source": [
    "lwdb=copy.copy(db) #shallow copy"
   ]
  },
  {
   "cell_type": "code",
   "execution_count": 42,
   "id": "62cbd5ac",
   "metadata": {},
   "outputs": [
    {
     "data": {
      "text/plain": [
       "[1, 'vimal', [98291, 11111]]"
      ]
     },
     "execution_count": 42,
     "metadata": {},
     "output_type": "execute_result"
    }
   ],
   "source": [
    "lwdb"
   ]
  },
  {
   "cell_type": "code",
   "execution_count": 43,
   "id": "9727528c",
   "metadata": {},
   "outputs": [
    {
     "data": {
      "text/plain": [
       "1434030289856"
      ]
     },
     "execution_count": 43,
     "metadata": {},
     "output_type": "execute_result"
    }
   ],
   "source": [
    "id(lwdb)"
   ]
  },
  {
   "cell_type": "code",
   "execution_count": 44,
   "id": "5da4fbf1",
   "metadata": {},
   "outputs": [
    {
     "data": {
      "text/plain": [
       "1434030023104"
      ]
     },
     "execution_count": 44,
     "metadata": {},
     "output_type": "execute_result"
    }
   ],
   "source": [
    "id(db)"
   ]
  },
  {
   "cell_type": "code",
   "execution_count": 45,
   "id": "fafd782c",
   "metadata": {},
   "outputs": [],
   "source": [
    "lwdb[0]=1111"
   ]
  },
  {
   "cell_type": "code",
   "execution_count": 46,
   "id": "eab61282",
   "metadata": {},
   "outputs": [
    {
     "data": {
      "text/plain": [
       "[1111, 'vimal', [98291, 11111]]"
      ]
     },
     "execution_count": 46,
     "metadata": {},
     "output_type": "execute_result"
    }
   ],
   "source": [
    "lwdb"
   ]
  },
  {
   "cell_type": "code",
   "execution_count": 47,
   "id": "5a1dbcb7",
   "metadata": {},
   "outputs": [
    {
     "data": {
      "text/plain": [
       "[1, 'vimal', [98291, 11111]]"
      ]
     },
     "execution_count": 47,
     "metadata": {},
     "output_type": "execute_result"
    }
   ],
   "source": [
    "db"
   ]
  },
  {
   "cell_type": "code",
   "execution_count": 48,
   "id": "72ceeb35",
   "metadata": {},
   "outputs": [],
   "source": [
    "lwdb[2][0]=0"
   ]
  },
  {
   "cell_type": "code",
   "execution_count": 49,
   "id": "314c18aa",
   "metadata": {},
   "outputs": [
    {
     "data": {
      "text/plain": [
       "[1111, 'vimal', [0, 11111]]"
      ]
     },
     "execution_count": 49,
     "metadata": {},
     "output_type": "execute_result"
    }
   ],
   "source": [
    "lwdb"
   ]
  },
  {
   "cell_type": "code",
   "execution_count": 50,
   "id": "99876823",
   "metadata": {},
   "outputs": [
    {
     "data": {
      "text/plain": [
       "[1, 'vimal', [0, 11111]]"
      ]
     },
     "execution_count": 50,
     "metadata": {},
     "output_type": "execute_result"
    }
   ],
   "source": [
    "db #Shallow Copy example"
   ]
  },
  {
   "cell_type": "code",
   "execution_count": 51,
   "id": "c44a65d6",
   "metadata": {},
   "outputs": [],
   "source": [
    "lwdb=copy.deepcopy(db) #DeepCopy"
   ]
  },
  {
   "cell_type": "code",
   "execution_count": 52,
   "id": "ba49b70c",
   "metadata": {},
   "outputs": [
    {
     "data": {
      "text/plain": [
       "[1, 'vimal', [0, 11111]]"
      ]
     },
     "execution_count": 52,
     "metadata": {},
     "output_type": "execute_result"
    }
   ],
   "source": [
    "lwdb"
   ]
  },
  {
   "cell_type": "code",
   "execution_count": 53,
   "id": "1f954a44",
   "metadata": {},
   "outputs": [
    {
     "data": {
      "text/plain": [
       "[1, 'vimal', [0, 11111]]"
      ]
     },
     "execution_count": 53,
     "metadata": {},
     "output_type": "execute_result"
    }
   ],
   "source": [
    "db"
   ]
  },
  {
   "cell_type": "code",
   "execution_count": 54,
   "id": "f9785107",
   "metadata": {},
   "outputs": [],
   "source": [
    "db[2][0]=1"
   ]
  },
  {
   "cell_type": "code",
   "execution_count": 55,
   "id": "5d50d6aa",
   "metadata": {},
   "outputs": [
    {
     "data": {
      "text/plain": [
       "[1, 'vimal', [1, 11111]]"
      ]
     },
     "execution_count": 55,
     "metadata": {},
     "output_type": "execute_result"
    }
   ],
   "source": [
    "db"
   ]
  },
  {
   "cell_type": "code",
   "execution_count": 56,
   "id": "da9a6ad3",
   "metadata": {},
   "outputs": [
    {
     "data": {
      "text/plain": [
       "[1, 'vimal', [0, 11111]]"
      ]
     },
     "execution_count": 56,
     "metadata": {},
     "output_type": "execute_result"
    }
   ],
   "source": [
    "lwdb"
   ]
  },
  {
   "cell_type": "code",
   "execution_count": 60,
   "id": "78dd3b52",
   "metadata": {},
   "outputs": [],
   "source": [
    "def func():\n",
    "    X=5\n",
    "    print(X)\n",
    "    Z=X+6\n",
    "    print(Z)"
   ]
  },
  {
   "cell_type": "code",
   "execution_count": 61,
   "id": "dca6e150",
   "metadata": {},
   "outputs": [
    {
     "name": "stdout",
     "output_type": "stream",
     "text": [
      "5\n",
      "11\n"
     ]
    }
   ],
   "source": [
    "func()"
   ]
  },
  {
   "cell_type": "code",
   "execution_count": 62,
   "id": "ce12dc2f",
   "metadata": {},
   "outputs": [
    {
     "name": "stdout",
     "output_type": "stream",
     "text": [
      "5\n",
      "11\n"
     ]
    }
   ],
   "source": [
    "func()"
   ]
  },
  {
   "cell_type": "code",
   "execution_count": 65,
   "id": "86c1dc8d",
   "metadata": {},
   "outputs": [],
   "source": [
    "def my():\n",
    "    print(\"I am Niranjan\")\n",
    "    print(\"Hey,how are you?\")"
   ]
  },
  {
   "cell_type": "code",
   "execution_count": 67,
   "id": "644dbdbe",
   "metadata": {},
   "outputs": [
    {
     "name": "stdout",
     "output_type": "stream",
     "text": [
      "I am Niranjan\n",
      "Hey,how are you?\n"
     ]
    }
   ],
   "source": [
    "my()"
   ]
  },
  {
   "cell_type": "code",
   "execution_count": 68,
   "id": "7a7a7b27",
   "metadata": {},
   "outputs": [
    {
     "data": {
      "text/plain": [
       "<function __main__.my()>"
      ]
     },
     "execution_count": 68,
     "metadata": {},
     "output_type": "execute_result"
    }
   ],
   "source": [
    "my"
   ]
  },
  {
   "cell_type": "code",
   "execution_count": 69,
   "id": "c323fb2e",
   "metadata": {},
   "outputs": [],
   "source": [
    "hello=my\n"
   ]
  },
  {
   "cell_type": "code",
   "execution_count": 70,
   "id": "8a95101b",
   "metadata": {},
   "outputs": [
    {
     "name": "stdout",
     "output_type": "stream",
     "text": [
      "I am Niranjan\n",
      "Hey,how are you?\n"
     ]
    }
   ],
   "source": [
    "hello()"
   ]
  },
  {
   "cell_type": "code",
   "execution_count": 79,
   "id": "b22436e6",
   "metadata": {},
   "outputs": [],
   "source": [
    "def lw():\n",
    "#     print(\"Jack\")\n",
    "    return \"Jack\""
   ]
  },
  {
   "cell_type": "code",
   "execution_count": 72,
   "id": "c842e1c5",
   "metadata": {},
   "outputs": [
    {
     "name": "stdout",
     "output_type": "stream",
     "text": [
      "Jack\n"
     ]
    }
   ],
   "source": [
    "lw()"
   ]
  },
  {
   "cell_type": "code",
   "execution_count": 75,
   "id": "486198a3",
   "metadata": {},
   "outputs": [
    {
     "name": "stdout",
     "output_type": "stream",
     "text": [
      "Jack\n"
     ]
    }
   ],
   "source": [
    "y=lw()"
   ]
  },
  {
   "cell_type": "code",
   "execution_count": 76,
   "id": "75bda075",
   "metadata": {},
   "outputs": [],
   "source": [
    "y"
   ]
  },
  {
   "cell_type": "code",
   "execution_count": 80,
   "id": "cf2c2f65",
   "metadata": {},
   "outputs": [],
   "source": [
    "y=lw()"
   ]
  },
  {
   "cell_type": "code",
   "execution_count": 81,
   "id": "da89bc45",
   "metadata": {},
   "outputs": [
    {
     "data": {
      "text/plain": [
       "'Jack'"
      ]
     },
     "execution_count": 81,
     "metadata": {},
     "output_type": "execute_result"
    }
   ],
   "source": [
    "y"
   ]
  },
  {
   "cell_type": "code",
   "execution_count": 93,
   "id": "2690afdd",
   "metadata": {},
   "outputs": [],
   "source": [
    "def lw(name):\n",
    "    print(\"Hello \",end=\"\")\n",
    "    print(name)"
   ]
  },
  {
   "cell_type": "code",
   "execution_count": 94,
   "id": "2cf1bc93",
   "metadata": {},
   "outputs": [
    {
     "name": "stdout",
     "output_type": "stream",
     "text": [
      "Hello Niranjan\n"
     ]
    }
   ],
   "source": [
    "lw(\"Niranjan\")"
   ]
  },
  {
   "cell_type": "code",
   "execution_count": 96,
   "id": "bca00f12",
   "metadata": {},
   "outputs": [],
   "source": [
    "def lw(name):\n",
    "    print(\"Hello\" ,name)"
   ]
  },
  {
   "cell_type": "code",
   "execution_count": 97,
   "id": "0c0c07c8",
   "metadata": {},
   "outputs": [
    {
     "name": "stdout",
     "output_type": "stream",
     "text": [
      "Hello Niranjan\n"
     ]
    }
   ],
   "source": [
    "lw(\"Niranjan\")"
   ]
  },
  {
   "cell_type": "code",
   "execution_count": 98,
   "id": "8d7f2125",
   "metadata": {},
   "outputs": [],
   "source": [
    "def lw(name):\n",
    "    return \"Hello \",name"
   ]
  },
  {
   "cell_type": "code",
   "execution_count": 99,
   "id": "fc4b1480",
   "metadata": {},
   "outputs": [
    {
     "data": {
      "text/plain": [
       "('Hello ', 'Niranjan')"
      ]
     },
     "execution_count": 99,
     "metadata": {},
     "output_type": "execute_result"
    }
   ],
   "source": [
    "lw(\"Niranjan\")"
   ]
  },
  {
   "cell_type": "code",
   "execution_count": 100,
   "id": "5fcf443a",
   "metadata": {},
   "outputs": [],
   "source": [
    "def lw(name):\n",
    "    return \"Hello \"+name\n"
   ]
  },
  {
   "cell_type": "code",
   "execution_count": 101,
   "id": "d5493189",
   "metadata": {},
   "outputs": [
    {
     "data": {
      "text/plain": [
       "'Hello Niranjan'"
      ]
     },
     "execution_count": 101,
     "metadata": {},
     "output_type": "execute_result"
    }
   ],
   "source": [
    "lw(\"Niranjan\")"
   ]
  },
  {
   "cell_type": "code",
   "execution_count": 102,
   "id": "099c8324",
   "metadata": {},
   "outputs": [],
   "source": [
    "def mysum(x,y,z):\n",
    "    return x+y+z\n",
    "    "
   ]
  },
  {
   "cell_type": "code",
   "execution_count": 105,
   "id": "b1d6fcf3",
   "metadata": {},
   "outputs": [
    {
     "name": "stdout",
     "output_type": "stream",
     "text": [
      "Enter three Numbers \n",
      "Enter first number:10\n",
      "Enter second number:20\n",
      "Enter third number:30\n",
      "Sum of the given three numbers is  60\n"
     ]
    }
   ],
   "source": [
    "print(\"Enter three Numbers \")\n",
    "x=int(input(\"Enter first number:\"))\n",
    "y=int(input(\"Enter second number:\"))\n",
    "z=int(input(\"Enter third number:\"))\n",
    "print(\"Sum of the given three numbers is \",mysum(x,y,z))"
   ]
  },
  {
   "cell_type": "code",
   "execution_count": 107,
   "id": "202c4c13",
   "metadata": {},
   "outputs": [],
   "source": [
    "mob=[111,222,333,444]"
   ]
  },
  {
   "cell_type": "code",
   "execution_count": 108,
   "id": "9cc872b9",
   "metadata": {},
   "outputs": [
    {
     "name": "stdout",
     "output_type": "stream",
     "text": [
      "111\n",
      "222\n",
      "333\n",
      "444\n"
     ]
    }
   ],
   "source": [
    "for i in mob:\n",
    "    print(i)"
   ]
  },
  {
   "cell_type": "code",
   "execution_count": 1,
   "id": "a79f3d9a",
   "metadata": {},
   "outputs": [],
   "source": [
    "import pywhatkit"
   ]
  },
  {
   "cell_type": "code",
   "execution_count": null,
   "id": "9aeddecd",
   "metadata": {},
   "outputs": [],
   "source": [
    "\n",
    "phone_number = \"+91 8947852240\"\n",
    "message = \"Hello, this is an automated message.\"\n",
    "\n",
    "pywhatkit.sendwhatmsg(phone_number, message, 19, 3)"
   ]
  },
  {
   "cell_type": "code",
   "execution_count": null,
   "id": "a8f25003",
   "metadata": {},
   "outputs": [],
   "source": []
  }
 ],
 "metadata": {
  "kernelspec": {
   "display_name": "Python 3 (ipykernel)",
   "language": "python",
   "name": "python3"
  },
  "language_info": {
   "codemirror_mode": {
    "name": "ipython",
    "version": 3
   },
   "file_extension": ".py",
   "mimetype": "text/x-python",
   "name": "python",
   "nbconvert_exporter": "python",
   "pygments_lexer": "ipython3",
   "version": "3.10.9"
  }
 },
 "nbformat": 4,
 "nbformat_minor": 5
}
