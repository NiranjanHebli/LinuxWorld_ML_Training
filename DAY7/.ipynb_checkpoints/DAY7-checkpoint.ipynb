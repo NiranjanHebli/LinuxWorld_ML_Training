{
 "cells": [
  {
   "cell_type": "code",
   "execution_count": null,
   "id": "df4ff9ba",
   "metadata": {},
   "outputs": [],
   "source": [
    "import cv2"
   ]
  },
  {
   "cell_type": "code",
   "execution_count": null,
   "id": "552b7b3d",
   "metadata": {},
   "outputs": [],
   "source": [
    "cap=cv2.VideoCapture(0)"
   ]
  },
  {
   "cell_type": "code",
   "execution_count": null,
   "id": "5c530e5f",
   "metadata": {},
   "outputs": [],
   "source": [
    "status,photo=cap.read()"
   ]
  },
  {
   "cell_type": "code",
   "execution_count": null,
   "id": "57db1845",
   "metadata": {},
   "outputs": [],
   "source": [
    "cv2.imwrite(\"photo.png\", photo) "
   ]
  },
  {
   "cell_type": "code",
   "execution_count": null,
   "id": "dc8eba62",
   "metadata": {},
   "outputs": [],
   "source": [
    "cv2.imshow(\"My Photo\",photo)"
   ]
  },
  {
   "cell_type": "code",
   "execution_count": 7,
   "id": "d7c2b93c",
   "metadata": {},
   "outputs": [],
   "source": [
    "if cv2.waitKey( )== 27:\n",
    "# Close the opened image window\n",
    "    cv2.destroyAllWindows() "
   ]
  },
  {
   "cell_type": "code",
   "execution_count": 8,
   "id": "07ed471b",
   "metadata": {},
   "outputs": [
    {
     "data": {
      "text/plain": [
       "array([[[193, 175, 185],\n",
       "        [185, 176, 183],\n",
       "        [180, 179, 184],\n",
       "        ...,\n",
       "        [255, 248, 249],\n",
       "        [255, 247, 248],\n",
       "        [255, 247, 248]],\n",
       "\n",
       "       [[193, 175, 184],\n",
       "        [192, 176, 185],\n",
       "        [192, 179, 187],\n",
       "        ...,\n",
       "        [255, 247, 248],\n",
       "        [255, 247, 248],\n",
       "        [255, 247, 248]],\n",
       "\n",
       "       [[187, 176, 184],\n",
       "        [188, 177, 185],\n",
       "        [190, 179, 187],\n",
       "        ...,\n",
       "        [255, 247, 248],\n",
       "        [255, 247, 248],\n",
       "        [255, 247, 248]],\n",
       "\n",
       "       ...,\n",
       "\n",
       "       [[ 87,  81, 109],\n",
       "        [ 91,  81, 108],\n",
       "        [ 96,  81, 107],\n",
       "        ...,\n",
       "        [100,  68,  71],\n",
       "        [105,  68,  71],\n",
       "        [110,  72,  76]],\n",
       "\n",
       "       [[ 80,  73, 104],\n",
       "        [ 90,  81, 109],\n",
       "        [ 93,  80, 106],\n",
       "        ...,\n",
       "        [100,  68,  71],\n",
       "        [104,  69,  72],\n",
       "        [105,  70,  73]],\n",
       "\n",
       "       [[ 78,  74, 104],\n",
       "        [ 87,  79, 105],\n",
       "        [ 93,  81, 102],\n",
       "        ...,\n",
       "        [106,  68,  70],\n",
       "        [108,  69,  72],\n",
       "        [108,  69,  72]]], dtype=uint8)"
      ]
     },
     "execution_count": 8,
     "metadata": {},
     "output_type": "execute_result"
    }
   ],
   "source": [
    "photo\n"
   ]
  },
  {
   "cell_type": "code",
   "execution_count": 9,
   "id": "23fe0deb",
   "metadata": {},
   "outputs": [],
   "source": [
    "newphoto=photo[100:250]"
   ]
  },
  {
   "cell_type": "code",
   "execution_count": null,
   "id": "f3068f39",
   "metadata": {},
   "outputs": [],
   "source": [
    "cv2.imshow(\"my photo\",newphoto)\n",
    "cv2.waitKey()\n",
    "cv2.destroyAllWindows()"
   ]
  },
  {
   "cell_type": "code",
   "execution_count": null,
   "id": "d9f63e2d",
   "metadata": {},
   "outputs": [],
   "source": [
    "newphoto=photo[100:250][200:450]\n",
    "cv2.imshow(\"my photo\",newphoto)\n",
    "cv2.waitKey()\n",
    "cv2.destroyAllWindows()"
   ]
  },
  {
   "cell_type": "code",
   "execution_count": null,
   "id": "5c1bb62e",
   "metadata": {},
   "outputs": [],
   "source": []
  }
 ],
 "metadata": {
  "kernelspec": {
   "display_name": "Python 3 (ipykernel)",
   "language": "python",
   "name": "python3"
  },
  "language_info": {
   "codemirror_mode": {
    "name": "ipython",
    "version": 3
   },
   "file_extension": ".py",
   "mimetype": "text/x-python",
   "name": "python",
   "nbconvert_exporter": "python",
   "pygments_lexer": "ipython3",
   "version": "3.10.9"
  }
 },
 "nbformat": 4,
 "nbformat_minor": 5
}
