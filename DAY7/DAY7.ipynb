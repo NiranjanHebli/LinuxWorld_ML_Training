{
 "cells": [
  {
   "cell_type": "code",
   "execution_count": 1,
   "id": "df4ff9ba",
   "metadata": {},
   "outputs": [],
   "source": [
    "import cv2"
   ]
  },
  {
   "cell_type": "code",
   "execution_count": 2,
   "id": "552b7b3d",
   "metadata": {},
   "outputs": [],
   "source": [
    "cap=cv2.VideoCapture(0)"
   ]
  },
  {
   "cell_type": "code",
   "execution_count": 3,
   "id": "5c530e5f",
   "metadata": {},
   "outputs": [],
   "source": [
    "status,photo=cap.read()"
   ]
  },
  {
   "cell_type": "code",
   "execution_count": 4,
   "id": "57db1845",
   "metadata": {},
   "outputs": [
    {
     "data": {
      "text/plain": [
       "True"
      ]
     },
     "execution_count": 4,
     "metadata": {},
     "output_type": "execute_result"
    }
   ],
   "source": [
    "cv2.imwrite(\"photo.png\", photo) "
   ]
  },
  {
   "cell_type": "code",
   "execution_count": 5,
   "id": "dc8eba62",
   "metadata": {},
   "outputs": [],
   "source": [
    "cv2.imshow(\"My Photo\",photo)"
   ]
  },
  {
   "cell_type": "code",
   "execution_count": 7,
   "id": "d7c2b93c",
   "metadata": {},
   "outputs": [],
   "source": [
    "if cv2.waitKey( )== 27:\n",
    "# Close the opened image window\n",
    "    cv2.destroyAllWindows() "
   ]
  },
  {
   "cell_type": "code",
   "execution_count": 6,
   "id": "07ed471b",
   "metadata": {},
   "outputs": [
    {
     "data": {
      "text/plain": [
       "array([[[151, 200, 223],\n",
       "        [162, 204, 230],\n",
       "        [168, 202, 231],\n",
       "        ...,\n",
       "        [255, 255, 253],\n",
       "        [255, 255, 253],\n",
       "        [255, 255, 253]],\n",
       "\n",
       "       [[151, 200, 223],\n",
       "        [161, 204, 228],\n",
       "        [166, 204, 228],\n",
       "        ...,\n",
       "        [255, 255, 253],\n",
       "        [255, 255, 253],\n",
       "        [255, 255, 253]],\n",
       "\n",
       "       [[160, 205, 224],\n",
       "        [163, 205, 226],\n",
       "        [173, 211, 235],\n",
       "        ...,\n",
       "        [255, 255, 253],\n",
       "        [255, 255, 253],\n",
       "        [255, 255, 253]],\n",
       "\n",
       "       ...,\n",
       "\n",
       "       [[252, 255, 252],\n",
       "        [250, 255, 252],\n",
       "        [247, 255, 252],\n",
       "        ...,\n",
       "        [255, 255, 253],\n",
       "        [255, 255, 253],\n",
       "        [255, 255, 253]],\n",
       "\n",
       "       [[247, 255, 252],\n",
       "        [248, 255, 252],\n",
       "        [247, 255, 252],\n",
       "        ...,\n",
       "        [255, 255, 253],\n",
       "        [255, 255, 253],\n",
       "        [255, 255, 253]],\n",
       "\n",
       "       [[245, 255, 252],\n",
       "        [247, 255, 252],\n",
       "        [247, 255, 252],\n",
       "        ...,\n",
       "        [255, 255, 253],\n",
       "        [255, 255, 253],\n",
       "        [255, 255, 253]]], dtype=uint8)"
      ]
     },
     "execution_count": 6,
     "metadata": {},
     "output_type": "execute_result"
    }
   ],
   "source": [
    "photo\n"
   ]
  },
  {
   "cell_type": "code",
   "execution_count": 9,
   "id": "23fe0deb",
   "metadata": {},
   "outputs": [],
   "source": [
    "newphoto=photo[100:250]"
   ]
  },
  {
   "cell_type": "code",
   "execution_count": null,
   "id": "f3068f39",
   "metadata": {},
   "outputs": [],
   "source": [
    "cv2.imshow(\"my photo\",newphoto)\n",
    "cv2.waitKey()\n",
    "cv2.destroyAllWindows()"
   ]
  },
  {
   "cell_type": "code",
   "execution_count": null,
   "id": "d9f63e2d",
   "metadata": {},
   "outputs": [],
   "source": [
    "newphoto=photo[100:250][200:450]\n",
    "cv2.imshow(\"my photo\",newphoto)\n",
    "cv2.waitKey()\n",
    "cv2.destroyAllWindows()"
   ]
  },
  {
   "cell_type": "code",
   "execution_count": 7,
   "id": "5c1bb62e",
   "metadata": {},
   "outputs": [
    {
     "data": {
      "text/plain": [
       "3"
      ]
     },
     "execution_count": 7,
     "metadata": {},
     "output_type": "execute_result"
    }
   ],
   "source": [
    "photo.ndim"
   ]
  },
  {
   "cell_type": "code",
   "execution_count": 8,
   "id": "8f03b53d",
   "metadata": {},
   "outputs": [
    {
     "data": {
      "text/plain": [
       "(480, 640, 3)"
      ]
     },
     "execution_count": 8,
     "metadata": {},
     "output_type": "execute_result"
    }
   ],
   "source": [
    "photo.shape\n"
   ]
  },
  {
   "cell_type": "code",
   "execution_count": null,
   "id": "f653512b",
   "metadata": {},
   "outputs": [],
   "source": []
  }
 ],
 "metadata": {
  "kernelspec": {
   "display_name": "Python 3 (ipykernel)",
   "language": "python",
   "name": "python3"
  },
  "language_info": {
   "codemirror_mode": {
    "name": "ipython",
    "version": 3
   },
   "file_extension": ".py",
   "mimetype": "text/x-python",
   "name": "python",
   "nbconvert_exporter": "python",
   "pygments_lexer": "ipython3",
   "version": "3.10.9"
  }
 },
 "nbformat": 4,
 "nbformat_minor": 5
}
