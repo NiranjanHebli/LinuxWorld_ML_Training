{
 "cells": [
  {
   "cell_type": "code",
   "execution_count": 1,
   "id": "a52752fb",
   "metadata": {},
   "outputs": [],
   "source": [
    "import cv2"
   ]
  },
  {
   "cell_type": "code",
   "execution_count": 2,
   "id": "0ab44a0a",
   "metadata": {},
   "outputs": [],
   "source": [
    "cap=cv2.VideoCapture(0)"
   ]
  },
  {
   "cell_type": "code",
   "execution_count": 3,
   "id": "5df464b3",
   "metadata": {},
   "outputs": [],
   "source": [
    "status,photo=cap.read()"
   ]
  },
  {
   "cell_type": "code",
   "execution_count": 4,
   "id": "2db7fd8a",
   "metadata": {},
   "outputs": [
    {
     "data": {
      "text/plain": [
       "True"
      ]
     },
     "execution_count": 4,
     "metadata": {},
     "output_type": "execute_result"
    }
   ],
   "source": [
    "status"
   ]
  },
  {
   "cell_type": "code",
   "execution_count": null,
   "id": "59169eb9",
   "metadata": {},
   "outputs": [],
   "source": [
    "facemodel.detectMultiScale(photo)"
   ]
  },
  {
   "cell_type": "code",
   "execution_count": 8,
   "id": "59190d10",
   "metadata": {},
   "outputs": [
    {
     "data": {
      "text/plain": [
       "1"
      ]
     },
     "execution_count": 8,
     "metadata": {},
     "output_type": "execute_result"
    }
   ],
   "source": [
    "len(facemodel.detectMultiScale(photo))"
   ]
  },
  {
   "cell_type": "code",
   "execution_count": 10,
   "id": "0af521d6",
   "metadata": {},
   "outputs": [],
   "source": [
    "crop_photo=photo[265:(176+265),169:(169+176)]"
   ]
  },
  {
   "cell_type": "code",
   "execution_count": 11,
   "id": "199eee35",
   "metadata": {},
   "outputs": [],
   "source": [
    "cv2.imshow(\"cropped pic\",crop_photo)\n",
    "cv2.waitKey()\n",
    "cv2.destroyAllWindows()"
   ]
  },
  {
   "cell_type": "code",
   "execution_count": 13,
   "id": "5fc48251",
   "metadata": {},
   "outputs": [
    {
     "data": {
      "text/plain": [
       "array([[[119,  81, 109],\n",
       "        [126,  79, 112],\n",
       "        [134,  80, 117],\n",
       "        ...,\n",
       "        [160, 129, 184],\n",
       "        [151, 126, 186],\n",
       "        [148, 124, 184]],\n",
       "\n",
       "       [[131,  78, 108],\n",
       "        [133,  80, 113],\n",
       "        [134,  80, 117],\n",
       "        ...,\n",
       "        [164, 130, 182],\n",
       "        [164, 129, 184],\n",
       "        [162, 126, 182]],\n",
       "\n",
       "       [[144,  73, 118],\n",
       "        [146,  82, 123],\n",
       "        [136,  80, 117],\n",
       "        ...,\n",
       "        [161, 131, 183],\n",
       "        [158, 127, 182],\n",
       "        [158, 127, 182]],\n",
       "\n",
       "       ...,\n",
       "\n",
       "       [[184, 178, 242],\n",
       "        [185, 180, 242],\n",
       "        [186, 181, 241],\n",
       "        ...,\n",
       "        [ 72,  31, 133],\n",
       "        [ 73,  31, 135],\n",
       "        [ 73,  31, 135]],\n",
       "\n",
       "       [[177, 180, 239],\n",
       "        [177, 180, 239],\n",
       "        [181, 183, 242],\n",
       "        ...,\n",
       "        [ 63,  34, 132],\n",
       "        [ 65,  35, 134],\n",
       "        [ 65,  35, 134]],\n",
       "\n",
       "       [[166, 178, 243],\n",
       "        [170, 179, 243],\n",
       "        [173, 179, 242],\n",
       "        ...,\n",
       "        [ 62,  43, 136],\n",
       "        [ 60,  36, 134],\n",
       "        [ 56,  31, 129]]], dtype=uint8)"
      ]
     },
     "execution_count": 13,
     "metadata": {},
     "output_type": "execute_result"
    }
   ],
   "source": [
    "cv2.rectangle(photo,(265,169),((176+265),(169+176)),[0,255,0],5)"
   ]
  },
  {
   "cell_type": "code",
   "execution_count": null,
   "id": "57a8e555",
   "metadata": {},
   "outputs": [],
   "source": [
    "myCoordinates=facemodel.detectMultiScale(photo)"
   ]
  },
  {
   "cell_type": "code",
   "execution_count": null,
   "id": "e8d9d3bb",
   "metadata": {},
   "outputs": [],
   "source": [
    "myCoordinates"
   ]
  },
  {
   "cell_type": "code",
   "execution_count": 1,
   "id": "bee5062d",
   "metadata": {},
   "outputs": [],
   "source": [
    "a=[]"
   ]
  },
  {
   "cell_type": "code",
   "execution_count": 4,
   "id": "5dcddf22",
   "metadata": {},
   "outputs": [
    {
     "name": "stdout",
     "output_type": "stream",
     "text": [
      "List is empty\n"
     ]
    }
   ],
   "source": [
    "if not a:\n",
    "    print(\"List is empty\")"
   ]
  },
  {
   "cell_type": "code",
   "execution_count": null,
   "id": "9d20dd43",
   "metadata": {},
   "outputs": [],
   "source": []
  }
 ],
 "metadata": {
  "kernelspec": {
   "display_name": "Python 3 (ipykernel)",
   "language": "python",
   "name": "python3"
  },
  "language_info": {
   "codemirror_mode": {
    "name": "ipython",
    "version": 3
   },
   "file_extension": ".py",
   "mimetype": "text/x-python",
   "name": "python",
   "nbconvert_exporter": "python",
   "pygments_lexer": "ipython3",
   "version": "3.10.9"
  }
 },
 "nbformat": 4,
 "nbformat_minor": 5
}
