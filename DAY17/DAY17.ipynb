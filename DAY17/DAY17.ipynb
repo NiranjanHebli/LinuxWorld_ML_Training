{
 "cells": [
  {
   "cell_type": "code",
   "execution_count": null,
   "id": "677c8325",
   "metadata": {},
   "outputs": [],
   "source": [
    "import pandas as pd"
   ]
  },
  {
   "cell_type": "code",
   "execution_count": null,
   "id": "dd626a26",
   "metadata": {},
   "outputs": [],
   "source": [
    "dataset=pd.read_csv(\"weight-height.csv\")"
   ]
  },
  {
   "cell_type": "code",
   "execution_count": null,
   "id": "961442b9",
   "metadata": {},
   "outputs": [],
   "source": [
    "dataset"
   ]
  },
  {
   "cell_type": "code",
   "execution_count": null,
   "id": "9dc8d3d0",
   "metadata": {},
   "outputs": [],
   "source": [
    "x=dataset[\"Height\"]"
   ]
  },
  {
   "cell_type": "code",
   "execution_count": null,
   "id": "adbc88ba",
   "metadata": {},
   "outputs": [],
   "source": [
    "x.shape"
   ]
  },
  {
   "cell_type": "code",
   "execution_count": null,
   "id": "dd4fee46",
   "metadata": {},
   "outputs": [],
   "source": [
    "x.ndim"
   ]
  },
  {
   "cell_type": "code",
   "execution_count": null,
   "id": "3e4ace19",
   "metadata": {},
   "outputs": [],
   "source": [
    "y=dataset[\"Weight\"]"
   ]
  },
  {
   "cell_type": "code",
   "execution_count": 2,
   "id": "8123eee3",
   "metadata": {},
   "outputs": [
    {
     "ename": "ModuleNotFoundError",
     "evalue": "No module named 'keras'",
     "output_type": "error",
     "traceback": [
      "\u001b[1;31m---------------------------------------------------------------------------\u001b[0m",
      "\u001b[1;31mModuleNotFoundError\u001b[0m                       Traceback (most recent call last)",
      "Cell \u001b[1;32mIn[2], line 1\u001b[0m\n\u001b[1;32m----> 1\u001b[0m \u001b[38;5;28;01mfrom\u001b[39;00m \u001b[38;5;21;01mkeras\u001b[39;00m\u001b[38;5;21;01m.\u001b[39;00m\u001b[38;5;21;01mlayers\u001b[39;00m \u001b[38;5;28;01mimport\u001b[39;00m Dense\n",
      "\u001b[1;31mModuleNotFoundError\u001b[0m: No module named 'keras'"
     ]
    }
   ],
   "source": [
    "from keras.layers import Dense a"
   ]
  },
  {
   "cell_type": "code",
   "execution_count": 3,
   "id": "2892b8c9",
   "metadata": {},
   "outputs": [
    {
     "ename": "ModuleNotFoundError",
     "evalue": "No module named 'keras'",
     "output_type": "error",
     "traceback": [
      "\u001b[1;31m---------------------------------------------------------------------------\u001b[0m",
      "\u001b[1;31mModuleNotFoundError\u001b[0m                       Traceback (most recent call last)",
      "Cell \u001b[1;32mIn[3], line 1\u001b[0m\n\u001b[1;32m----> 1\u001b[0m \u001b[38;5;28;01mfrom\u001b[39;00m \u001b[38;5;21;01mkeras\u001b[39;00m\u001b[38;5;21;01m.\u001b[39;00m\u001b[38;5;21;01mmodel\u001b[39;00m \u001b[38;5;28;01mimport\u001b[39;00m Sequential\n",
      "\u001b[1;31mModuleNotFoundError\u001b[0m: No module named 'keras'"
     ]
    }
   ],
   "source": [
    "from keras.model import Sequential"
   ]
  },
  {
   "cell_type": "code",
   "execution_count": 1,
   "id": "4bc515d1",
   "metadata": {},
   "outputs": [
    {
     "ename": "NameError",
     "evalue": "name 'Sequential' is not defined",
     "output_type": "error",
     "traceback": [
      "\u001b[1;31m---------------------------------------------------------------------------\u001b[0m",
      "\u001b[1;31mNameError\u001b[0m                                 Traceback (most recent call last)",
      "Cell \u001b[1;32mIn[1], line 1\u001b[0m\n\u001b[1;32m----> 1\u001b[0m brain\u001b[38;5;241m=\u001b[39m\u001b[43mSequential\u001b[49m()\n",
      "\u001b[1;31mNameError\u001b[0m: name 'Sequential' is not defined"
     ]
    }
   ],
   "source": [
    "brain=Sequential()"
   ]
  },
  {
   "cell_type": "code",
   "execution_count": null,
   "id": "0b6a84fe",
   "metadata": {},
   "outputs": [],
   "source": [
    "#brain.summary()"
   ]
  },
  {
   "cell_type": "code",
   "execution_count": null,
   "id": "00a61922",
   "metadata": {},
   "outputs": [],
   "source": [
    "brain.get_config()"
   ]
  },
  {
   "cell_type": "code",
   "execution_count": null,
   "id": "052f5ed4",
   "metadata": {},
   "outputs": [],
   "source": [
    "brain.add( \n",
    "    Dense(\n",
    "        units=1,\n",
    "        input_shape=(1,),\n",
    "        bias_initializer='zeros'\n",
    "        activation=\"linear\",\n",
    "        kernel_initializer='zeros')\n",
    ")"
   ]
  },
  {
   "cell_type": "code",
   "execution_count": null,
   "id": "72b26953",
   "metadata": {},
   "outputs": [],
   "source": [
    "brain.get_config()"
   ]
  },
  {
   "cell_type": "code",
   "execution_count": null,
   "id": "80058f61",
   "metadata": {},
   "outputs": [],
   "source": [
    "brain.compile(loss=\"mean_absolute_error\")"
   ]
  },
  {
   "cell_type": "code",
   "execution_count": null,
   "id": "84b43a23",
   "metadata": {},
   "outputs": [],
   "source": [
    "brain.get_config()"
   ]
  },
  {
   "cell_type": "code",
   "execution_count": null,
   "id": "5dea44ff",
   "metadata": {},
   "outputs": [],
   "source": [
    "brain.fit(x,y,epochs=10)"
   ]
  },
  {
   "cell_type": "code",
   "execution_count": 1,
   "id": "30099e2d",
   "metadata": {},
   "outputs": [
    {
     "ename": "NameError",
     "evalue": "name 'brain' is not defined",
     "output_type": "error",
     "traceback": [
      "\u001b[1;31m---------------------------------------------------------------------------\u001b[0m",
      "\u001b[1;31mNameError\u001b[0m                                 Traceback (most recent call last)",
      "Cell \u001b[1;32mIn[1], line 1\u001b[0m\n\u001b[1;32m----> 1\u001b[0m \u001b[43mbrain\u001b[49m\u001b[38;5;241m.\u001b[39msummary\n",
      "\u001b[1;31mNameError\u001b[0m: name 'brain' is not defined"
     ]
    }
   ],
   "source": [
    "brain.summary()"
   ]
  },
  {
   "cell_type": "code",
   "execution_count": null,
   "id": "a50a5e1a",
   "metadata": {},
   "outputs": [],
   "source": [
    "brain.get_weights()"
   ]
  },
  {
   "cell_type": "code",
   "execution_count": 2,
   "id": "7a11effd",
   "metadata": {},
   "outputs": [
    {
     "data": {
      "text/plain": [
       "150.5"
      ]
     },
     "execution_count": 2,
     "metadata": {},
     "output_type": "execute_result"
    }
   ],
   "source": [
    "2*74+2.5"
   ]
  },
  {
   "cell_type": "code",
   "execution_count": null,
   "id": "1c1951a8",
   "metadata": {},
   "outputs": [],
   "source": []
  }
 ],
 "metadata": {
  "kernelspec": {
   "display_name": "Python 3 (ipykernel)",
   "language": "python",
   "name": "python3"
  },
  "language_info": {
   "codemirror_mode": {
    "name": "ipython",
    "version": 3
   },
   "file_extension": ".py",
   "mimetype": "text/x-python",
   "name": "python",
   "nbconvert_exporter": "python",
   "pygments_lexer": "ipython3",
   "version": "3.10.9"
  }
 },
 "nbformat": 4,
 "nbformat_minor": 5
}
