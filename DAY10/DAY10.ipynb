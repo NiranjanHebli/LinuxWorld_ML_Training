{
 "cells": [
  {
   "cell_type": "code",
   "execution_count": 30,
   "id": "1367fbcf",
   "metadata": {},
   "outputs": [],
   "source": [
    "class VisitorForm:\n",
    "    __name__=None\n",
    "    __phone=None\n",
    "    \n",
    "    def setPhone(self,phone):\n",
    "        self.phone=phone\n",
    "    \n",
    "    def setName(self,name):\n",
    "        self.name=name\n",
    "    "
   ]
  },
  {
   "cell_type": "code",
   "execution_count": 4,
   "id": "54032223",
   "metadata": {},
   "outputs": [],
   "source": [
    "rahul=VisitorForm()"
   ]
  },
  {
   "cell_type": "code",
   "execution_count": 5,
   "id": "20a21e90",
   "metadata": {},
   "outputs": [],
   "source": [
    "rahul.name=\"Rahul Kumar\""
   ]
  },
  {
   "cell_type": "code",
   "execution_count": 6,
   "id": "9ad66284",
   "metadata": {},
   "outputs": [
    {
     "data": {
      "text/plain": [
       "'Rahul Kumar'"
      ]
     },
     "execution_count": 6,
     "metadata": {},
     "output_type": "execute_result"
    }
   ],
   "source": [
    "rahul.name"
   ]
  },
  {
   "cell_type": "code",
   "execution_count": 7,
   "id": "0e4b77c4",
   "metadata": {},
   "outputs": [
    {
     "data": {
      "text/plain": [
       "{'name': 'Rahul Kumar'}"
      ]
     },
     "execution_count": 7,
     "metadata": {},
     "output_type": "execute_result"
    }
   ],
   "source": [
    "rahul.__dict__"
   ]
  },
  {
   "cell_type": "code",
   "execution_count": 18,
   "id": "07160910",
   "metadata": {},
   "outputs": [],
   "source": [
    "rahul._name=\"rrrr\""
   ]
  },
  {
   "cell_type": "code",
   "execution_count": 19,
   "id": "79fc1e61",
   "metadata": {},
   "outputs": [
    {
     "data": {
      "text/plain": [
       "'rrrr'"
      ]
     },
     "execution_count": 19,
     "metadata": {},
     "output_type": "execute_result"
    }
   ],
   "source": [
    "rahul._name"
   ]
  },
  {
   "cell_type": "code",
   "execution_count": 21,
   "id": "261923cb",
   "metadata": {},
   "outputs": [],
   "source": [
    "rahul.__name=\"rahul\""
   ]
  },
  {
   "cell_type": "code",
   "execution_count": 22,
   "id": "73124233",
   "metadata": {},
   "outputs": [
    {
     "data": {
      "text/plain": [
       "'rahul'"
      ]
     },
     "execution_count": 22,
     "metadata": {},
     "output_type": "execute_result"
    }
   ],
   "source": [
    "rahul.__name"
   ]
  },
  {
   "cell_type": "code",
   "execution_count": 25,
   "id": "52cfaa2e",
   "metadata": {},
   "outputs": [],
   "source": [
    "rahul.__name__=\"rahul\""
   ]
  },
  {
   "cell_type": "code",
   "execution_count": 26,
   "id": "a203c02e",
   "metadata": {},
   "outputs": [
    {
     "data": {
      "text/plain": [
       "'rahul'"
      ]
     },
     "execution_count": 26,
     "metadata": {},
     "output_type": "execute_result"
    }
   ],
   "source": [
    "rahul.__name__"
   ]
  },
  {
   "cell_type": "code",
   "execution_count": 32,
   "id": "e6d52d40",
   "metadata": {},
   "outputs": [],
   "source": [
    "newRahul= VisitorForm()"
   ]
  },
  {
   "cell_type": "code",
   "execution_count": 33,
   "id": "d08698fc",
   "metadata": {},
   "outputs": [],
   "source": [
    "newRahul.setName(\"Rahul\")"
   ]
  },
  {
   "cell_type": "code",
   "execution_count": 34,
   "id": "eb15b173",
   "metadata": {},
   "outputs": [
    {
     "data": {
      "text/plain": [
       "{'name': 'Rahul'}"
      ]
     },
     "execution_count": 34,
     "metadata": {},
     "output_type": "execute_result"
    }
   ],
   "source": [
    "newRahul.__dict__"
   ]
  },
  {
   "cell_type": "code",
   "execution_count": 37,
   "id": "d682f528",
   "metadata": {},
   "outputs": [],
   "source": [
    "class LW:\n",
    "    __name=\"Vimal\""
   ]
  },
  {
   "cell_type": "code",
   "execution_count": 38,
   "id": "dd54d98b",
   "metadata": {},
   "outputs": [],
   "source": [
    "x=LW()"
   ]
  },
  {
   "cell_type": "code",
   "execution_count": 43,
   "id": "df4647a4",
   "metadata": {},
   "outputs": [
    {
     "data": {
      "text/plain": [
       "'Vimal'"
      ]
     },
     "execution_count": 43,
     "metadata": {},
     "output_type": "execute_result"
    }
   ],
   "source": [
    "x._LW__name\n"
   ]
  },
  {
   "cell_type": "code",
   "execution_count": 56,
   "id": "172cf9e4",
   "metadata": {},
   "outputs": [],
   "source": [
    "class VisitorForm:\n",
    "    name=None\n",
    "    phone=None\n",
    "    remarks=None\n",
    "    \n",
    "    def setName(self,n):\n",
    "        self.name=n\n",
    "    def setPhone(self,p):\n",
    "        self.phone=p\n",
    "    def my(self):\n",
    "        print(\"This is Me!\")\n",
    "    def __init__(self,name,phone,remarks):\n",
    "        print(\"Hi I am Vimal Run Auto\")\n",
    "        self.name=name\n",
    "        self.phone=phone\n",
    "        self.remarks=remarks\n",
    "        \n",
    "    \n"
   ]
  },
  {
   "cell_type": "code",
   "execution_count": 52,
   "id": "3e5e14a0",
   "metadata": {},
   "outputs": [
    {
     "name": "stdout",
     "output_type": "stream",
     "text": [
      "Hi I am Vimal Run Auto\n"
     ]
    }
   ],
   "source": [
    "rahul=VisitorForm()"
   ]
  },
  {
   "cell_type": "code",
   "execution_count": 53,
   "id": "dd93ca3b",
   "metadata": {},
   "outputs": [],
   "source": [
    "rahul.setName(\"Rahul Sharma\")"
   ]
  },
  {
   "cell_type": "code",
   "execution_count": 54,
   "id": "97e50e11",
   "metadata": {},
   "outputs": [
    {
     "name": "stdout",
     "output_type": "stream",
     "text": [
      "This is Me!\n"
     ]
    }
   ],
   "source": [
    "rahul.my()"
   ]
  },
  {
   "cell_type": "code",
   "execution_count": 55,
   "id": "bfe5223b",
   "metadata": {},
   "outputs": [
    {
     "name": "stdout",
     "output_type": "stream",
     "text": [
      "Hi I am Vimal Run Auto\n"
     ]
    }
   ],
   "source": [
    "tom=VisitorForm()"
   ]
  },
  {
   "cell_type": "code",
   "execution_count": 58,
   "id": "7aa05098",
   "metadata": {},
   "outputs": [
    {
     "name": "stdout",
     "output_type": "stream",
     "text": [
      "Hi I am Vimal Run Auto\n"
     ]
    }
   ],
   "source": [
    "gon=VisitorForm(\"Gon\",9382403823,\"Very Good\")\n"
   ]
  },
  {
   "cell_type": "code",
   "execution_count": 59,
   "id": "49db0a87",
   "metadata": {},
   "outputs": [
    {
     "data": {
      "text/plain": [
       "{'name': 'Gon', 'phone': 9382403823, 'remarks': 'Very Good'}"
      ]
     },
     "execution_count": 59,
     "metadata": {},
     "output_type": "execute_result"
    }
   ],
   "source": [
    "gon.__dict__"
   ]
  },
  {
   "cell_type": "code",
   "execution_count": 62,
   "id": "fa59c45f",
   "metadata": {},
   "outputs": [
    {
     "name": "stdout",
     "output_type": "stream",
     "text": [
      "Hi I am Vimal Run Auto\n"
     ]
    }
   ],
   "source": [
    "harry= VisitorForm(\"Harry KKK\",3902430943,\"Excellent!\")"
   ]
  },
  {
   "cell_type": "code",
   "execution_count": 64,
   "id": "7bd7b83b",
   "metadata": {},
   "outputs": [
    {
     "data": {
      "text/plain": [
       "{'name': 'Harry KKK', 'phone': 3902430943, 'remarks': 'Excellent!'}"
      ]
     },
     "execution_count": 64,
     "metadata": {},
     "output_type": "execute_result"
    }
   ],
   "source": [
    "harry.__dict__"
   ]
  },
  {
   "cell_type": "code",
   "execution_count": 65,
   "id": "9f3c8fb2",
   "metadata": {},
   "outputs": [
    {
     "data": {
      "text/plain": [
       "['__class__',\n",
       " '__delattr__',\n",
       " '__dict__',\n",
       " '__dir__',\n",
       " '__doc__',\n",
       " '__eq__',\n",
       " '__format__',\n",
       " '__ge__',\n",
       " '__getattribute__',\n",
       " '__gt__',\n",
       " '__hash__',\n",
       " '__init__',\n",
       " '__init_subclass__',\n",
       " '__le__',\n",
       " '__lt__',\n",
       " '__module__',\n",
       " '__ne__',\n",
       " '__new__',\n",
       " '__reduce__',\n",
       " '__reduce_ex__',\n",
       " '__repr__',\n",
       " '__setattr__',\n",
       " '__sizeof__',\n",
       " '__str__',\n",
       " '__subclasshook__',\n",
       " '__weakref__',\n",
       " 'my',\n",
       " 'name',\n",
       " 'phone',\n",
       " 'remarks',\n",
       " 'setName',\n",
       " 'setPhone']"
      ]
     },
     "execution_count": 65,
     "metadata": {},
     "output_type": "execute_result"
    }
   ],
   "source": [
    "dir(harry)"
   ]
  },
  {
   "cell_type": "code",
   "execution_count": 66,
   "id": "7c848d17",
   "metadata": {},
   "outputs": [
    {
     "data": {
      "text/plain": [
       "__main__.VisitorForm"
      ]
     },
     "execution_count": 66,
     "metadata": {},
     "output_type": "execute_result"
    }
   ],
   "source": [
    "harry.__class__"
   ]
  },
  {
   "cell_type": "code",
   "execution_count": 70,
   "id": "258cfa6c",
   "metadata": {},
   "outputs": [],
   "source": [
    "class CommonClass:\n",
    "    name=None\n",
    "    phone=None\n",
    "    \n",
    "    def mycf(self):\n",
    "        print(\"I am common form\")"
   ]
  },
  {
   "cell_type": "code",
   "execution_count": 72,
   "id": "5607f4e2",
   "metadata": {},
   "outputs": [],
   "source": [
    "class JobForm (CommonClass):\n",
    "    exp=None\n",
    "    \n",
    "    def myjf(self):\n",
    "        print(\"I am Job Form\")"
   ]
  },
  {
   "cell_type": "code",
   "execution_count": 74,
   "id": "9147a22a",
   "metadata": {},
   "outputs": [],
   "source": [
    "rahul=JobForm()"
   ]
  },
  {
   "cell_type": "code",
   "execution_count": 75,
   "id": "d0a6c18c",
   "metadata": {},
   "outputs": [
    {
     "name": "stdout",
     "output_type": "stream",
     "text": [
      "I am Job Form\n"
     ]
    }
   ],
   "source": [
    "rahul.myjf()"
   ]
  },
  {
   "cell_type": "code",
   "execution_count": 76,
   "id": "c6c9cc67",
   "metadata": {},
   "outputs": [
    {
     "name": "stdout",
     "output_type": "stream",
     "text": [
      "I am common form\n"
     ]
    }
   ],
   "source": [
    "rahul.mycf()"
   ]
  },
  {
   "cell_type": "code",
   "execution_count": null,
   "id": "ca1c295c",
   "metadata": {},
   "outputs": [],
   "source": []
  }
 ],
 "metadata": {
  "kernelspec": {
   "display_name": "Python 3 (ipykernel)",
   "language": "python",
   "name": "python3"
  },
  "language_info": {
   "codemirror_mode": {
    "name": "ipython",
    "version": 3
   },
   "file_extension": ".py",
   "mimetype": "text/x-python",
   "name": "python",
   "nbconvert_exporter": "python",
   "pygments_lexer": "ipython3",
   "version": "3.10.9"
  }
 },
 "nbformat": 4,
 "nbformat_minor": 5
}
