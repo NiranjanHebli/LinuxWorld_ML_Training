{
 "cells": [
  {
   "cell_type": "markdown",
   "id": "b52d7fee",
   "metadata": {},
   "source": [
    "## TASKS"
   ]
  },
  {
   "cell_type": "code",
   "execution_count": 1,
   "id": "44f6a7ec",
   "metadata": {},
   "outputs": [
    {
     "name": "stdout",
     "output_type": "stream",
     "text": [
      "welcome to LW\n"
     ]
    }
   ],
   "source": [
    "print(\"welcome to LW\")"
   ]
  },
  {
   "cell_type": "code",
   "execution_count": 3,
   "id": "39286ddf",
   "metadata": {},
   "outputs": [],
   "source": [
    "import pyttsx3\n"
   ]
  },
  {
   "cell_type": "code",
   "execution_count": 5,
   "id": "5b9d3ada",
   "metadata": {},
   "outputs": [],
   "source": [
    "myspeaker=pyttsx3.init()"
   ]
  },
  {
   "cell_type": "code",
   "execution_count": 10,
   "id": "014e2631",
   "metadata": {},
   "outputs": [],
   "source": [
    "myspeaker.say(\"Welcome to Linux World\")\n"
   ]
  },
  {
   "cell_type": "code",
   "execution_count": 11,
   "id": "0ff04d57",
   "metadata": {},
   "outputs": [],
   "source": [
    "myspeaker.runAndWait()"
   ]
  },
  {
   "cell_type": "code",
   "execution_count": 14,
   "id": "5ebaa9e1",
   "metadata": {},
   "outputs": [],
   "source": [
    "db=[1,\"vimal\",\"ok\",98291]"
   ]
  },
  {
   "cell_type": "code",
   "execution_count": 15,
   "id": "615f4a0d",
   "metadata": {},
   "outputs": [],
   "source": [
    "db.insert(2,\"v@gmail.com\")"
   ]
  },
  {
   "cell_type": "code",
   "execution_count": 16,
   "id": "d10345bd",
   "metadata": {},
   "outputs": [
    {
     "data": {
      "text/plain": [
       "'ok'"
      ]
     },
     "execution_count": 16,
     "metadata": {},
     "output_type": "execute_result"
    }
   ],
   "source": [
    "db[3]\n"
   ]
  },
  {
   "cell_type": "code",
   "execution_count": 24,
   "id": "32c31c6e",
   "metadata": {},
   "outputs": [],
   "source": [
    "db={ \n",
    "    \"id\":1,\n",
    "    \"name\":\"vimal\",\n",
    "    \"email\":\"v@gmail.com\",\n",
    "    \"remarks\":\"ok\",\n",
    "    \"mob\":98291\n",
    "  }"
   ]
  },
  {
   "cell_type": "markdown",
   "id": "7ae70afe",
   "metadata": {},
   "source": [
    "Key should be always unique"
   ]
  },
  {
   "cell_type": "code",
   "execution_count": 25,
   "id": "723072f5",
   "metadata": {},
   "outputs": [
    {
     "data": {
      "text/plain": [
       "dict"
      ]
     },
     "execution_count": 25,
     "metadata": {},
     "output_type": "execute_result"
    }
   ],
   "source": [
    "type(db)"
   ]
  },
  {
   "cell_type": "code",
   "execution_count": 26,
   "id": "1d501799",
   "metadata": {},
   "outputs": [
    {
     "data": {
      "text/plain": [
       "98291"
      ]
     },
     "execution_count": 26,
     "metadata": {},
     "output_type": "execute_result"
    }
   ],
   "source": [
    "db[\"mob\"]"
   ]
  },
  {
   "cell_type": "code",
   "execution_count": 38,
   "id": "b1bc93fc",
   "metadata": {},
   "outputs": [],
   "source": [
    "students ={\n",
    "    \"name\":[\"vimal\",\"abhi\",\"rahul\",\"tom\"],\n",
    "    \"remarks\": [\"ok\",\"good\",\"vgood\",\"good\"],\n",
    "    \"mob\": [1111,2222,3333,4444]\n",
    "}"
   ]
  },
  {
   "cell_type": "code",
   "execution_count": 39,
   "id": "e3315ce2",
   "metadata": {},
   "outputs": [
    {
     "data": {
      "text/plain": [
       "{'name': ['vimal', 'abhi', 'rahul', 'tom'],\n",
       " 'remarks': ['ok', 'good', 'vgood', 'good'],\n",
       " 'mob': [1111, 2222, 3333, 4444]}"
      ]
     },
     "execution_count": 39,
     "metadata": {},
     "output_type": "execute_result"
    }
   ],
   "source": [
    "students\n"
   ]
  },
  {
   "cell_type": "code",
   "execution_count": 40,
   "id": "eddb4ede",
   "metadata": {},
   "outputs": [
    {
     "data": {
      "text/plain": [
       "2222"
      ]
     },
     "execution_count": 40,
     "metadata": {},
     "output_type": "execute_result"
    }
   ],
   "source": [
    "students[\"mob\"][1]"
   ]
  },
  {
   "cell_type": "code",
   "execution_count": 41,
   "id": "f0616410",
   "metadata": {},
   "outputs": [
    {
     "data": {
      "text/plain": [
       "[2222, 3333]"
      ]
     },
     "execution_count": 41,
     "metadata": {},
     "output_type": "execute_result"
    }
   ],
   "source": [
    "students[\"mob\"][1:3]"
   ]
  },
  {
   "cell_type": "markdown",
   "id": "65b966a8",
   "metadata": {},
   "source": [
    "We can only do column-wise operation in dictionary wherelse we can only do row-wise operation in list"
   ]
  },
  {
   "cell_type": "code",
   "execution_count": 42,
   "id": "4c5a5ab2",
   "metadata": {},
   "outputs": [],
   "source": [
    "import pandas"
   ]
  },
  {
   "cell_type": "code",
   "execution_count": 45,
   "id": "0ca0bf4b",
   "metadata": {},
   "outputs": [],
   "source": [
    "mydb=pandas.DataFrame(students)"
   ]
  },
  {
   "cell_type": "code",
   "execution_count": 47,
   "id": "e22fdf09",
   "metadata": {},
   "outputs": [
    {
     "data": {
      "text/plain": [
       "pandas.core.frame.DataFrame"
      ]
     },
     "execution_count": 47,
     "metadata": {},
     "output_type": "execute_result"
    }
   ],
   "source": [
    "type(mydb)"
   ]
  },
  {
   "cell_type": "code",
   "execution_count": 48,
   "id": "3acc33d2",
   "metadata": {},
   "outputs": [
    {
     "data": {
      "text/html": [
       "<div>\n",
       "<style scoped>\n",
       "    .dataframe tbody tr th:only-of-type {\n",
       "        vertical-align: middle;\n",
       "    }\n",
       "\n",
       "    .dataframe tbody tr th {\n",
       "        vertical-align: top;\n",
       "    }\n",
       "\n",
       "    .dataframe thead th {\n",
       "        text-align: right;\n",
       "    }\n",
       "</style>\n",
       "<table border=\"1\" class=\"dataframe\">\n",
       "  <thead>\n",
       "    <tr style=\"text-align: right;\">\n",
       "      <th></th>\n",
       "      <th>name</th>\n",
       "      <th>remarks</th>\n",
       "      <th>mob</th>\n",
       "    </tr>\n",
       "  </thead>\n",
       "  <tbody>\n",
       "    <tr>\n",
       "      <th>0</th>\n",
       "      <td>vimal</td>\n",
       "      <td>ok</td>\n",
       "      <td>1111</td>\n",
       "    </tr>\n",
       "    <tr>\n",
       "      <th>1</th>\n",
       "      <td>abhi</td>\n",
       "      <td>good</td>\n",
       "      <td>2222</td>\n",
       "    </tr>\n",
       "    <tr>\n",
       "      <th>2</th>\n",
       "      <td>rahul</td>\n",
       "      <td>vgood</td>\n",
       "      <td>3333</td>\n",
       "    </tr>\n",
       "    <tr>\n",
       "      <th>3</th>\n",
       "      <td>tom</td>\n",
       "      <td>good</td>\n",
       "      <td>4444</td>\n",
       "    </tr>\n",
       "  </tbody>\n",
       "</table>\n",
       "</div>"
      ],
      "text/plain": [
       "    name remarks   mob\n",
       "0  vimal      ok  1111\n",
       "1   abhi    good  2222\n",
       "2  rahul   vgood  3333\n",
       "3    tom    good  4444"
      ]
     },
     "execution_count": 48,
     "metadata": {},
     "output_type": "execute_result"
    }
   ],
   "source": [
    "mydb"
   ]
  },
  {
   "cell_type": "code",
   "execution_count": 50,
   "id": "06667bbf",
   "metadata": {},
   "outputs": [
    {
     "data": {
      "text/html": [
       "<div>\n",
       "<style scoped>\n",
       "    .dataframe tbody tr th:only-of-type {\n",
       "        vertical-align: middle;\n",
       "    }\n",
       "\n",
       "    .dataframe tbody tr th {\n",
       "        vertical-align: top;\n",
       "    }\n",
       "\n",
       "    .dataframe thead th {\n",
       "        text-align: right;\n",
       "    }\n",
       "</style>\n",
       "<table border=\"1\" class=\"dataframe\">\n",
       "  <thead>\n",
       "    <tr style=\"text-align: right;\">\n",
       "      <th></th>\n",
       "      <th>name</th>\n",
       "      <th>mob</th>\n",
       "    </tr>\n",
       "  </thead>\n",
       "  <tbody>\n",
       "    <tr>\n",
       "      <th>0</th>\n",
       "      <td>vimal</td>\n",
       "      <td>1111</td>\n",
       "    </tr>\n",
       "    <tr>\n",
       "      <th>1</th>\n",
       "      <td>abhi</td>\n",
       "      <td>2222</td>\n",
       "    </tr>\n",
       "    <tr>\n",
       "      <th>2</th>\n",
       "      <td>rahul</td>\n",
       "      <td>3333</td>\n",
       "    </tr>\n",
       "    <tr>\n",
       "      <th>3</th>\n",
       "      <td>tom</td>\n",
       "      <td>4444</td>\n",
       "    </tr>\n",
       "  </tbody>\n",
       "</table>\n",
       "</div>"
      ],
      "text/plain": [
       "    name   mob\n",
       "0  vimal  1111\n",
       "1   abhi  2222\n",
       "2  rahul  3333\n",
       "3    tom  4444"
      ]
     },
     "execution_count": 50,
     "metadata": {},
     "output_type": "execute_result"
    }
   ],
   "source": [
    "mydb[[\"name\",\"mob\"]]"
   ]
  },
  {
   "cell_type": "code",
   "execution_count": 51,
   "id": "dfe54f7d",
   "metadata": {},
   "outputs": [
    {
     "data": {
      "text/plain": [
       "name       rahul\n",
       "remarks    vgood\n",
       "mob         3333\n",
       "Name: 2, dtype: object"
      ]
     },
     "execution_count": 51,
     "metadata": {},
     "output_type": "execute_result"
    }
   ],
   "source": [
    "mydb.loc[2]"
   ]
  },
  {
   "cell_type": "code",
   "execution_count": 52,
   "id": "64468d2d",
   "metadata": {},
   "outputs": [
    {
     "data": {
      "text/html": [
       "<div>\n",
       "<style scoped>\n",
       "    .dataframe tbody tr th:only-of-type {\n",
       "        vertical-align: middle;\n",
       "    }\n",
       "\n",
       "    .dataframe tbody tr th {\n",
       "        vertical-align: top;\n",
       "    }\n",
       "\n",
       "    .dataframe thead th {\n",
       "        text-align: right;\n",
       "    }\n",
       "</style>\n",
       "<table border=\"1\" class=\"dataframe\">\n",
       "  <thead>\n",
       "    <tr style=\"text-align: right;\">\n",
       "      <th></th>\n",
       "      <th>name</th>\n",
       "      <th>remarks</th>\n",
       "      <th>mob</th>\n",
       "    </tr>\n",
       "  </thead>\n",
       "  <tbody>\n",
       "    <tr>\n",
       "      <th>2</th>\n",
       "      <td>rahul</td>\n",
       "      <td>vgood</td>\n",
       "      <td>3333</td>\n",
       "    </tr>\n",
       "    <tr>\n",
       "      <th>3</th>\n",
       "      <td>tom</td>\n",
       "      <td>good</td>\n",
       "      <td>4444</td>\n",
       "    </tr>\n",
       "  </tbody>\n",
       "</table>\n",
       "</div>"
      ],
      "text/plain": [
       "    name remarks   mob\n",
       "2  rahul   vgood  3333\n",
       "3    tom    good  4444"
      ]
     },
     "execution_count": 52,
     "metadata": {},
     "output_type": "execute_result"
    }
   ],
   "source": [
    "mydb.loc[[2,3]]"
   ]
  },
  {
   "cell_type": "code",
   "execution_count": 53,
   "id": "011bf2a9",
   "metadata": {},
   "outputs": [
    {
     "data": {
      "text/html": [
       "<div>\n",
       "<style scoped>\n",
       "    .dataframe tbody tr th:only-of-type {\n",
       "        vertical-align: middle;\n",
       "    }\n",
       "\n",
       "    .dataframe tbody tr th {\n",
       "        vertical-align: top;\n",
       "    }\n",
       "\n",
       "    .dataframe thead th {\n",
       "        text-align: right;\n",
       "    }\n",
       "</style>\n",
       "<table border=\"1\" class=\"dataframe\">\n",
       "  <thead>\n",
       "    <tr style=\"text-align: right;\">\n",
       "      <th></th>\n",
       "      <th>name</th>\n",
       "      <th>remarks</th>\n",
       "      <th>mob</th>\n",
       "    </tr>\n",
       "  </thead>\n",
       "  <tbody>\n",
       "    <tr>\n",
       "      <th>2</th>\n",
       "      <td>rahul</td>\n",
       "      <td>vgood</td>\n",
       "      <td>3333</td>\n",
       "    </tr>\n",
       "    <tr>\n",
       "      <th>3</th>\n",
       "      <td>tom</td>\n",
       "      <td>good</td>\n",
       "      <td>4444</td>\n",
       "    </tr>\n",
       "  </tbody>\n",
       "</table>\n",
       "</div>"
      ],
      "text/plain": [
       "    name remarks   mob\n",
       "2  rahul   vgood  3333\n",
       "3    tom    good  4444"
      ]
     },
     "execution_count": 53,
     "metadata": {},
     "output_type": "execute_result"
    }
   ],
   "source": [
    "mydb.loc[2:3]"
   ]
  },
  {
   "cell_type": "code",
   "execution_count": 55,
   "id": "1030a1ad",
   "metadata": {},
   "outputs": [],
   "source": [
    "mynewdb=pandas.read_csv(\"mydbtest.csv\")"
   ]
  },
  {
   "cell_type": "code",
   "execution_count": 56,
   "id": "629a8554",
   "metadata": {},
   "outputs": [
    {
     "data": {
      "text/plain": [
       "pandas.core.frame.DataFrame"
      ]
     },
     "execution_count": 56,
     "metadata": {},
     "output_type": "execute_result"
    }
   ],
   "source": [
    "type(mynewdb)"
   ]
  },
  {
   "cell_type": "code",
   "execution_count": 57,
   "id": "3e62a4ce",
   "metadata": {},
   "outputs": [
    {
     "data": {
      "text/plain": [
       "<bound method NDFrame.describe of      name  age  mob no remarks\n",
       "0    Jack   23    1111      ok\n",
       "1  Harry    22   22222    good\n",
       "2   Umesh   21    3333   vgood>"
      ]
     },
     "execution_count": 57,
     "metadata": {},
     "output_type": "execute_result"
    }
   ],
   "source": [
    "mynewdb.describe"
   ]
  },
  {
   "cell_type": "code",
   "execution_count": 58,
   "id": "987376be",
   "metadata": {},
   "outputs": [
    {
     "data": {
      "text/html": [
       "<div>\n",
       "<style scoped>\n",
       "    .dataframe tbody tr th:only-of-type {\n",
       "        vertical-align: middle;\n",
       "    }\n",
       "\n",
       "    .dataframe tbody tr th {\n",
       "        vertical-align: top;\n",
       "    }\n",
       "\n",
       "    .dataframe thead th {\n",
       "        text-align: right;\n",
       "    }\n",
       "</style>\n",
       "<table border=\"1\" class=\"dataframe\">\n",
       "  <thead>\n",
       "    <tr style=\"text-align: right;\">\n",
       "      <th></th>\n",
       "      <th>name</th>\n",
       "      <th>age</th>\n",
       "      <th>mob no</th>\n",
       "      <th>remarks</th>\n",
       "    </tr>\n",
       "  </thead>\n",
       "  <tbody>\n",
       "    <tr>\n",
       "      <th>0</th>\n",
       "      <td>Jack</td>\n",
       "      <td>23</td>\n",
       "      <td>1111</td>\n",
       "      <td>ok</td>\n",
       "    </tr>\n",
       "    <tr>\n",
       "      <th>1</th>\n",
       "      <td>Harry</td>\n",
       "      <td>22</td>\n",
       "      <td>22222</td>\n",
       "      <td>good</td>\n",
       "    </tr>\n",
       "    <tr>\n",
       "      <th>2</th>\n",
       "      <td>Umesh</td>\n",
       "      <td>21</td>\n",
       "      <td>3333</td>\n",
       "      <td>vgood</td>\n",
       "    </tr>\n",
       "  </tbody>\n",
       "</table>\n",
       "</div>"
      ],
      "text/plain": [
       "     name  age  mob no remarks\n",
       "0    Jack   23    1111      ok\n",
       "1  Harry    22   22222    good\n",
       "2   Umesh   21    3333   vgood"
      ]
     },
     "execution_count": 58,
     "metadata": {},
     "output_type": "execute_result"
    }
   ],
   "source": [
    "mynewdb"
   ]
  },
  {
   "cell_type": "code",
   "execution_count": 59,
   "id": "bcb41f47",
   "metadata": {},
   "outputs": [
    {
     "data": {
      "text/plain": [
       "array([['Jack', 23, 1111, 'ok'],\n",
       "       ['Harry ', 22, 22222, 'good'],\n",
       "       ['Umesh', 21, 3333, 'vgood']], dtype=object)"
      ]
     },
     "execution_count": 59,
     "metadata": {},
     "output_type": "execute_result"
    }
   ],
   "source": [
    "mynewdb.values"
   ]
  },
  {
   "cell_type": "code",
   "execution_count": null,
   "id": "045de261",
   "metadata": {},
   "outputs": [],
   "source": []
  }
 ],
 "metadata": {
  "kernelspec": {
   "display_name": "Python 3 (ipykernel)",
   "language": "python",
   "name": "python3"
  },
  "language_info": {
   "codemirror_mode": {
    "name": "ipython",
    "version": 3
   },
   "file_extension": ".py",
   "mimetype": "text/x-python",
   "name": "python",
   "nbconvert_exporter": "python",
   "pygments_lexer": "ipython3",
   "version": "3.10.9"
  }
 },
 "nbformat": 4,
 "nbformat_minor": 5
}
