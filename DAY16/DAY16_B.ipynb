{
 "cells": [
  {
   "cell_type": "code",
   "execution_count": 1,
   "id": "576d9b8f",
   "metadata": {},
   "outputs": [],
   "source": [
    "import cv2"
   ]
  },
  {
   "cell_type": "code",
   "execution_count": 2,
   "id": "97e0bd35",
   "metadata": {},
   "outputs": [
    {
     "ename": "NameError",
     "evalue": "name 'detector' is not defined",
     "output_type": "error",
     "traceback": [
      "\u001b[1;31m---------------------------------------------------------------------------\u001b[0m",
      "\u001b[1;31mNameError\u001b[0m                                 Traceback (most recent call last)",
      "Cell \u001b[1;32mIn[2], line 10\u001b[0m\n\u001b[0;32m      6\u001b[0m gray \u001b[38;5;241m=\u001b[39m cv2\u001b[38;5;241m.\u001b[39mcvtColor(frame, cv2\u001b[38;5;241m.\u001b[39mCOLOR_BGR2GRAY)\n\u001b[0;32m      8\u001b[0m \u001b[38;5;66;03m# Detect faces in the grayscale image\u001b[39;00m\n\u001b[1;32m---> 10\u001b[0m faces \u001b[38;5;241m=\u001b[39m \u001b[43mdetector\u001b[49m(gray)\n\u001b[0;32m     12\u001b[0m \u001b[38;5;66;03m# Iterate over the detected faces\u001b[39;00m\n\u001b[0;32m     13\u001b[0m \u001b[38;5;28;01mfor\u001b[39;00m face \u001b[38;5;129;01min\u001b[39;00m faces:\n\u001b[0;32m     14\u001b[0m     \u001b[38;5;66;03m# Detect landmarks for each face\u001b[39;00m\n",
      "\u001b[1;31mNameError\u001b[0m: name 'detector' is not defined"
     ]
    }
   ],
   "source": [
    "import py_avataaars as pa\n",
    "\n",
    "# Assign various parameters to your avatar\n",
    "avatar = pa.PyAvataaar(\n",
    "    style=pa.AvatarStyle.CIRCLE,\n",
    "    skin_color=pa.SkinColor.LIGHT,\n",
    "    hair_color=pa.HairColor.BROWN,\n",
    "    facial_hair_type=pa.FacialHairType.DEFAULT,\n",
    "    top_type=pa.TopType.SHORT_HAIR_SHORT_FLAT,\n",
    "    top_color=pa.HairColor.BLACK,\n",
    "    mouth_type=pa.MouthType.SMILE,\n",
    "    eye_type=pa.EyeType.DEFAULT,\n",
    "    eyebrow_type=pa.EyebrowType.DEFAULT,\n",
    "    nose_type=pa.NoseType.DEFAULT,\n",
    "    accessories_type=pa.AccessoriesType.PRESCRIPTION02,\n",
    "    accessories_color=pa.ClotheColor.BLACK,\n",
    "    clothe_type=pa.ClotheType.BLANK,\n",
    "    clothe_color=pa.ClotheColor.WHITE\n",
    ")\n",
    "\n",
    "avatar.render_png_file('avatar.png')"
   ]
  },
  {
   "cell_type": "code",
   "execution_count": null,
   "id": "d0c2f133",
   "metadata": {},
   "outputs": [],
   "source": []
  },
  {
   "cell_type": "code",
   "execution_count": null,
   "id": "0be2e4bd",
   "metadata": {},
   "outputs": [],
   "source": []
  }
 ],
 "metadata": {
  "kernelspec": {
   "display_name": "Python 3 (ipykernel)",
   "language": "python",
   "name": "python3"
  },
  "language_info": {
   "codemirror_mode": {
    "name": "ipython",
    "version": 3
   },
   "file_extension": ".py",
   "mimetype": "text/x-python",
   "name": "python",
   "nbconvert_exporter": "python",
   "pygments_lexer": "ipython3",
   "version": "3.10.9"
  }
 },
 "nbformat": 4,
 "nbformat_minor": 5
}
