{
 "cells": [
  {
   "cell_type": "code",
   "execution_count": 3,
   "id": "b9d25f5b",
   "metadata": {},
   "outputs": [],
   "source": [
    "fh=open(\"lwfile.txt\",\"r\")"
   ]
  },
  {
   "cell_type": "code",
   "execution_count": 4,
   "id": "813ef244",
   "metadata": {},
   "outputs": [
    {
     "data": {
      "text/plain": [
       "'someone 3920342 ok 38420324'"
      ]
     },
     "execution_count": 4,
     "metadata": {},
     "output_type": "execute_result"
    }
   ],
   "source": [
    "fh.read()"
   ]
  },
  {
   "cell_type": "code",
   "execution_count": 5,
   "id": "e5347aa9",
   "metadata": {},
   "outputs": [],
   "source": [
    "fh.close()"
   ]
  },
  {
   "cell_type": "code",
   "execution_count": 6,
   "id": "d8f3b800",
   "metadata": {},
   "outputs": [
    {
     "name": "stdout",
     "output_type": "stream",
     "text": [
      "someone 3920342 ok 38420324\n"
     ]
    }
   ],
   "source": [
    "with open(\"lwfile.txt\",\"r\") as fh:\n",
    "    data=fh.read()\n",
    "    print(data)"
   ]
  },
  {
   "cell_type": "code",
   "execution_count": 7,
   "id": "0cedd5f8",
   "metadata": {},
   "outputs": [
    {
     "ename": "ModuleNotFoundError",
     "evalue": "No module named 'speech_recognition'",
     "output_type": "error",
     "traceback": [
      "\u001b[1;31m---------------------------------------------------------------------------\u001b[0m",
      "\u001b[1;31mModuleNotFoundError\u001b[0m                       Traceback (most recent call last)",
      "Cell \u001b[1;32mIn[7], line 1\u001b[0m\n\u001b[1;32m----> 1\u001b[0m \u001b[38;5;28;01mimport\u001b[39;00m \u001b[38;5;21;01mspeech_recognition\u001b[39;00m \u001b[38;5;28;01mas\u001b[39;00m \u001b[38;5;21;01msr\u001b[39;00m\n",
      "\u001b[1;31mModuleNotFoundError\u001b[0m: No module named 'speech_recognition'"
     ]
    }
   ],
   "source": [
    "import speech_recognition as sr"
   ]
  },
  {
   "cell_type": "code",
   "execution_count": 8,
   "id": "3efaa835",
   "metadata": {},
   "outputs": [
    {
     "ename": "NameError",
     "evalue": "name 'sr' is not defined",
     "output_type": "error",
     "traceback": [
      "\u001b[1;31m---------------------------------------------------------------------------\u001b[0m",
      "\u001b[1;31mNameError\u001b[0m                                 Traceback (most recent call last)",
      "Cell \u001b[1;32mIn[8], line 1\u001b[0m\n\u001b[1;32m----> 1\u001b[0m r\u001b[38;5;241m=\u001b[39m\u001b[43msr\u001b[49m\u001b[38;5;241m.\u001b[39mRecognizer()\n",
      "\u001b[1;31mNameError\u001b[0m: name 'sr' is not defined"
     ]
    }
   ],
   "source": [
    "r=sr.Recognizer()"
   ]
  },
  {
   "cell_type": "code",
   "execution_count": 9,
   "id": "58ed8b87",
   "metadata": {},
   "outputs": [
    {
     "ename": "NameError",
     "evalue": "name 'sr' is not defined",
     "output_type": "error",
     "traceback": [
      "\u001b[1;31m---------------------------------------------------------------------------\u001b[0m",
      "\u001b[1;31mNameError\u001b[0m                                 Traceback (most recent call last)",
      "Cell \u001b[1;32mIn[9], line 1\u001b[0m\n\u001b[1;32m----> 1\u001b[0m \u001b[38;5;28;01mwith\u001b[39;00m \u001b[43msr\u001b[49m\u001b[38;5;241m.\u001b[39mMicrophone() \u001b[38;5;28;01mas\u001b[39;00m mymic:\n\u001b[0;32m      2\u001b[0m     audio\u001b[38;5;241m=\u001b[39mr\u001b[38;5;241m.\u001b[39mrecord(mymic,duration\u001b[38;5;241m=\u001b[39m\u001b[38;5;241m5\u001b[39m)\n\u001b[0;32m      3\u001b[0m     text\u001b[38;5;241m=\u001b[39mr\u001b[38;5;241m.\u001b[39mrecognize_google(audio)\n",
      "\u001b[1;31mNameError\u001b[0m: name 'sr' is not defined"
     ]
    }
   ],
   "source": [
    "with sr.Microphone() as mymic:\n",
    "    audio=r.record(mymic,duration=5)\n",
    "    text=r.recognize_google(audio)\n",
    "    print(text)\n",
    "    if \"chrome\" in text:\n",
    "        os.system(\"chrome\")\n",
    "    else:\n",
    "        print(\"we dont\")"
   ]
  },
  {
   "cell_type": "code",
   "execution_count": null,
   "id": "04b7bd8c",
   "metadata": {},
   "outputs": [],
   "source": [
    "with open(\"myoutput.wav\",\"wb\") as myfh:\n",
    "    myfh.write(audio)"
   ]
  },
  {
   "cell_type": "code",
   "execution_count": 1,
   "id": "d351026f",
   "metadata": {},
   "outputs": [
    {
     "name": "stdout",
     "output_type": "stream",
     "text": [
      "Enter ur choice :I want to run chrome\n"
     ]
    }
   ],
   "source": [
    "ch =input(\"Enter ur choice :\")"
   ]
  },
  {
   "cell_type": "code",
   "execution_count": null,
   "id": "8c831214",
   "metadata": {},
   "outputs": [],
   "source": [
    "if \"chrome\" in ch:\n",
    "    os.system(\"chrome\")\n",
    "else:\n",
    "    print(\"we dont\")"
   ]
  }
 ],
 "metadata": {
  "kernelspec": {
   "display_name": "Python 3 (ipykernel)",
   "language": "python",
   "name": "python3"
  },
  "language_info": {
   "codemirror_mode": {
    "name": "ipython",
    "version": 3
   },
   "file_extension": ".py",
   "mimetype": "text/x-python",
   "name": "python",
   "nbconvert_exporter": "python",
   "pygments_lexer": "ipython3",
   "version": "3.10.9"
  }
 },
 "nbformat": 4,
 "nbformat_minor": 5
}
