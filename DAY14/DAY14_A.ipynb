{
 "cells": [
  {
   "cell_type": "code",
   "execution_count": 1,
   "id": "00e7ed37",
   "metadata": {},
   "outputs": [],
   "source": [
    "a=[93,3,42]"
   ]
  },
  {
   "cell_type": "code",
   "execution_count": 2,
   "id": "3d3a6f92",
   "metadata": {},
   "outputs": [
    {
     "name": "stdout",
     "output_type": "stream",
     "text": [
      "93\n",
      "3\n",
      "42\n"
     ]
    }
   ],
   "source": [
    "for i in a:\n",
    "    print(i)"
   ]
  },
  {
   "cell_type": "code",
   "execution_count": 9,
   "id": "fbab2253",
   "metadata": {},
   "outputs": [],
   "source": [
    "a=list(range(5))"
   ]
  },
  {
   "cell_type": "code",
   "execution_count": 10,
   "id": "8793020e",
   "metadata": {},
   "outputs": [
    {
     "name": "stdout",
     "output_type": "stream",
     "text": [
      "[0, 1, 2, 3, 4]\n"
     ]
    }
   ],
   "source": [
    "print(a)"
   ]
  },
  {
   "cell_type": "code",
   "execution_count": 11,
   "id": "f533280c",
   "metadata": {},
   "outputs": [],
   "source": [
    "a=list(range(50))"
   ]
  },
  {
   "cell_type": "code",
   "execution_count": 12,
   "id": "c54282a9",
   "metadata": {},
   "outputs": [
    {
     "name": "stdout",
     "output_type": "stream",
     "text": [
      "[0, 1, 2, 3, 4, 5, 6, 7, 8, 9, 10, 11, 12, 13, 14, 15, 16, 17, 18, 19, 20, 21, 22, 23, 24, 25, 26, 27, 28, 29, 30, 31, 32, 33, 34, 35, 36, 37, 38, 39, 40, 41, 42, 43, 44, 45, 46, 47, 48, 49]\n"
     ]
    }
   ],
   "source": [
    "print(a)"
   ]
  },
  {
   "cell_type": "code",
   "execution_count": 13,
   "id": "56e1e5e8",
   "metadata": {},
   "outputs": [],
   "source": [
    "a=list(range(10,50))"
   ]
  },
  {
   "cell_type": "code",
   "execution_count": 14,
   "id": "b31ffffa",
   "metadata": {},
   "outputs": [
    {
     "name": "stdout",
     "output_type": "stream",
     "text": [
      "[10, 11, 12, 13, 14, 15, 16, 17, 18, 19, 20, 21, 22, 23, 24, 25, 26, 27, 28, 29, 30, 31, 32, 33, 34, 35, 36, 37, 38, 39, 40, 41, 42, 43, 44, 45, 46, 47, 48, 49]\n"
     ]
    }
   ],
   "source": [
    "print(a)"
   ]
  },
  {
   "cell_type": "code",
   "execution_count": 15,
   "id": "171ac638",
   "metadata": {},
   "outputs": [
    {
     "data": {
      "text/plain": [
       "[10, 13, 16, 19, 22, 25, 28, 31, 34, 37, 40, 43, 46, 49]"
      ]
     },
     "execution_count": 15,
     "metadata": {},
     "output_type": "execute_result"
    }
   ],
   "source": [
    "list(range(10,50,3))"
   ]
  },
  {
   "cell_type": "code",
   "execution_count": 16,
   "id": "620a16b7",
   "metadata": {},
   "outputs": [],
   "source": [
    "a=list( i*2 for i in range(1,11))"
   ]
  },
  {
   "cell_type": "code",
   "execution_count": 17,
   "id": "16b07cd9",
   "metadata": {},
   "outputs": [
    {
     "data": {
      "text/plain": [
       "[2, 4, 6, 8, 10, 12, 14, 16, 18, 20]"
      ]
     },
     "execution_count": 17,
     "metadata": {},
     "output_type": "execute_result"
    }
   ],
   "source": [
    "a"
   ]
  },
  {
   "cell_type": "code",
   "execution_count": 20,
   "id": "95c81c70",
   "metadata": {},
   "outputs": [],
   "source": [
    "def lw():\n",
    "    for i in range(1,6):\n",
    "        print(i,end=\" \")"
   ]
  },
  {
   "cell_type": "code",
   "execution_count": 21,
   "id": "3a143454",
   "metadata": {},
   "outputs": [
    {
     "name": "stdout",
     "output_type": "stream",
     "text": [
      "1 2 3 4 5 "
     ]
    }
   ],
   "source": [
    "lw()"
   ]
  },
  {
   "cell_type": "code",
   "execution_count": 22,
   "id": "17f0ae93",
   "metadata": {},
   "outputs": [],
   "source": [
    "def lw1():\n",
    "    for i in range(1,10):\n",
    "        return i"
   ]
  },
  {
   "cell_type": "code",
   "execution_count": 23,
   "id": "47a5884f",
   "metadata": {},
   "outputs": [
    {
     "data": {
      "text/plain": [
       "1"
      ]
     },
     "execution_count": 23,
     "metadata": {},
     "output_type": "execute_result"
    }
   ],
   "source": [
    "lw1()"
   ]
  },
  {
   "cell_type": "code",
   "execution_count": 24,
   "id": "9e78fb78",
   "metadata": {},
   "outputs": [
    {
     "data": {
      "text/plain": [
       "1"
      ]
     },
     "execution_count": 24,
     "metadata": {},
     "output_type": "execute_result"
    }
   ],
   "source": [
    "lw1()"
   ]
  },
  {
   "cell_type": "code",
   "execution_count": 25,
   "id": "f26f6891",
   "metadata": {},
   "outputs": [],
   "source": [
    "l=list(range(0,10))"
   ]
  },
  {
   "cell_type": "code",
   "execution_count": 29,
   "id": "20193632",
   "metadata": {},
   "outputs": [],
   "source": [
    "i=0"
   ]
  },
  {
   "cell_type": "code",
   "execution_count": 30,
   "id": "dc35173f",
   "metadata": {},
   "outputs": [],
   "source": [
    "def lw2(l,i):\n",
    "    return l[i],i+1\n",
    "    "
   ]
  },
  {
   "cell_type": "code",
   "execution_count": 46,
   "id": "0d30799c",
   "metadata": {},
   "outputs": [],
   "source": [
    "ans,i=lw2(l,i)"
   ]
  },
  {
   "cell_type": "code",
   "execution_count": 47,
   "id": "e8906669",
   "metadata": {},
   "outputs": [
    {
     "data": {
      "text/plain": [
       "5"
      ]
     },
     "execution_count": 47,
     "metadata": {},
     "output_type": "execute_result"
    }
   ],
   "source": [
    "ans"
   ]
  },
  {
   "cell_type": "code",
   "execution_count": 48,
   "id": "b0b9484f",
   "metadata": {},
   "outputs": [
    {
     "data": {
      "text/plain": [
       "6"
      ]
     },
     "execution_count": 48,
     "metadata": {},
     "output_type": "execute_result"
    }
   ],
   "source": [
    "i"
   ]
  },
  {
   "cell_type": "code",
   "execution_count": 49,
   "id": "d6dfbbdc",
   "metadata": {},
   "outputs": [],
   "source": [
    "l=[i for i in range(0,10)]"
   ]
  },
  {
   "cell_type": "code",
   "execution_count": 50,
   "id": "27e6c377",
   "metadata": {},
   "outputs": [
    {
     "data": {
      "text/plain": [
       "[0, 1, 2, 3, 4, 5, 6, 7, 8, 9]"
      ]
     },
     "execution_count": 50,
     "metadata": {},
     "output_type": "execute_result"
    }
   ],
   "source": [
    "l"
   ]
  },
  {
   "cell_type": "code",
   "execution_count": 51,
   "id": "ab7fefca",
   "metadata": {},
   "outputs": [],
   "source": [
    "def lw():\n",
    "    lst=[]\n",
    "    for i in range(1,6):\n",
    "        yield i"
   ]
  },
  {
   "cell_type": "code",
   "execution_count": 53,
   "id": "ce58fa19",
   "metadata": {},
   "outputs": [],
   "source": [
    "number=lw()"
   ]
  },
  {
   "cell_type": "code",
   "execution_count": 54,
   "id": "f2b43b15",
   "metadata": {},
   "outputs": [
    {
     "name": "stdout",
     "output_type": "stream",
     "text": [
      "1\n"
     ]
    }
   ],
   "source": [
    "print(next(number))"
   ]
  },
  {
   "cell_type": "code",
   "execution_count": 55,
   "id": "d0db30b1",
   "metadata": {},
   "outputs": [
    {
     "name": "stdout",
     "output_type": "stream",
     "text": [
      "2\n"
     ]
    }
   ],
   "source": [
    "print(next(number))"
   ]
  },
  {
   "cell_type": "code",
   "execution_count": 56,
   "id": "18ff89ec",
   "metadata": {},
   "outputs": [],
   "source": [
    "s=[]"
   ]
  },
  {
   "cell_type": "code",
   "execution_count": 57,
   "id": "cc9ef511",
   "metadata": {},
   "outputs": [],
   "source": [
    "s.append(\"ram\")"
   ]
  },
  {
   "cell_type": "code",
   "execution_count": 58,
   "id": "88b9e42f",
   "metadata": {},
   "outputs": [
    {
     "data": {
      "text/plain": [
       "['ram']"
      ]
     },
     "execution_count": 58,
     "metadata": {},
     "output_type": "execute_result"
    }
   ],
   "source": [
    "s"
   ]
  },
  {
   "cell_type": "code",
   "execution_count": 59,
   "id": "d0fec12f",
   "metadata": {},
   "outputs": [],
   "source": [
    "s.append(\"rahul\")"
   ]
  },
  {
   "cell_type": "code",
   "execution_count": 60,
   "id": "b1d52c6f",
   "metadata": {},
   "outputs": [
    {
     "data": {
      "text/plain": [
       "['ram', 'rahul']"
      ]
     },
     "execution_count": 60,
     "metadata": {},
     "output_type": "execute_result"
    }
   ],
   "source": [
    "s"
   ]
  },
  {
   "cell_type": "code",
   "execution_count": 61,
   "id": "211688be",
   "metadata": {},
   "outputs": [],
   "source": [
    "s.append(\"eric\")"
   ]
  },
  {
   "cell_type": "code",
   "execution_count": 62,
   "id": "c61f35db",
   "metadata": {},
   "outputs": [
    {
     "data": {
      "text/plain": [
       "['ram', 'rahul', 'eric']"
      ]
     },
     "execution_count": 62,
     "metadata": {},
     "output_type": "execute_result"
    }
   ],
   "source": [
    "s"
   ]
  },
  {
   "cell_type": "code",
   "execution_count": 63,
   "id": "d08c9cb9",
   "metadata": {},
   "outputs": [],
   "source": [
    "for i in [\"rahul\",\"eric\",\"pop\"]:\n",
    "    a.append(i)"
   ]
  },
  {
   "cell_type": "code",
   "execution_count": 64,
   "id": "eec7cf3a",
   "metadata": {},
   "outputs": [
    {
     "data": {
      "text/plain": [
       "[2, 4, 6, 8, 10, 12, 14, 16, 18, 20, 'rahul', 'eric', 'pop']"
      ]
     },
     "execution_count": 64,
     "metadata": {},
     "output_type": "execute_result"
    }
   ],
   "source": [
    "a"
   ]
  },
  {
   "cell_type": "code",
   "execution_count": 65,
   "id": "09e1a5a3",
   "metadata": {},
   "outputs": [],
   "source": [
    "a=[]"
   ]
  },
  {
   "cell_type": "code",
   "execution_count": 66,
   "id": "316d5fe5",
   "metadata": {},
   "outputs": [],
   "source": [
    "for i in range(1,11):\n",
    "    a.append(i*2)"
   ]
  },
  {
   "cell_type": "code",
   "execution_count": 67,
   "id": "e0d4d44c",
   "metadata": {},
   "outputs": [
    {
     "data": {
      "text/plain": [
       "[2, 4, 6, 8, 10, 12, 14, 16, 18, 20]"
      ]
     },
     "execution_count": 67,
     "metadata": {},
     "output_type": "execute_result"
    }
   ],
   "source": [
    "a"
   ]
  },
  {
   "cell_type": "code",
   "execution_count": 68,
   "id": "c3ac2262",
   "metadata": {},
   "outputs": [],
   "source": [
    "a=[]"
   ]
  },
  {
   "cell_type": "code",
   "execution_count": 69,
   "id": "8fc1a171",
   "metadata": {},
   "outputs": [],
   "source": [
    "a=[i*2  for i in range(1,11)]"
   ]
  },
  {
   "cell_type": "code",
   "execution_count": 70,
   "id": "fd5b6cdb",
   "metadata": {},
   "outputs": [
    {
     "data": {
      "text/plain": [
       "[2, 4, 6, 8, 10, 12, 14, 16, 18, 20]"
      ]
     },
     "execution_count": 70,
     "metadata": {},
     "output_type": "execute_result"
    }
   ],
   "source": [
    "a"
   ]
  },
  {
   "cell_type": "code",
   "execution_count": 72,
   "id": "d853566b",
   "metadata": {},
   "outputs": [],
   "source": [
    "names=[\"harry\",\"vimal\",\"pop\"]"
   ]
  },
  {
   "cell_type": "code",
   "execution_count": 73,
   "id": "0f49129f",
   "metadata": {},
   "outputs": [],
   "source": [
    "l= [i+\"@gmail.com\" for i in names]"
   ]
  },
  {
   "cell_type": "code",
   "execution_count": 74,
   "id": "a687b245",
   "metadata": {},
   "outputs": [
    {
     "data": {
      "text/plain": [
       "['harry@gmail.com', 'vimal@gmail.com', 'pop@gmail.com']"
      ]
     },
     "execution_count": 74,
     "metadata": {},
     "output_type": "execute_result"
    }
   ],
   "source": [
    "l"
   ]
  },
  {
   "cell_type": "code",
   "execution_count": 75,
   "id": "0e3ff02a",
   "metadata": {},
   "outputs": [],
   "source": [
    "salary=11"
   ]
  }
 ],
 "metadata": {
  "kernelspec": {
   "display_name": "Python 3 (ipykernel)",
   "language": "python",
   "name": "python3"
  },
  "language_info": {
   "codemirror_mode": {
    "name": "ipython",
    "version": 3
   },
   "file_extension": ".py",
   "mimetype": "text/x-python",
   "name": "python",
   "nbconvert_exporter": "python",
   "pygments_lexer": "ipython3",
   "version": "3.10.9"
  }
 },
 "nbformat": 4,
 "nbformat_minor": 5
}
