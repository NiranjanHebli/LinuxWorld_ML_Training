{
 "cells": [
  {
   "cell_type": "code",
   "execution_count": 2,
   "id": "34d6878d",
   "metadata": {},
   "outputs": [],
   "source": [
    "l=[\"Surya\",\"Muddit\",\"Nandini\",\"Ayush\"]"
   ]
  },
  {
   "cell_type": "code",
   "execution_count": 3,
   "id": "a81b2aa4",
   "metadata": {},
   "outputs": [
    {
     "data": {
      "text/plain": [
       "True"
      ]
     },
     "execution_count": 3,
     "metadata": {},
     "output_type": "execute_result"
    }
   ],
   "source": [
    "\"Surya\" in l"
   ]
  },
  {
   "cell_type": "code",
   "execution_count": 4,
   "id": "feea1b66",
   "metadata": {},
   "outputs": [
    {
     "data": {
      "text/plain": [
       "True"
      ]
     },
     "execution_count": 4,
     "metadata": {},
     "output_type": "execute_result"
    }
   ],
   "source": [
    "\"Muddit\" in l"
   ]
  },
  {
   "cell_type": "code",
   "execution_count": 5,
   "id": "ca1f57dd",
   "metadata": {},
   "outputs": [
    {
     "data": {
      "text/plain": [
       "False"
      ]
     },
     "execution_count": 5,
     "metadata": {},
     "output_type": "execute_result"
    }
   ],
   "source": [
    "\"Nandini\" not in l"
   ]
  },
  {
   "cell_type": "code",
   "execution_count": 6,
   "id": "1be56200",
   "metadata": {},
   "outputs": [
    {
     "name": "stdout",
     "output_type": "stream",
     "text": [
      "Surya is present\n"
     ]
    }
   ],
   "source": [
    "if \"Surya\" in l:\n",
    "    print(\"Surya is present\")"
   ]
  },
  {
   "cell_type": "code",
   "execution_count": 7,
   "id": "a41b4a82",
   "metadata": {},
   "outputs": [],
   "source": [
    "S=\"This is Linux World Class\""
   ]
  },
  {
   "cell_type": "code",
   "execution_count": 8,
   "id": "fd72ac3f",
   "metadata": {},
   "outputs": [
    {
     "data": {
      "text/plain": [
       "True"
      ]
     },
     "execution_count": 8,
     "metadata": {},
     "output_type": "execute_result"
    }
   ],
   "source": [
    "\"Linux\" in S"
   ]
  },
  {
   "cell_type": "code",
   "execution_count": 9,
   "id": "a9e35d3e",
   "metadata": {},
   "outputs": [
    {
     "data": {
      "text/plain": [
       "False"
      ]
     },
     "execution_count": 9,
     "metadata": {},
     "output_type": "execute_result"
    }
   ],
   "source": [
    "\"Python\" in S"
   ]
  },
  {
   "cell_type": "code",
   "execution_count": 10,
   "id": "a8abb0a0",
   "metadata": {},
   "outputs": [
    {
     "data": {
      "text/plain": [
       "False"
      ]
     },
     "execution_count": 10,
     "metadata": {},
     "output_type": "execute_result"
    }
   ],
   "source": [
    "\"S\" in l"
   ]
  },
  {
   "cell_type": "code",
   "execution_count": 11,
   "id": "d27bb2b8",
   "metadata": {},
   "outputs": [
    {
     "data": {
      "text/plain": [
       "True"
      ]
     },
     "execution_count": 11,
     "metadata": {},
     "output_type": "execute_result"
    }
   ],
   "source": [
    "5>2"
   ]
  },
  {
   "cell_type": "code",
   "execution_count": 12,
   "id": "725bbe0c",
   "metadata": {},
   "outputs": [
    {
     "data": {
      "text/plain": [
       "False"
      ]
     },
     "execution_count": 12,
     "metadata": {},
     "output_type": "execute_result"
    }
   ],
   "source": [
    "5>2 and 1>4"
   ]
  },
  {
   "cell_type": "code",
   "execution_count": 13,
   "id": "000169e9",
   "metadata": {},
   "outputs": [
    {
     "data": {
      "text/plain": [
       "1"
      ]
     },
     "execution_count": 13,
     "metadata": {},
     "output_type": "execute_result"
    }
   ],
   "source": [
    "1"
   ]
  },
  {
   "cell_type": "code",
   "execution_count": 14,
   "id": "819bed22",
   "metadata": {},
   "outputs": [
    {
     "data": {
      "text/plain": [
       "True"
      ]
     },
     "execution_count": 14,
     "metadata": {},
     "output_type": "execute_result"
    }
   ],
   "source": [
    "bool(1)"
   ]
  },
  {
   "cell_type": "code",
   "execution_count": 15,
   "id": "70d0ee6b",
   "metadata": {},
   "outputs": [
    {
     "data": {
      "text/plain": [
       "False"
      ]
     },
     "execution_count": 15,
     "metadata": {},
     "output_type": "execute_result"
    }
   ],
   "source": [
    "bool(0)"
   ]
  },
  {
   "cell_type": "code",
   "execution_count": 16,
   "id": "e16ece77",
   "metadata": {},
   "outputs": [
    {
     "data": {
      "text/plain": [
       "True"
      ]
     },
     "execution_count": 16,
     "metadata": {},
     "output_type": "execute_result"
    }
   ],
   "source": [
    "bool(-1)"
   ]
  },
  {
   "cell_type": "code",
   "execution_count": 19,
   "id": "75b687e5",
   "metadata": {},
   "outputs": [
    {
     "data": {
      "text/plain": [
       "True"
      ]
     },
     "execution_count": 19,
     "metadata": {},
     "output_type": "execute_result"
    }
   ],
   "source": [
    "bool(2.3)"
   ]
  },
  {
   "cell_type": "code",
   "execution_count": 20,
   "id": "5c87c231",
   "metadata": {},
   "outputs": [
    {
     "data": {
      "text/plain": [
       "True"
      ]
     },
     "execution_count": 20,
     "metadata": {},
     "output_type": "execute_result"
    }
   ],
   "source": [
    "bool(-1.3)"
   ]
  },
  {
   "cell_type": "code",
   "execution_count": 21,
   "id": "fb032773",
   "metadata": {},
   "outputs": [
    {
     "data": {
      "text/plain": [
       "True"
      ]
     },
     "execution_count": 21,
     "metadata": {},
     "output_type": "execute_result"
    }
   ],
   "source": [
    "5 >2 or 1>4"
   ]
  },
  {
   "cell_type": "code",
   "execution_count": 22,
   "id": "aaa7f4c6",
   "metadata": {},
   "outputs": [
    {
     "data": {
      "text/plain": [
       "True"
      ]
     },
     "execution_count": 22,
     "metadata": {},
     "output_type": "execute_result"
    }
   ],
   "source": [
    "not 2>5"
   ]
  },
  {
   "cell_type": "code",
   "execution_count": 24,
   "id": "fb1a6c9a",
   "metadata": {},
   "outputs": [
    {
     "data": {
      "text/plain": [
       "False"
      ]
     },
     "execution_count": 24,
     "metadata": {},
     "output_type": "execute_result"
    }
   ],
   "source": [
    "not not 1>2\n"
   ]
  },
  {
   "cell_type": "code",
   "execution_count": 25,
   "id": "8586be37",
   "metadata": {},
   "outputs": [
    {
     "data": {
      "text/plain": [
       "False"
      ]
     },
     "execution_count": 25,
     "metadata": {},
     "output_type": "execute_result"
    }
   ],
   "source": [
    "1>2 and not not 2>3 or 1>4  and not 2>4"
   ]
  },
  {
   "cell_type": "code",
   "execution_count": 27,
   "id": "8e709b17",
   "metadata": {},
   "outputs": [
    {
     "data": {
      "text/plain": [
       "False"
      ]
     },
     "execution_count": 27,
     "metadata": {},
     "output_type": "execute_result"
    }
   ],
   "source": [
    "(\"linux\" in S) and (\"vimal\" in S)"
   ]
  },
  {
   "cell_type": "code",
   "execution_count": 29,
   "id": "951651b4",
   "metadata": {},
   "outputs": [
    {
     "data": {
      "text/plain": [
       "True"
      ]
     },
     "execution_count": 29,
     "metadata": {},
     "output_type": "execute_result"
    }
   ],
   "source": [
    "\"Linux\" in S and not (\"vimal\" in S)"
   ]
  },
  {
   "cell_type": "code",
   "execution_count": 74,
   "id": "31ebf618",
   "metadata": {},
   "outputs": [],
   "source": [
    "myfile=open(\"linuxworld.txt\",mode=\"r\")"
   ]
  },
  {
   "cell_type": "code",
   "execution_count": 70,
   "id": "6222c302",
   "metadata": {},
   "outputs": [
    {
     "data": {
      "text/plain": [
       "0"
      ]
     },
     "execution_count": 70,
     "metadata": {},
     "output_type": "execute_result"
    }
   ],
   "source": [
    "myfile.tell()"
   ]
  },
  {
   "cell_type": "code",
   "execution_count": 56,
   "id": "b1a7c45a",
   "metadata": {},
   "outputs": [
    {
     "name": "stdout",
     "output_type": "stream",
     "text": [
      "Hey\n",
      "\n",
      "This is the linuxworld file!\n",
      "\n",
      "Thanks for viewing it!\n"
     ]
    }
   ],
   "source": [
    "for i in myfile:\n",
    "    print(i)"
   ]
  },
  {
   "cell_type": "code",
   "execution_count": 61,
   "id": "7af55853",
   "metadata": {},
   "outputs": [],
   "source": [
    "data=myfile.read()"
   ]
  },
  {
   "cell_type": "code",
   "execution_count": 62,
   "id": "6321f89e",
   "metadata": {},
   "outputs": [
    {
     "name": "stdout",
     "output_type": "stream",
     "text": [
      "Hey\n",
      "This is the linuxworld file!\n",
      "Thanks for viewing it!\n"
     ]
    }
   ],
   "source": [
    "print(data)"
   ]
  },
  {
   "cell_type": "code",
   "execution_count": 71,
   "id": "e4e6e8a4",
   "metadata": {},
   "outputs": [
    {
     "data": {
      "text/plain": [
       "'Hey\\nThis is the linuxworld file!\\nThanks for viewing it!'"
      ]
     },
     "execution_count": 71,
     "metadata": {},
     "output_type": "execute_result"
    }
   ],
   "source": [
    "myfile.read()"
   ]
  },
  {
   "cell_type": "code",
   "execution_count": 68,
   "id": "0615371c",
   "metadata": {},
   "outputs": [
    {
     "data": {
      "text/plain": [
       "''"
      ]
     },
     "execution_count": 68,
     "metadata": {},
     "output_type": "execute_result"
    }
   ],
   "source": [
    "myfile.read() #since now myfile points to the EOF"
   ]
  },
  {
   "cell_type": "code",
   "execution_count": 72,
   "id": "531bcd2e",
   "metadata": {},
   "outputs": [
    {
     "data": {
      "text/plain": [
       "55"
      ]
     },
     "execution_count": 72,
     "metadata": {},
     "output_type": "execute_result"
    }
   ],
   "source": [
    "myfile.tell()"
   ]
  },
  {
   "cell_type": "code",
   "execution_count": 75,
   "id": "20fde58a",
   "metadata": {},
   "outputs": [
    {
     "data": {
      "text/plain": [
       "'Hey\\n'"
      ]
     },
     "execution_count": 75,
     "metadata": {},
     "output_type": "execute_result"
    }
   ],
   "source": [
    "myfile.read(4)"
   ]
  },
  {
   "cell_type": "code",
   "execution_count": null,
   "id": "407c6264",
   "metadata": {},
   "outputs": [],
   "source": []
  }
 ],
 "metadata": {
  "kernelspec": {
   "display_name": "Python 3 (ipykernel)",
   "language": "python",
   "name": "python3"
  },
  "language_info": {
   "codemirror_mode": {
    "name": "ipython",
    "version": 3
   },
   "file_extension": ".py",
   "mimetype": "text/x-python",
   "name": "python",
   "nbconvert_exporter": "python",
   "pygments_lexer": "ipython3",
   "version": "3.10.9"
  }
 },
 "nbformat": 4,
 "nbformat_minor": 5
}
