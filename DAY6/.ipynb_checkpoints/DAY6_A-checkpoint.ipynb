{
 "cells": [
  {
   "cell_type": "code",
   "execution_count": 2,
   "id": "34d6878d",
   "metadata": {},
   "outputs": [],
   "source": [
    "l=[\"Surya\",\"Muddit\",\"Nandini\",\"Ayush\"]"
   ]
  },
  {
   "cell_type": "code",
   "execution_count": 3,
   "id": "a81b2aa4",
   "metadata": {},
   "outputs": [
    {
     "data": {
      "text/plain": [
       "True"
      ]
     },
     "execution_count": 3,
     "metadata": {},
     "output_type": "execute_result"
    }
   ],
   "source": [
    "\"Surya\" in l"
   ]
  },
  {
   "cell_type": "code",
   "execution_count": 4,
   "id": "feea1b66",
   "metadata": {},
   "outputs": [
    {
     "data": {
      "text/plain": [
       "True"
      ]
     },
     "execution_count": 4,
     "metadata": {},
     "output_type": "execute_result"
    }
   ],
   "source": [
    "\"Muddit\" in l"
   ]
  },
  {
   "cell_type": "code",
   "execution_count": 5,
   "id": "ca1f57dd",
   "metadata": {},
   "outputs": [
    {
     "data": {
      "text/plain": [
       "False"
      ]
     },
     "execution_count": 5,
     "metadata": {},
     "output_type": "execute_result"
    }
   ],
   "source": [
    "\"Nandini\" not in l"
   ]
  },
  {
   "cell_type": "code",
   "execution_count": 6,
   "id": "1be56200",
   "metadata": {},
   "outputs": [
    {
     "name": "stdout",
     "output_type": "stream",
     "text": [
      "Surya is present\n"
     ]
    }
   ],
   "source": [
    "if \"Surya\" in l:\n",
    "    print(\"Surya is present\")"
   ]
  },
  {
   "cell_type": "code",
   "execution_count": 7,
   "id": "a41b4a82",
   "metadata": {},
   "outputs": [],
   "source": [
    "S=\"This is Linux World Class\""
   ]
  },
  {
   "cell_type": "code",
   "execution_count": 8,
   "id": "fd72ac3f",
   "metadata": {},
   "outputs": [
    {
     "data": {
      "text/plain": [
       "True"
      ]
     },
     "execution_count": 8,
     "metadata": {},
     "output_type": "execute_result"
    }
   ],
   "source": [
    "\"Linux\" in S"
   ]
  },
  {
   "cell_type": "code",
   "execution_count": 9,
   "id": "a9e35d3e",
   "metadata": {},
   "outputs": [
    {
     "data": {
      "text/plain": [
       "False"
      ]
     },
     "execution_count": 9,
     "metadata": {},
     "output_type": "execute_result"
    }
   ],
   "source": [
    "\"Python\" in S"
   ]
  },
  {
   "cell_type": "code",
   "execution_count": 10,
   "id": "a8abb0a0",
   "metadata": {},
   "outputs": [
    {
     "data": {
      "text/plain": [
       "False"
      ]
     },
     "execution_count": 10,
     "metadata": {},
     "output_type": "execute_result"
    }
   ],
   "source": [
    "\"S\" in l"
   ]
  },
  {
   "cell_type": "code",
   "execution_count": 11,
   "id": "df3441b4",
   "metadata": {},
   "outputs": [
    {
     "data": {
      "text/plain": [
       "True"
      ]
     },
     "execution_count": 11,
     "metadata": {},
     "output_type": "execute_result"
    }
   ],
   "source": [
    "5>2"
   ]
  },
  {
   "cell_type": "code",
   "execution_count": 12,
   "id": "580fbe69",
   "metadata": {},
   "outputs": [
    {
     "data": {
      "text/plain": [
       "False"
      ]
     },
     "execution_count": 12,
     "metadata": {},
     "output_type": "execute_result"
    }
   ],
   "source": [
    "5>2 and 1>4"
   ]
  },
  {
   "cell_type": "code",
   "execution_count": 13,
   "id": "f92a2d21",
   "metadata": {},
   "outputs": [
    {
     "data": {
      "text/plain": [
       "1"
      ]
     },
     "execution_count": 13,
     "metadata": {},
     "output_type": "execute_result"
    }
   ],
   "source": [
    "1"
   ]
  },
  {
   "cell_type": "code",
   "execution_count": 14,
   "id": "0149e1f6",
   "metadata": {},
   "outputs": [
    {
     "data": {
      "text/plain": [
       "True"
      ]
     },
     "execution_count": 14,
     "metadata": {},
     "output_type": "execute_result"
    }
   ],
   "source": [
    "bool(1)"
   ]
  },
  {
   "cell_type": "code",
   "execution_count": 15,
   "id": "4a53357f",
   "metadata": {},
   "outputs": [
    {
     "data": {
      "text/plain": [
       "False"
      ]
     },
     "execution_count": 15,
     "metadata": {},
     "output_type": "execute_result"
    }
   ],
   "source": [
    "bool(0)"
   ]
  },
  {
   "cell_type": "code",
   "execution_count": 16,
   "id": "97d22e88",
   "metadata": {},
   "outputs": [
    {
     "data": {
      "text/plain": [
       "True"
      ]
     },
     "execution_count": 16,
     "metadata": {},
     "output_type": "execute_result"
    }
   ],
   "source": [
    "bool(-1)"
   ]
  },
  {
   "cell_type": "code",
   "execution_count": 19,
   "id": "c6d9b5c0",
   "metadata": {},
   "outputs": [
    {
     "data": {
      "text/plain": [
       "True"
      ]
     },
     "execution_count": 19,
     "metadata": {},
     "output_type": "execute_result"
    }
   ],
   "source": [
    "bool(2.3)"
   ]
  },
  {
   "cell_type": "code",
   "execution_count": 20,
   "id": "3f9b8508",
   "metadata": {},
   "outputs": [
    {
     "data": {
      "text/plain": [
       "True"
      ]
     },
     "execution_count": 20,
     "metadata": {},
     "output_type": "execute_result"
    }
   ],
   "source": [
    "bool(-1.3)"
   ]
  },
  {
   "cell_type": "code",
   "execution_count": 21,
   "id": "123fb1ab",
   "metadata": {},
   "outputs": [
    {
     "data": {
      "text/plain": [
       "True"
      ]
     },
     "execution_count": 21,
     "metadata": {},
     "output_type": "execute_result"
    }
   ],
   "source": [
    "5 >2 or 1>4"
   ]
  },
  {
   "cell_type": "code",
   "execution_count": 22,
   "id": "2e5eb80d",
   "metadata": {},
   "outputs": [
    {
     "data": {
      "text/plain": [
       "True"
      ]
     },
     "execution_count": 22,
     "metadata": {},
     "output_type": "execute_result"
    }
   ],
   "source": [
    "not 2>5"
   ]
  },
  {
   "cell_type": "code",
   "execution_count": 24,
   "id": "7973f64c",
   "metadata": {},
   "outputs": [
    {
     "data": {
      "text/plain": [
       "False"
      ]
     },
     "execution_count": 24,
     "metadata": {},
     "output_type": "execute_result"
    }
   ],
   "source": [
    "not not 1>2\n"
   ]
  },
  {
   "cell_type": "code",
   "execution_count": 25,
   "id": "d0eb2401",
   "metadata": {},
   "outputs": [
    {
     "data": {
      "text/plain": [
       "False"
      ]
     },
     "execution_count": 25,
     "metadata": {},
     "output_type": "execute_result"
    }
   ],
   "source": [
    "1>2 and not not 2>3 or 1>4  and not 2>4"
   ]
  },
  {
   "cell_type": "code",
   "execution_count": 27,
   "id": "fc7933a0",
   "metadata": {},
   "outputs": [
    {
     "data": {
      "text/plain": [
       "False"
      ]
     },
     "execution_count": 27,
     "metadata": {},
     "output_type": "execute_result"
    }
   ],
   "source": [
    "(\"linux\" in S) and (\"vimal\" in S)"
   ]
  },
  {
   "cell_type": "code",
   "execution_count": 29,
   "id": "31b168d9",
   "metadata": {},
   "outputs": [
    {
     "data": {
      "text/plain": [
       "True"
      ]
     },
     "execution_count": 29,
     "metadata": {},
     "output_type": "execute_result"
    }
   ],
   "source": [
    "\"Linux\" in S and not (\"vimal\" in S)"
   ]
  },
  {
   "cell_type": "code",
   "execution_count": 49,
   "id": "6e243a42",
   "metadata": {},
   "outputs": [],
   "source": [
    "myfile=open(\"linuxworld.txt\",mode=\"r\")"
   ]
  },
  {
   "cell_type": "code",
   "execution_count": 50,
   "id": "2ce10134",
   "metadata": {},
   "outputs": [
    {
     "data": {
      "text/plain": [
       "<_io.TextIOWrapper name='linuxworld.txt' mode='r' encoding='cp1252'>"
      ]
     },
     "execution_count": 50,
     "metadata": {},
     "output_type": "execute_result"
    }
   ],
   "source": [
    "myfile"
   ]
  },
  {
   "cell_type": "code",
   "execution_count": 51,
   "id": "38518e29",
   "metadata": {},
   "outputs": [
    {
     "name": "stdout",
     "output_type": "stream",
     "text": [
      "Hey\n",
      "\n",
      "This is the linuxworld file!\n",
      "\n",
      "Thanks for viewing it!\n"
     ]
    }
   ],
   "source": [
    "for i in myfile:\n",
    "    print(i)"
   ]
  },
  {
   "cell_type": "code",
   "execution_count": 52,
   "id": "775deed4",
   "metadata": {},
   "outputs": [],
   "source": [
    "data=myfile.read()"
   ]
  },
  {
   "cell_type": "code",
   "execution_count": 53,
   "id": "b18f0537",
   "metadata": {},
   "outputs": [
    {
     "name": "stdout",
     "output_type": "stream",
     "text": [
      "\n"
     ]
    }
   ],
   "source": [
    "print(data)"
   ]
  },
  {
   "cell_type": "code",
   "execution_count": null,
   "id": "6d696626",
   "metadata": {},
   "outputs": [],
   "source": []
  }
 ],
 "metadata": {
  "kernelspec": {
   "display_name": "Python 3 (ipykernel)",
   "language": "python",
   "name": "python3"
  },
  "language_info": {
   "codemirror_mode": {
    "name": "ipython",
    "version": 3
   },
   "file_extension": ".py",
   "mimetype": "text/x-python",
   "name": "python",
   "nbconvert_exporter": "python",
   "pygments_lexer": "ipython3",
   "version": "3.10.9"
  }
 },
 "nbformat": 4,
 "nbformat_minor": 5
}
