{
 "cells": [
  {
   "cell_type": "code",
   "execution_count": null,
   "id": "2fccc2a7",
   "metadata": {},
   "outputs": [],
   "source": [
    "import cv2"
   ]
  },
  {
   "cell_type": "code",
   "execution_count": null,
   "id": "8e65a9f2",
   "metadata": {},
   "outputs": [],
   "source": [
    "cam=cv2.VideoCapture(0)"
   ]
  },
  {
   "cell_type": "code",
   "execution_count": null,
   "id": "7efc354e",
   "metadata": {},
   "outputs": [],
   "source": [
    "status,photo=cam.read()"
   ]
  },
  {
   "cell_type": "code",
   "execution_count": null,
   "id": "62f60d4e",
   "metadata": {},
   "outputs": [],
   "source": [
    "print(status)"
   ]
  },
  {
   "cell_type": "code",
   "execution_count": null,
   "id": "cbab5904",
   "metadata": {},
   "outputs": [],
   "source": [
    "cv2.imshow(\"myphoto\",photo)\n",
    "cv2.waitKey()\n",
    "cv2.destroyAllWindows()"
   ]
  },
  {
   "cell_type": "code",
   "execution_count": null,
   "id": "98499cc9",
   "metadata": {},
   "outputs": [],
   "source": [
    "newphoto=photo.copy()"
   ]
  },
  {
   "cell_type": "code",
   "execution_count": null,
   "id": "e309fb80",
   "metadata": {},
   "outputs": [],
   "source": [
    "facemodel=cv2.CascadeClassifier(\"haarcascade_frontalface_default.xml\")"
   ]
  },
  {
   "cell_type": "code",
   "execution_count": null,
   "id": "d051d331",
   "metadata": {},
   "outputs": [],
   "source": [
    "newphoto"
   ]
  },
  {
   "cell_type": "code",
   "execution_count": null,
   "id": "924f22d1",
   "metadata": {},
   "outputs": [],
   "source": [
    "myCoordinates=facemodel.detectMultiScale(newphoto)"
   ]
  },
  {
   "cell_type": "code",
   "execution_count": null,
   "id": "e40bea27",
   "metadata": {},
   "outputs": [],
   "source": [
    "print(myCoordinates)"
   ]
  },
  {
   "cell_type": "code",
   "execution_count": null,
   "id": "2f4c3793",
   "metadata": {},
   "outputs": [],
   "source": [
    "print(len(facemodel.detectMultiScale(newphoto)))"
   ]
  },
  {
   "cell_type": "code",
   "execution_count": null,
   "id": "e33c7e28",
   "metadata": {},
   "outputs": [],
   "source": [
    "x1=myCoordinates[0][0]\n",
    "x2=x1+myCoordinates[0][2]\n",
    "y1=myCoordinates[0][1]\n",
    "y2=y1+myCoordinates[0][3]"
   ]
  },
  {
   "cell_type": "code",
   "execution_count": null,
   "id": "01bce941",
   "metadata": {},
   "outputs": [],
   "source": [
    "cv2.rectangle(newphoto,(x1,y1),(x2,y2),[0,255,0],5)"
   ]
  },
  {
   "cell_type": "code",
   "execution_count": null,
   "id": "4acecdbc",
   "metadata": {},
   "outputs": [],
   "source": [
    "cv2.imshow(\"myphoto\",newphoto)\n",
    "cv2.waitKey()\n",
    "cv2.destroyAllWindows()"
   ]
  },
  {
   "cell_type": "code",
   "execution_count": null,
   "id": "290c5f23",
   "metadata": {},
   "outputs": [],
   "source": [
    "blurred_image=newphoto.copy()"
   ]
  },
  {
   "cell_type": "code",
   "execution_count": null,
   "id": "b70e4090",
   "metadata": {},
   "outputs": [],
   "source": [
    "blurred_image = cv2.GaussianBlur(blurred_image, (15, 15), 10)"
   ]
  },
  {
   "cell_type": "code",
   "execution_count": null,
   "id": "650e2aa6",
   "metadata": {},
   "outputs": [],
   "source": [
    "cv2.imshow(\"myphoto\",blurred_image)\n",
    "cv2.waitKey()\n",
    "cv2.destroyAllWindows()"
   ]
  },
  {
   "cell_type": "code",
   "execution_count": null,
   "id": "0f070fcc",
   "metadata": {},
   "outputs": [],
   "source": [
    "final_photo=newphoto.copy()"
   ]
  },
  {
   "cell_type": "code",
   "execution_count": null,
   "id": "fb894c31",
   "metadata": {},
   "outputs": [],
   "source": [
    "final_photo[y1:y2, x1:x2]=blurred_image[y1:y2,x1:x2]"
   ]
  },
  {
   "cell_type": "code",
   "execution_count": null,
   "id": "cb0149c5",
   "metadata": {},
   "outputs": [],
   "source": [
    "cv2.imshow(\"myphoto\",final_photo)\n",
    "cv2.waitKey()\n",
    "cv2.destroyAllWindows()"
   ]
  }
 ],
 "metadata": {
  "kernelspec": {
   "display_name": "Python 3 (ipykernel)",
   "language": "python",
   "name": "python3"
  },
  "language_info": {
   "codemirror_mode": {
    "name": "ipython",
    "version": 3
   },
   "file_extension": ".py",
   "mimetype": "text/x-python",
   "name": "python",
   "nbconvert_exporter": "python",
   "pygments_lexer": "ipython3",
   "version": "3.10.9"
  }
 },
 "nbformat": 4,
 "nbformat_minor": 5
}
