{
 "cells": [
  {
   "cell_type": "code",
   "execution_count": 1,
   "id": "2fccc2a7",
   "metadata": {},
   "outputs": [],
   "source": [
    "import cv2"
   ]
  },
  {
   "cell_type": "code",
   "execution_count": 2,
   "id": "8e65a9f2",
   "metadata": {},
   "outputs": [],
   "source": [
    "cam=cv2.VideoCapture(0)"
   ]
  },
  {
   "cell_type": "code",
   "execution_count": 3,
   "id": "7efc354e",
   "metadata": {},
   "outputs": [],
   "source": [
    "status,photo=cam.read()"
   ]
  },
  {
   "cell_type": "code",
   "execution_count": 4,
   "id": "62f60d4e",
   "metadata": {},
   "outputs": [
    {
     "name": "stdout",
     "output_type": "stream",
     "text": [
      "True\n"
     ]
    }
   ],
   "source": [
    "print(status)"
   ]
  },
  {
   "cell_type": "code",
   "execution_count": 5,
   "id": "cbab5904",
   "metadata": {},
   "outputs": [],
   "source": [
    "cv2.imshow(\"myphoto\",photo)\n",
    "cv2.waitKey()\n",
    "cv2.destroyAllWindows()"
   ]
  },
  {
   "cell_type": "code",
   "execution_count": 6,
   "id": "98499cc9",
   "metadata": {},
   "outputs": [],
   "source": [
    "newphoto=photo.copy()"
   ]
  },
  {
   "cell_type": "code",
   "execution_count": 7,
   "id": "e309fb80",
   "metadata": {},
   "outputs": [],
   "source": [
    "facemodel=cv2.CascadeClassifier(\"haarcascade_frontalface_default.xml\")"
   ]
  },
  {
   "cell_type": "code",
   "execution_count": 8,
   "id": "d051d331",
   "metadata": {},
   "outputs": [
    {
     "data": {
      "text/plain": [
       "array([[[101,  77, 113],\n",
       "        [115,  91, 126],\n",
       "        [113,  89, 123],\n",
       "        ...,\n",
       "        [ 42,  26,  56],\n",
       "        [ 45,  28,  59],\n",
       "        [ 45,  28,  60]],\n",
       "\n",
       "       [[ 98,  78, 116],\n",
       "        [109,  87, 124],\n",
       "        [113,  88, 125],\n",
       "        ...,\n",
       "        [ 43,  27,  58],\n",
       "        [ 45,  28,  59],\n",
       "        [ 45,  28,  59]],\n",
       "\n",
       "       [[ 96,  77, 120],\n",
       "        [100,  79, 122],\n",
       "        [104,  80, 123],\n",
       "        ...,\n",
       "        [ 46,  28,  53],\n",
       "        [ 47,  31,  50],\n",
       "        [ 49,  33,  52]],\n",
       "\n",
       "       ...,\n",
       "\n",
       "       [[ 28,  20,  34],\n",
       "        [ 26,  18,  34],\n",
       "        [ 28,  19,  36],\n",
       "        ...,\n",
       "        [ 25,  20,  25],\n",
       "        [ 24,  22,  22],\n",
       "        [ 18,  16,  16]],\n",
       "\n",
       "       [[ 22,  20,  29],\n",
       "        [ 24,  19,  31],\n",
       "        [ 30,  22,  36],\n",
       "        ...,\n",
       "        [ 23,  19,  21],\n",
       "        [ 28,  22,  22],\n",
       "        [ 23,  16,  16]],\n",
       "\n",
       "       [[ 24,  20,  29],\n",
       "        [ 27,  20,  29],\n",
       "        [ 33,  21,  32],\n",
       "        ...,\n",
       "        [ 17,  16,  21],\n",
       "        [ 19,  19,  19],\n",
       "        [ 19,  19,  18]]], dtype=uint8)"
      ]
     },
     "execution_count": 8,
     "metadata": {},
     "output_type": "execute_result"
    }
   ],
   "source": [
    "newphoto"
   ]
  },
  {
   "cell_type": "code",
   "execution_count": 9,
   "id": "924f22d1",
   "metadata": {},
   "outputs": [],
   "source": [
    "myCoordinates=facemodel.detectMultiScale(newphoto)"
   ]
  },
  {
   "cell_type": "code",
   "execution_count": 10,
   "id": "e40bea27",
   "metadata": {},
   "outputs": [
    {
     "name": "stdout",
     "output_type": "stream",
     "text": [
      "[[138  42 389 389]]\n"
     ]
    }
   ],
   "source": [
    "print(myCoordinates)"
   ]
  },
  {
   "cell_type": "code",
   "execution_count": 11,
   "id": "2f4c3793",
   "metadata": {},
   "outputs": [
    {
     "name": "stdout",
     "output_type": "stream",
     "text": [
      "1\n"
     ]
    }
   ],
   "source": [
    "print(len(facemodel.detectMultiScale(newphoto)))"
   ]
  },
  {
   "cell_type": "code",
   "execution_count": 12,
   "id": "e33c7e28",
   "metadata": {},
   "outputs": [],
   "source": [
    "x1=myCoordinates[0][0]\n",
    "x2=x1+myCoordinates[0][2]\n",
    "y1=myCoordinates[0][1]\n",
    "y2=y1+myCoordinates[0][3]"
   ]
  },
  {
   "cell_type": "code",
   "execution_count": 13,
   "id": "01bce941",
   "metadata": {},
   "outputs": [
    {
     "data": {
      "text/plain": [
       "array([[[101,  77, 113],\n",
       "        [115,  91, 126],\n",
       "        [113,  89, 123],\n",
       "        ...,\n",
       "        [ 42,  26,  56],\n",
       "        [ 45,  28,  59],\n",
       "        [ 45,  28,  60]],\n",
       "\n",
       "       [[ 98,  78, 116],\n",
       "        [109,  87, 124],\n",
       "        [113,  88, 125],\n",
       "        ...,\n",
       "        [ 43,  27,  58],\n",
       "        [ 45,  28,  59],\n",
       "        [ 45,  28,  59]],\n",
       "\n",
       "       [[ 96,  77, 120],\n",
       "        [100,  79, 122],\n",
       "        [104,  80, 123],\n",
       "        ...,\n",
       "        [ 46,  28,  53],\n",
       "        [ 47,  31,  50],\n",
       "        [ 49,  33,  52]],\n",
       "\n",
       "       ...,\n",
       "\n",
       "       [[ 28,  20,  34],\n",
       "        [ 26,  18,  34],\n",
       "        [ 28,  19,  36],\n",
       "        ...,\n",
       "        [ 25,  20,  25],\n",
       "        [ 24,  22,  22],\n",
       "        [ 18,  16,  16]],\n",
       "\n",
       "       [[ 22,  20,  29],\n",
       "        [ 24,  19,  31],\n",
       "        [ 30,  22,  36],\n",
       "        ...,\n",
       "        [ 23,  19,  21],\n",
       "        [ 28,  22,  22],\n",
       "        [ 23,  16,  16]],\n",
       "\n",
       "       [[ 24,  20,  29],\n",
       "        [ 27,  20,  29],\n",
       "        [ 33,  21,  32],\n",
       "        ...,\n",
       "        [ 17,  16,  21],\n",
       "        [ 19,  19,  19],\n",
       "        [ 19,  19,  18]]], dtype=uint8)"
      ]
     },
     "execution_count": 13,
     "metadata": {},
     "output_type": "execute_result"
    }
   ],
   "source": [
    "cv2.rectangle(newphoto,(x1,y1),(x2,y2),[0,255,0],5)"
   ]
  },
  {
   "cell_type": "code",
   "execution_count": 14,
   "id": "4acecdbc",
   "metadata": {},
   "outputs": [],
   "source": [
    "cv2.imshow(\"myphoto\",newphoto)\n",
    "cv2.waitKey()\n",
    "cv2.destroyAllWindows()"
   ]
  },
  {
   "cell_type": "code",
   "execution_count": 15,
   "id": "290c5f23",
   "metadata": {},
   "outputs": [],
   "source": [
    "blurred_image=newphoto.copy()"
   ]
  },
  {
   "cell_type": "code",
   "execution_count": 16,
   "id": "b70e4090",
   "metadata": {},
   "outputs": [],
   "source": [
    "blurred_image = cv2.GaussianBlur(blurred_image, (15, 15), 10)"
   ]
  },
  {
   "cell_type": "code",
   "execution_count": 17,
   "id": "650e2aa6",
   "metadata": {},
   "outputs": [],
   "source": [
    "cv2.imshow(\"myphoto\",blurred_image)\n",
    "cv2.waitKey()\n",
    "cv2.destroyAllWindows()"
   ]
  },
  {
   "cell_type": "code",
   "execution_count": 18,
   "id": "0f070fcc",
   "metadata": {},
   "outputs": [],
   "source": [
    "final_photo=newphoto.copy()"
   ]
  },
  {
   "cell_type": "code",
   "execution_count": 19,
   "id": "fb894c31",
   "metadata": {},
   "outputs": [],
   "source": [
    "final_photo[y1:y2, x1:x2]=blurred_image[y1:y2,x1:x2]"
   ]
  },
  {
   "cell_type": "code",
   "execution_count": 20,
   "id": "cb0149c5",
   "metadata": {},
   "outputs": [],
   "source": [
    "cv2.imshow(\"myphoto\",final_photo)\n",
    "cv2.waitKey()\n",
    "cv2.destroyAllWindows()"
   ]
  },
  {
   "cell_type": "code",
   "execution_count": null,
   "id": "64cc8f94",
   "metadata": {},
   "outputs": [],
   "source": []
  }
 ],
 "metadata": {
  "kernelspec": {
   "display_name": "Python 3 (ipykernel)",
   "language": "python",
   "name": "python3"
  },
  "language_info": {
   "codemirror_mode": {
    "name": "ipython",
    "version": 3
   },
   "file_extension": ".py",
   "mimetype": "text/x-python",
   "name": "python",
   "nbconvert_exporter": "python",
   "pygments_lexer": "ipython3",
   "version": "3.10.9"
  }
 },
 "nbformat": 4,
 "nbformat_minor": 5
}
