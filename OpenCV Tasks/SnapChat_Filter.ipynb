{
 "cells": [
  {
   "cell_type": "code",
   "execution_count": null,
   "id": "c8c8170a",
   "metadata": {},
   "outputs": [],
   "source": [
    "import cv2"
   ]
  },
  {
   "cell_type": "code",
   "execution_count": null,
   "id": "a3f58d1c",
   "metadata": {},
   "outputs": [],
   "source": [
    "cam=cv2.VideoCapture(0)"
   ]
  },
  {
   "cell_type": "code",
   "execution_count": null,
   "id": "008364f2",
   "metadata": {},
   "outputs": [],
   "source": [
    "status,photo=cam.read()"
   ]
  },
  {
   "cell_type": "code",
   "execution_count": null,
   "id": "ea888cbd",
   "metadata": {},
   "outputs": [],
   "source": [
    "cv2.imshow(\"myphoto\",photo)\n",
    "cv2.waitKey()\n",
    "cv2.destroyAllWindows()"
   ]
  },
  {
   "cell_type": "code",
   "execution_count": null,
   "id": "3830612f",
   "metadata": {},
   "outputs": [],
   "source": [
    "filter_image=cv2.imread(\"glass.png\")"
   ]
  },
  {
   "cell_type": "code",
   "execution_count": null,
   "id": "555e5b3f",
   "metadata": {},
   "outputs": [],
   "source": [
    "newphoto=photo.copy()"
   ]
  },
  {
   "cell_type": "code",
   "execution_count": null,
   "id": "d90782c4",
   "metadata": {},
   "outputs": [],
   "source": [
    "faceModel=cv2.CascadeClassifier(\"haarcascade_frontalface_default.xml\")"
   ]
  },
  {
   "cell_type": "code",
   "execution_count": null,
   "id": "1699db41",
   "metadata": {},
   "outputs": [],
   "source": [
    "myCoordinates=faceModel.detectMultiScale(newphoto)"
   ]
  },
  {
   "cell_type": "code",
   "execution_count": null,
   "id": "22754de5",
   "metadata": {},
   "outputs": [],
   "source": [
    "x1=myCoordinates[0][0]\n",
    "y1=myCoordinates[0][1]\n",
    "x2=myCoordinates[0][2]+x1\n",
    "y2=myCoordinates[0][3]+y1\n",
    "width=x2-x1"
   ]
  },
  {
   "cell_type": "code",
   "execution_count": null,
   "id": "050baa6f",
   "metadata": {},
   "outputs": [],
   "source": [
    "newphoto=cv2.rectangle(newphoto,(x1,y1),(x2,y2),[0,255,0],5)"
   ]
  },
  {
   "cell_type": "code",
   "execution_count": null,
   "id": "00b3f3fb",
   "metadata": {},
   "outputs": [],
   "source": [
    "cv2.imshow(\"myphoto\",newphoto)\n",
    "cv2.waitKey()\n",
    "cv2.destroyAllWindows()"
   ]
  },
  {
   "cell_type": "code",
   "execution_count": null,
   "id": "ca4064a1",
   "metadata": {},
   "outputs": [],
   "source": [
    "final_photo=newphoto.copy()"
   ]
  },
  {
   "cell_type": "code",
   "execution_count": null,
   "id": "fa375cb7",
   "metadata": {},
   "outputs": [],
   "source": [
    "filter_image_resized=cv2.resize(filter_image,(width,int(width/4)))"
   ]
  },
  {
   "cell_type": "code",
   "execution_count": null,
   "id": "51a43da2",
   "metadata": {},
   "outputs": [],
   "source": [
    "cv2.imshow(\"myphoto\",filter_image_resized)\n",
    "cv2.waitKey()\n",
    "cv2.destroyAllWindows()"
   ]
  },
  {
   "cell_type": "code",
   "execution_count": null,
   "id": "f4d29928",
   "metadata": {},
   "outputs": [],
   "source": []
  }
 ],
 "metadata": {
  "kernelspec": {
   "display_name": "Python 3 (ipykernel)",
   "language": "python",
   "name": "python3"
  },
  "language_info": {
   "codemirror_mode": {
    "name": "ipython",
    "version": 3
   },
   "file_extension": ".py",
   "mimetype": "text/x-python",
   "name": "python",
   "nbconvert_exporter": "python",
   "pygments_lexer": "ipython3",
   "version": "3.10.9"
  }
 },
 "nbformat": 4,
 "nbformat_minor": 5
}
