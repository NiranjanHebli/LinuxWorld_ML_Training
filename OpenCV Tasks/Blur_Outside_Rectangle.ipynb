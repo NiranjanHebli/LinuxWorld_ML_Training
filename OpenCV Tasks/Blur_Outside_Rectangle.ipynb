{
 "cells": [
  {
   "cell_type": "code",
   "execution_count": 1,
   "id": "18ba0c5d",
   "metadata": {},
   "outputs": [],
   "source": [
    "import cv2"
   ]
  },
  {
   "cell_type": "code",
   "execution_count": 2,
   "id": "a8b13f75",
   "metadata": {},
   "outputs": [],
   "source": [
    "cam=cv2.VideoCapture(0)"
   ]
  },
  {
   "cell_type": "code",
   "execution_count": 3,
   "id": "1e1ee9a4",
   "metadata": {},
   "outputs": [],
   "source": [
    "status,photo=cam.read()"
   ]
  },
  {
   "cell_type": "code",
   "execution_count": 4,
   "id": "bfa9fcbf",
   "metadata": {},
   "outputs": [
    {
     "name": "stdout",
     "output_type": "stream",
     "text": [
      "True\n"
     ]
    }
   ],
   "source": [
    "print(status)"
   ]
  },
  {
   "cell_type": "code",
   "execution_count": 5,
   "id": "a3e8965a",
   "metadata": {},
   "outputs": [],
   "source": [
    "cv2.imshow(\"myphoto\",photo)\n",
    "cv2.waitKey()\n",
    "cv2.destroyAllWindows()"
   ]
  },
  {
   "cell_type": "code",
   "execution_count": null,
   "id": "4ab3e10f",
   "metadata": {},
   "outputs": [],
   "source": [
    "photo"
   ]
  },
  {
   "cell_type": "code",
   "execution_count": 6,
   "id": "5aaad327",
   "metadata": {},
   "outputs": [],
   "source": [
    "faceModel=cv2.CascadeClassifier(\"haarcascade_frontalface_default.xml\")"
   ]
  },
  {
   "cell_type": "code",
   "execution_count": 7,
   "id": "795fc9ec",
   "metadata": {},
   "outputs": [],
   "source": [
    "myCoordinates=faceModel.detectMultiScale(photo)"
   ]
  },
  {
   "cell_type": "code",
   "execution_count": 8,
   "id": "71adcc47",
   "metadata": {},
   "outputs": [
    {
     "name": "stdout",
     "output_type": "stream",
     "text": [
      "1\n"
     ]
    }
   ],
   "source": [
    "print(len(faceModel.detectMultiScale(photo)))"
   ]
  },
  {
   "cell_type": "code",
   "execution_count": 9,
   "id": "1ac88f25",
   "metadata": {},
   "outputs": [],
   "source": [
    "x1=myCoordinates[0][0]\n",
    "y1=myCoordinates[0][1]\n",
    "x2=x1+myCoordinates[0][2]\n",
    "y2=y1+myCoordinates[0][3]"
   ]
  },
  {
   "cell_type": "code",
   "execution_count": 10,
   "id": "905be74b",
   "metadata": {},
   "outputs": [],
   "source": [
    "newphoto=photo.copy()"
   ]
  },
  {
   "cell_type": "code",
   "execution_count": 11,
   "id": "49bef8bc",
   "metadata": {},
   "outputs": [
    {
     "data": {
      "text/plain": [
       "array([[[255, 255, 253],\n",
       "        [255, 255, 253],\n",
       "        [255, 255, 253],\n",
       "        ...,\n",
       "        [255, 255, 253],\n",
       "        [255, 255, 253],\n",
       "        [255, 255, 253]],\n",
       "\n",
       "       [[255, 255, 253],\n",
       "        [255, 255, 253],\n",
       "        [255, 255, 253],\n",
       "        ...,\n",
       "        [255, 255, 253],\n",
       "        [255, 255, 253],\n",
       "        [255, 255, 253]],\n",
       "\n",
       "       [[255, 255, 253],\n",
       "        [255, 255, 253],\n",
       "        [255, 255, 253],\n",
       "        ...,\n",
       "        [255, 255, 253],\n",
       "        [255, 255, 253],\n",
       "        [255, 255, 253]],\n",
       "\n",
       "       ...,\n",
       "\n",
       "       [[254, 221, 243],\n",
       "        [254, 222, 242],\n",
       "        [254, 222, 241],\n",
       "        ...,\n",
       "        [255, 255, 250],\n",
       "        [254, 255, 247],\n",
       "        [254, 255, 246]],\n",
       "\n",
       "       [[252, 221, 238],\n",
       "        [252, 221, 239],\n",
       "        [254, 222, 241],\n",
       "        ...,\n",
       "        [255, 255, 251],\n",
       "        [254, 255, 248],\n",
       "        [254, 255, 248]],\n",
       "\n",
       "       [[250, 221, 240],\n",
       "        [251, 221, 237],\n",
       "        [252, 222, 236],\n",
       "        ...,\n",
       "        [255, 255, 251],\n",
       "        [254, 255, 248],\n",
       "        [254, 255, 248]]], dtype=uint8)"
      ]
     },
     "execution_count": 11,
     "metadata": {},
     "output_type": "execute_result"
    }
   ],
   "source": [
    "cv2.rectangle(newphoto,(x1,y1),(x2,y2),[0,255,0],5)"
   ]
  },
  {
   "cell_type": "code",
   "execution_count": 12,
   "id": "54fd9e1e",
   "metadata": {},
   "outputs": [],
   "source": [
    "cv2.imshow(\"myphoto\",newphoto)\n",
    "cv2.waitKey()\n",
    "cv2.destroyAllWindows()"
   ]
  },
  {
   "cell_type": "code",
   "execution_count": 13,
   "id": "a965da6f",
   "metadata": {},
   "outputs": [],
   "source": [
    "blurred_image=newphoto.copy()"
   ]
  },
  {
   "cell_type": "code",
   "execution_count": 14,
   "id": "1aed320e",
   "metadata": {},
   "outputs": [],
   "source": [
    "blurred_image = cv2.GaussianBlur(blurred_image, (15, 15), 20)"
   ]
  },
  {
   "cell_type": "code",
   "execution_count": null,
   "id": "7f6ccc6a",
   "metadata": {},
   "outputs": [],
   "source": [
    "cv2.imshow(\"myphoto\",blurred_image)\n",
    "cv2.waitKey()\n",
    "cv2.destroyAllWindows()"
   ]
  },
  {
   "cell_type": "code",
   "execution_count": null,
   "id": "a47b8c0e",
   "metadata": {},
   "outputs": [],
   "source": [
    "final_image=blurred_image.copy()"
   ]
  },
  {
   "cell_type": "code",
   "execution_count": null,
   "id": "f60c21ee",
   "metadata": {},
   "outputs": [],
   "source": [
    "final_image[y1:y2, x1:x2] = newphoto[y1:y2, x1:x2]"
   ]
  },
  {
   "cell_type": "code",
   "execution_count": null,
   "id": "0632a6c3",
   "metadata": {},
   "outputs": [],
   "source": [
    "cv2.imshow(\"myphoto\",final_image)\n",
    "cv2.waitKey()\n",
    "cv2.destroyAllWindows()"
   ]
  },
  {
   "cell_type": "code",
   "execution_count": null,
   "id": "8ac32aa4",
   "metadata": {},
   "outputs": [],
   "source": []
  }
 ],
 "metadata": {
  "kernelspec": {
   "display_name": "Python 3 (ipykernel)",
   "language": "python",
   "name": "python3"
  },
  "language_info": {
   "codemirror_mode": {
    "name": "ipython",
    "version": 3
   },
   "file_extension": ".py",
   "mimetype": "text/x-python",
   "name": "python",
   "nbconvert_exporter": "python",
   "pygments_lexer": "ipython3",
   "version": "3.10.9"
  }
 },
 "nbformat": 4,
 "nbformat_minor": 5
}
