{
 "cells": [
  {
   "cell_type": "code",
   "execution_count": 1,
   "id": "18ba0c5d",
   "metadata": {},
   "outputs": [],
   "source": [
    "import cv2"
   ]
  },
  {
   "cell_type": "code",
   "execution_count": 2,
   "id": "a8b13f75",
   "metadata": {},
   "outputs": [],
   "source": [
    "cam=cv2.VideoCapture(0)"
   ]
  },
  {
   "cell_type": "code",
   "execution_count": 3,
   "id": "1e1ee9a4",
   "metadata": {},
   "outputs": [],
   "source": [
    "status,photo=cam.read()"
   ]
  },
  {
   "cell_type": "code",
   "execution_count": 4,
   "id": "bfa9fcbf",
   "metadata": {},
   "outputs": [
    {
     "name": "stdout",
     "output_type": "stream",
     "text": [
      "True\n"
     ]
    }
   ],
   "source": [
    "print(status)"
   ]
  },
  {
   "cell_type": "code",
   "execution_count": 5,
   "id": "a3e8965a",
   "metadata": {},
   "outputs": [],
   "source": [
    "cv2.imshow(\"myphoto\",photo)\n",
    "cv2.waitKey()\n",
    "cv2.destroyAllWindows()"
   ]
  },
  {
   "cell_type": "code",
   "execution_count": 6,
   "id": "4ab3e10f",
   "metadata": {},
   "outputs": [
    {
     "data": {
      "text/plain": [
       "array([[[188, 214, 230],\n",
       "        [189, 214, 230],\n",
       "        [190, 214, 230],\n",
       "        ...,\n",
       "        [229, 218, 219],\n",
       "        [221, 219, 219],\n",
       "        [220, 219, 219]],\n",
       "\n",
       "       [[188, 214, 230],\n",
       "        [188, 214, 230],\n",
       "        [188, 214, 230],\n",
       "        ...,\n",
       "        [225, 218, 219],\n",
       "        [223, 218, 219],\n",
       "        [223, 218, 219]],\n",
       "\n",
       "       [[184, 214, 232],\n",
       "        [186, 214, 231],\n",
       "        [188, 214, 230],\n",
       "        ...,\n",
       "        [226, 217, 218],\n",
       "        [226, 217, 218],\n",
       "        [227, 218, 219]],\n",
       "\n",
       "       ...,\n",
       "\n",
       "       [[ 95, 125, 143],\n",
       "        [ 95, 125, 146],\n",
       "        [ 95, 124, 148],\n",
       "        ...,\n",
       "        [ 27,  21,  26],\n",
       "        [ 33,  20,  26],\n",
       "        [ 37,  23,  29]],\n",
       "\n",
       "       [[106, 121, 144],\n",
       "        [ 99, 121, 145],\n",
       "        [ 93, 121, 146],\n",
       "        ...,\n",
       "        [ 22,  21,  25],\n",
       "        [ 23,  22,  27],\n",
       "        [ 23,  22,  27]],\n",
       "\n",
       "       [[110, 121, 143],\n",
       "        [100, 120, 147],\n",
       "        [ 91, 120, 151],\n",
       "        ...,\n",
       "        [ 22,  22,  23],\n",
       "        [ 22,  22,  24],\n",
       "        [ 23,  23,  25]]], dtype=uint8)"
      ]
     },
     "execution_count": 6,
     "metadata": {},
     "output_type": "execute_result"
    }
   ],
   "source": [
    "photo"
   ]
  },
  {
   "cell_type": "code",
   "execution_count": 7,
   "id": "5aaad327",
   "metadata": {},
   "outputs": [],
   "source": [
    "faceModel=cv2.CascadeClassifier(\"haarcascade_frontalface_default.xml\")"
   ]
  },
  {
   "cell_type": "code",
   "execution_count": 8,
   "id": "5e2ff949",
   "metadata": {},
   "outputs": [],
   "source": [
    "myCoordinates=faceModel.detectMultiScale(photo)"
   ]
  },
  {
   "cell_type": "code",
   "execution_count": 9,
   "id": "97910282",
   "metadata": {},
   "outputs": [
    {
     "name": "stdout",
     "output_type": "stream",
     "text": [
      "1\n"
     ]
    }
   ],
   "source": [
    "print(len(faceModel.detectMultiScale(photo)))"
   ]
  },
  {
   "cell_type": "code",
   "execution_count": 10,
   "id": "2f55d6c5",
   "metadata": {},
   "outputs": [],
   "source": [
    "x1=myCoordinates[0][0]\n",
    "y1=myCoordinates[0][1]\n",
    "x2=x1+myCoordinates[0][2]\n",
    "y2=y1+myCoordinates[0][3]"
   ]
  },
  {
   "cell_type": "code",
   "execution_count": 11,
   "id": "7ccb5175",
   "metadata": {},
   "outputs": [],
   "source": [
    "newphoto=photo.copy()"
   ]
  },
  {
   "cell_type": "code",
   "execution_count": 12,
   "id": "fffd7e36",
   "metadata": {},
   "outputs": [
    {
     "data": {
      "text/plain": [
       "array([[[188, 214, 230],\n",
       "        [189, 214, 230],\n",
       "        [190, 214, 230],\n",
       "        ...,\n",
       "        [229, 218, 219],\n",
       "        [221, 219, 219],\n",
       "        [220, 219, 219]],\n",
       "\n",
       "       [[188, 214, 230],\n",
       "        [188, 214, 230],\n",
       "        [188, 214, 230],\n",
       "        ...,\n",
       "        [225, 218, 219],\n",
       "        [223, 218, 219],\n",
       "        [223, 218, 219]],\n",
       "\n",
       "       [[184, 214, 232],\n",
       "        [186, 214, 231],\n",
       "        [188, 214, 230],\n",
       "        ...,\n",
       "        [226, 217, 218],\n",
       "        [226, 217, 218],\n",
       "        [227, 218, 219]],\n",
       "\n",
       "       ...,\n",
       "\n",
       "       [[ 95, 125, 143],\n",
       "        [ 95, 125, 146],\n",
       "        [ 95, 124, 148],\n",
       "        ...,\n",
       "        [ 27,  21,  26],\n",
       "        [ 33,  20,  26],\n",
       "        [ 37,  23,  29]],\n",
       "\n",
       "       [[106, 121, 144],\n",
       "        [ 99, 121, 145],\n",
       "        [ 93, 121, 146],\n",
       "        ...,\n",
       "        [ 22,  21,  25],\n",
       "        [ 23,  22,  27],\n",
       "        [ 23,  22,  27]],\n",
       "\n",
       "       [[110, 121, 143],\n",
       "        [100, 120, 147],\n",
       "        [ 91, 120, 151],\n",
       "        ...,\n",
       "        [ 22,  22,  23],\n",
       "        [ 22,  22,  24],\n",
       "        [ 23,  23,  25]]], dtype=uint8)"
      ]
     },
     "execution_count": 12,
     "metadata": {},
     "output_type": "execute_result"
    }
   ],
   "source": [
    "cv2.rectangle(newphoto,(x1,y1),(x2,y2),[0,255,0],5)"
   ]
  },
  {
   "cell_type": "code",
   "execution_count": 13,
   "id": "5e3e7607",
   "metadata": {},
   "outputs": [],
   "source": [
    "cv2.imshow(\"myphoto\",newphoto)\n",
    "cv2.waitKey()\n",
    "cv2.destroyAllWindows()"
   ]
  },
  {
   "cell_type": "code",
   "execution_count": 14,
   "id": "4c8e4fa5",
   "metadata": {},
   "outputs": [],
   "source": [
    "blurred_image=newphoto.copy()"
   ]
  },
  {
   "cell_type": "code",
   "execution_count": 15,
   "id": "1a55a893",
   "metadata": {},
   "outputs": [],
   "source": [
    "blurred_image = cv2.GaussianBlur(blurred_image, (15, 15), 10)"
   ]
  },
  {
   "cell_type": "code",
   "execution_count": 18,
   "id": "33e9c876",
   "metadata": {},
   "outputs": [],
   "source": [
    "cv2.imshow(\"myphoto\",blurred_image)\n",
    "cv2.waitKey()\n",
    "cv2.destroyAllWindows()"
   ]
  },
  {
   "cell_type": "code",
   "execution_count": 17,
   "id": "a1912264",
   "metadata": {},
   "outputs": [],
   "source": [
    "blurred_image[y1:y2, x1:x2] = newphoto[y1:y2, x1:x2]"
   ]
  },
  {
   "cell_type": "code",
   "execution_count": 20,
   "id": "f0b932de",
   "metadata": {},
   "outputs": [],
   "source": [
    "final_image=blurred_image.copy()"
   ]
  },
  {
   "cell_type": "code",
   "execution_count": 21,
   "id": "f80d7951",
   "metadata": {},
   "outputs": [],
   "source": [
    "cv2.imshow(\"myphoto\",final_image)\n",
    "cv2.waitKey()\n",
    "cv2.destroyAllWindows()"
   ]
  },
  {
   "cell_type": "code",
   "execution_count": null,
   "id": "fb02b860",
   "metadata": {},
   "outputs": [],
   "source": []
  }
 ],
 "metadata": {
  "kernelspec": {
   "display_name": "Python 3 (ipykernel)",
   "language": "python",
   "name": "python3"
  },
  "language_info": {
   "codemirror_mode": {
    "name": "ipython",
    "version": 3
   },
   "file_extension": ".py",
   "mimetype": "text/x-python",
   "name": "python",
   "nbconvert_exporter": "python",
   "pygments_lexer": "ipython3",
   "version": "3.10.9"
  }
 },
 "nbformat": 4,
 "nbformat_minor": 5
}
