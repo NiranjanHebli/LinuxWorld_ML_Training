{
 "cells": [
  {
   "cell_type": "code",
   "execution_count": 1,
   "id": "18ba0c5d",
   "metadata": {},
   "outputs": [],
   "source": [
    "import cv2"
   ]
  },
  {
   "cell_type": "code",
   "execution_count": 2,
   "id": "a8b13f75",
   "metadata": {},
   "outputs": [],
   "source": [
    "cam=cv2.VideoCapture(0)"
   ]
  },
  {
   "cell_type": "code",
   "execution_count": 3,
   "id": "1e1ee9a4",
   "metadata": {},
   "outputs": [],
   "source": [
    "status,photo=cam.read()"
   ]
  },
  {
   "cell_type": "code",
   "execution_count": 4,
   "id": "bfa9fcbf",
   "metadata": {},
   "outputs": [
    {
     "name": "stdout",
     "output_type": "stream",
     "text": [
      "True\n"
     ]
    }
   ],
   "source": [
    "print(status)"
   ]
  },
  {
   "cell_type": "code",
   "execution_count": 5,
   "id": "a3e8965a",
   "metadata": {},
   "outputs": [],
   "source": [
    "cv2.imshow(\"myphoto\",photo)\n",
    "cv2.waitKey()\n",
    "cv2.destroyAllWindows()"
   ]
  },
  {
   "cell_type": "code",
   "execution_count": 6,
   "id": "4ab3e10f",
   "metadata": {},
   "outputs": [
    {
     "data": {
      "text/plain": [
       "array([[[233, 222, 232],\n",
       "        [231, 222, 230],\n",
       "        [229, 223, 228],\n",
       "        ...,\n",
       "        [157, 135, 146],\n",
       "        [151, 135, 146],\n",
       "        [151, 135, 146]],\n",
       "\n",
       "       [[235, 222, 230],\n",
       "        [234, 223, 228],\n",
       "        [233, 223, 226],\n",
       "        ...,\n",
       "        [153, 135, 146],\n",
       "        [153, 135, 146],\n",
       "        [153, 135, 146]],\n",
       "\n",
       "       [[238, 221, 227],\n",
       "        [236, 223, 227],\n",
       "        [233, 223, 226],\n",
       "        ...,\n",
       "        [153, 134, 148],\n",
       "        [150, 128, 143],\n",
       "        [156, 134, 150]],\n",
       "\n",
       "       ...,\n",
       "\n",
       "       [[215, 190, 192],\n",
       "        [213, 190, 192],\n",
       "        [211, 190, 192],\n",
       "        ...,\n",
       "        [222, 196, 196],\n",
       "        [223, 196, 196],\n",
       "        [223, 196, 196]],\n",
       "\n",
       "       [[211, 190, 192],\n",
       "        [210, 190, 192],\n",
       "        [209, 190, 192],\n",
       "        ...,\n",
       "        [221, 197, 194],\n",
       "        [221, 197, 194],\n",
       "        [221, 197, 194]],\n",
       "\n",
       "       [[207, 191, 192],\n",
       "        [208, 191, 192],\n",
       "        [209, 190, 192],\n",
       "        ...,\n",
       "        [218, 198, 192],\n",
       "        [221, 198, 191],\n",
       "        [222, 198, 191]]], dtype=uint8)"
      ]
     },
     "execution_count": 6,
     "metadata": {},
     "output_type": "execute_result"
    }
   ],
   "source": [
    "photo"
   ]
  },
  {
   "cell_type": "code",
   "execution_count": 7,
   "id": "5aaad327",
   "metadata": {},
   "outputs": [],
   "source": [
    "faceModel=cv2.CascadeClassifier(\"haarcascade_frontalface_default.xml\")"
   ]
  },
  {
   "cell_type": "code",
   "execution_count": 8,
   "id": "795fc9ec",
   "metadata": {},
   "outputs": [],
   "source": [
    "myCoordinates=faceModel.detectMultiScale(photo)"
   ]
  },
  {
   "cell_type": "code",
   "execution_count": 9,
   "id": "71adcc47",
   "metadata": {},
   "outputs": [
    {
     "name": "stdout",
     "output_type": "stream",
     "text": [
      "1\n"
     ]
    }
   ],
   "source": [
    "print(len(faceModel.detectMultiScale(photo)))"
   ]
  },
  {
   "cell_type": "code",
   "execution_count": 10,
   "id": "1ac88f25",
   "metadata": {},
   "outputs": [],
   "source": [
    "x1=myCoordinates[0][0]\n",
    "y1=myCoordinates[0][1]\n",
    "x2=x1+myCoordinates[0][2]\n",
    "y2=y1+myCoordinates[0][3]"
   ]
  },
  {
   "cell_type": "code",
   "execution_count": 11,
   "id": "905be74b",
   "metadata": {},
   "outputs": [],
   "source": [
    "newphoto=photo.copy()"
   ]
  },
  {
   "cell_type": "code",
   "execution_count": 12,
   "id": "49bef8bc",
   "metadata": {},
   "outputs": [
    {
     "data": {
      "text/plain": [
       "array([[[233, 222, 232],\n",
       "        [231, 222, 230],\n",
       "        [229, 223, 228],\n",
       "        ...,\n",
       "        [157, 135, 146],\n",
       "        [151, 135, 146],\n",
       "        [151, 135, 146]],\n",
       "\n",
       "       [[235, 222, 230],\n",
       "        [234, 223, 228],\n",
       "        [233, 223, 226],\n",
       "        ...,\n",
       "        [153, 135, 146],\n",
       "        [153, 135, 146],\n",
       "        [153, 135, 146]],\n",
       "\n",
       "       [[238, 221, 227],\n",
       "        [236, 223, 227],\n",
       "        [233, 223, 226],\n",
       "        ...,\n",
       "        [153, 134, 148],\n",
       "        [150, 128, 143],\n",
       "        [156, 134, 150]],\n",
       "\n",
       "       ...,\n",
       "\n",
       "       [[215, 190, 192],\n",
       "        [213, 190, 192],\n",
       "        [211, 190, 192],\n",
       "        ...,\n",
       "        [222, 196, 196],\n",
       "        [223, 196, 196],\n",
       "        [223, 196, 196]],\n",
       "\n",
       "       [[211, 190, 192],\n",
       "        [210, 190, 192],\n",
       "        [209, 190, 192],\n",
       "        ...,\n",
       "        [221, 197, 194],\n",
       "        [221, 197, 194],\n",
       "        [221, 197, 194]],\n",
       "\n",
       "       [[207, 191, 192],\n",
       "        [208, 191, 192],\n",
       "        [209, 190, 192],\n",
       "        ...,\n",
       "        [218, 198, 192],\n",
       "        [221, 198, 191],\n",
       "        [222, 198, 191]]], dtype=uint8)"
      ]
     },
     "execution_count": 12,
     "metadata": {},
     "output_type": "execute_result"
    }
   ],
   "source": [
    "cv2.rectangle(newphoto,(x1,y1),(x2,y2),[0,255,0],5)"
   ]
  },
  {
   "cell_type": "code",
   "execution_count": 13,
   "id": "54fd9e1e",
   "metadata": {},
   "outputs": [],
   "source": [
    "cv2.imshow(\"myphoto\",newphoto)\n",
    "cv2.waitKey()\n",
    "cv2.destroyAllWindows()"
   ]
  },
  {
   "cell_type": "code",
   "execution_count": 14,
   "id": "a965da6f",
   "metadata": {},
   "outputs": [],
   "source": [
    "blurred_image=newphoto.copy()"
   ]
  },
  {
   "cell_type": "code",
   "execution_count": 15,
   "id": "1aed320e",
   "metadata": {},
   "outputs": [],
   "source": [
    "blurred_image = cv2.GaussianBlur(blurred_image, (15, 15), 10)"
   ]
  },
  {
   "cell_type": "code",
   "execution_count": 16,
   "id": "7f6ccc6a",
   "metadata": {},
   "outputs": [],
   "source": [
    "cv2.imshow(\"myphoto\",blurred_image)\n",
    "cv2.waitKey()\n",
    "cv2.destroyAllWindows()"
   ]
  },
  {
   "cell_type": "code",
   "execution_count": 17,
   "id": "a47b8c0e",
   "metadata": {},
   "outputs": [],
   "source": [
    "final_image=blurred_image.copy()"
   ]
  },
  {
   "cell_type": "code",
   "execution_count": 18,
   "id": "f60c21ee",
   "metadata": {},
   "outputs": [],
   "source": [
    "final_image[y1:y2, x1:x2] = newphoto[y1:y2, x1:x2]"
   ]
  },
  {
   "cell_type": "code",
   "execution_count": 19,
   "id": "0632a6c3",
   "metadata": {},
   "outputs": [],
   "source": [
    "cv2.imshow(\"myphoto\",final_image)\n",
    "cv2.waitKey()\n",
    "cv2.destroyAllWindows()"
   ]
  }
 ],
 "metadata": {
  "kernelspec": {
   "display_name": "Python 3 (ipykernel)",
   "language": "python",
   "name": "python3"
  },
  "language_info": {
   "codemirror_mode": {
    "name": "ipython",
    "version": 3
   },
   "file_extension": ".py",
   "mimetype": "text/x-python",
   "name": "python",
   "nbconvert_exporter": "python",
   "pygments_lexer": "ipython3",
   "version": "3.10.9"
  }
 },
 "nbformat": 4,
 "nbformat_minor": 5
}
