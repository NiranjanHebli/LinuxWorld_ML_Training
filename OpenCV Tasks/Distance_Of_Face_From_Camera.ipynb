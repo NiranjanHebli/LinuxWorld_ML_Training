{
 "cells": [
  {
   "cell_type": "code",
   "execution_count": 1,
   "id": "d83f04ff",
   "metadata": {},
   "outputs": [],
   "source": [
    "import cv2"
   ]
  },
  {
   "cell_type": "code",
   "execution_count": 2,
   "id": "45bfe896",
   "metadata": {},
   "outputs": [],
   "source": [
    "cam=cv2.VideoCapture(0)"
   ]
  },
  {
   "cell_type": "code",
   "execution_count": 3,
   "id": "908752f3",
   "metadata": {},
   "outputs": [],
   "source": [
    "status,photo=cam.read()"
   ]
  },
  {
   "cell_type": "code",
   "execution_count": 4,
   "id": "89c96b3a",
   "metadata": {},
   "outputs": [],
   "source": [
    "cv2.imshow(\"myphoto\",photo)\n",
    "cv2.waitKey()\n",
    "cv2.destroyAllWindows()"
   ]
  },
  {
   "cell_type": "code",
   "execution_count": 5,
   "id": "ff377e95",
   "metadata": {},
   "outputs": [],
   "source": [
    "faceModel=cv2.CascadeClassifier(\"haarcascade_frontalface_default.xml\")"
   ]
  },
  {
   "cell_type": "code",
   "execution_count": 6,
   "id": "21144d43",
   "metadata": {},
   "outputs": [],
   "source": [
    "myCoordinates=faceModel.detectMultiScale(photo)"
   ]
  },
  {
   "cell_type": "code",
   "execution_count": 7,
   "id": "dad5a51b",
   "metadata": {},
   "outputs": [
    {
     "name": "stdout",
     "output_type": "stream",
     "text": [
      "[[270 267 121 121]]\n"
     ]
    }
   ],
   "source": [
    "print(myCoordinates)"
   ]
  },
  {
   "cell_type": "code",
   "execution_count": 8,
   "id": "92a21c90",
   "metadata": {},
   "outputs": [
    {
     "name": "stdout",
     "output_type": "stream",
     "text": [
      "1\n"
     ]
    }
   ],
   "source": [
    "print(len(myCoordinates))"
   ]
  },
  {
   "cell_type": "code",
   "execution_count": 9,
   "id": "34de291f",
   "metadata": {},
   "outputs": [],
   "source": [
    "x1=myCoordinates[0][0]\n",
    "y1=myCoordinates[0][1]\n",
    "x2=myCoordinates[0][2]+x1\n",
    "y2=myCoordinates[0][3]+y1\n",
    "width=myCoordinates[0][3]"
   ]
  },
  {
   "cell_type": "code",
   "execution_count": 10,
   "id": "2bc67426",
   "metadata": {},
   "outputs": [],
   "source": [
    "newphoto=cv2.rectangle(photo,(x1,y1),(x2,y2),[0,255,0],5)"
   ]
  },
  {
   "cell_type": "code",
   "execution_count": 11,
   "id": "dda8c88a",
   "metadata": {},
   "outputs": [],
   "source": [
    "cv2.imshow(\"myphoto\",newphoto)\n",
    "cv2.waitKey()\n",
    "cv2.destroyAllWindows()"
   ]
  },
  {
   "cell_type": "code",
   "execution_count": 12,
   "id": "8de3a669",
   "metadata": {},
   "outputs": [],
   "source": [
    "object_width=int(input(\"Enter objects actual width\")) #20\n",
    "focal_length=int(input(\"Enter Focal Length(in pixels of webcam\")) %5\n",
    "object_width_pixels = photo[y1:y2,x1:x2].shape[1]\n",
    "distance= (object_width * focal_length) /object_width_pixels"
   ]
  },
  {
   "cell_type": "code",
   "execution_count": 16,
   "id": "116d1f4d",
   "metadata": {},
   "outputs": [
    {
     "name": "stdout",
     "output_type": "stream",
     "text": [
      " Distance of Object from camera is 82.64462809917356 cm\n"
     ]
    }
   ],
   "source": [
    "print(f\" Distance of Object from camera is {distance} cm\")"
   ]
  },
  {
   "cell_type": "code",
   "execution_count": null,
   "id": "573ce2ed",
   "metadata": {},
   "outputs": [],
   "source": []
  }
 ],
 "metadata": {
  "kernelspec": {
   "display_name": "Python 3 (ipykernel)",
   "language": "python",
   "name": "python3"
  },
  "language_info": {
   "codemirror_mode": {
    "name": "ipython",
    "version": 3
   },
   "file_extension": ".py",
   "mimetype": "text/x-python",
   "name": "python",
   "nbconvert_exporter": "python",
   "pygments_lexer": "ipython3",
   "version": "3.10.9"
  }
 },
 "nbformat": 4,
 "nbformat_minor": 5
}
