{
 "cells": [
  {
   "cell_type": "code",
   "execution_count": 1,
   "id": "26bd064b",
   "metadata": {},
   "outputs": [],
   "source": [
    "\n",
    "import cv2"
   ]
  },
  {
   "cell_type": "code",
   "execution_count": 2,
   "id": "b11cb064",
   "metadata": {},
   "outputs": [],
   "source": [
    "\n",
    "cam=cv2.VideoCapture(0)"
   ]
  },
  {
   "cell_type": "code",
   "execution_count": 3,
   "id": "94c4d7ac",
   "metadata": {},
   "outputs": [],
   "source": [
    "status,photo=cam.read()"
   ]
  },
  {
   "cell_type": "code",
   "execution_count": null,
   "id": "014b6efa",
   "metadata": {},
   "outputs": [],
   "source": [
    "cv2.imshow(\"myphoto\",photo)\n",
    "cv2.waitKey()\n",
    "cv2.destroyAllWindows()"
   ]
  },
  {
   "cell_type": "code",
   "execution_count": null,
   "id": "9566221f",
   "metadata": {},
   "outputs": [],
   "source": [
    "faceModel=cv2.CascadeClassifier(\"haarcascade_frontalface_default.xml\")"
   ]
  },
  {
   "cell_type": "code",
   "execution_count": null,
   "id": "6cbb9448",
   "metadata": {},
   "outputs": [],
   "source": [
    "myCoordinates=faceModel.detectMultiScale(photo)"
   ]
  },
  {
   "cell_type": "code",
   "execution_count": null,
   "id": "952ea57b",
   "metadata": {},
   "outputs": [],
   "source": [
    "print(myCoordinates)"
   ]
  },
  {
   "cell_type": "code",
   "execution_count": null,
   "id": "4e6407bc",
   "metadata": {},
   "outputs": [],
   "source": [
    "print(len(myCoordinates))"
   ]
  },
  {
   "cell_type": "code",
   "execution_count": null,
   "id": "79a653a5",
   "metadata": {},
   "outputs": [],
   "source": [
    "x1=myCoordinates[0][0]\n",
    "y1=myCoordinates[0][1]\n",
    "x2=myCoordinates[0][2]+x1\n",
    "y2=myCoordinates[0][3]+y1\n",
    "width=myCoordinates[0][3]"
   ]
  },
  {
   "cell_type": "code",
   "execution_count": null,
   "id": "3ec5fef8",
   "metadata": {},
   "outputs": [],
   "source": [
    "newphoto=cv2.rectangle(photo,(x1,y1),(x2,y2),[0,255,0],5)"
   ]
  },
  {
   "cell_type": "code",
   "execution_count": null,
   "id": "f3b2a599",
   "metadata": {},
   "outputs": [],
   "source": [
    "cv2.imshow(\"myphoto\",newphoto)\n",
    "cv2.waitKey()\n",
    "cv2.destroyAllWindows()"
   ]
  },
  {
   "cell_type": "code",
   "execution_count": null,
   "id": "6fb60cb5",
   "metadata": {},
   "outputs": [],
   "source": [
    "object_width=int(input(\"Enter objects actual width\")) #20\n",
    "focal_length=int(input(\"Enter Focal Length(in pixels) of webcam\")) #500\n",
    "object_width_pixels = photo[y1:y2,x1:x2].shape[1]\n",
    "distance= (object_width * focal_length) /object_width_pixels"
   ]
  },
  {
   "cell_type": "code",
   "execution_count": null,
   "id": "68d628df",
   "metadata": {},
   "outputs": [],
   "source": [
    "print(f\" Distance of Object from camera is {distance} cm\")"
   ]
  },
  {
   "cell_type": "code",
   "execution_count": null,
   "id": "e6507509",
   "metadata": {},
   "outputs": [],
   "source": []
  }
 ],
 "metadata": {
  "kernelspec": {
   "display_name": "Python 3 (ipykernel)",
   "language": "python",
   "name": "python3"
  },
  "language_info": {
   "codemirror_mode": {
    "name": "ipython",
    "version": 3
   },
   "file_extension": ".py",
   "mimetype": "text/x-python",
   "name": "python",
   "nbconvert_exporter": "python",
   "pygments_lexer": "ipython3",
   "version": "3.10.9"
  }
 },
 "nbformat": 4,
 "nbformat_minor": 5
}
