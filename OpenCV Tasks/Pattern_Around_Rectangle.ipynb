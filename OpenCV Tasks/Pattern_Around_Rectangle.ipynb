{
 "cells": [
  {
   "cell_type": "code",
   "execution_count": 2,
   "id": "4ec53ece",
   "metadata": {},
   "outputs": [],
   "source": [
    "import cv2"
   ]
  },
  {
   "cell_type": "code",
   "execution_count": 3,
   "id": "992850a9",
   "metadata": {},
   "outputs": [],
   "source": [
    "cam=cv2.VideoCapture(0)"
   ]
  },
  {
   "cell_type": "code",
   "execution_count": 4,
   "id": "841be60c",
   "metadata": {},
   "outputs": [],
   "source": [
    "status,photo=cam.read()"
   ]
  },
  {
   "cell_type": "code",
   "execution_count": 5,
   "id": "d0b801e0",
   "metadata": {},
   "outputs": [],
   "source": [
    "cv2.imshow(\"myphoto\",photo)\n",
    "cv2.waitKey()\n",
    "cv2.destroyAllWindows()"
   ]
  },
  {
   "cell_type": "code",
   "execution_count": 6,
   "id": "836cb2d3",
   "metadata": {},
   "outputs": [],
   "source": [
    "pattern=cv2.imread(\"pattern.jpg\")"
   ]
  },
  {
   "cell_type": "code",
   "execution_count": 7,
   "id": "fc50f6dc",
   "metadata": {},
   "outputs": [],
   "source": [
    "faceModel=cv2.CascadeClassifier(\"haarcascade_frontalface_default.xml\")"
   ]
  },
  {
   "cell_type": "code",
   "execution_count": 8,
   "id": "d41747f1",
   "metadata": {},
   "outputs": [],
   "source": [
    "newphoto=photo.copy()"
   ]
  },
  {
   "cell_type": "code",
   "execution_count": 9,
   "id": "bce861c2",
   "metadata": {},
   "outputs": [],
   "source": [
    "myCoordinates=faceModel.detectMultiScale(newphoto)"
   ]
  },
  {
   "cell_type": "code",
   "execution_count": 10,
   "id": "6c1a1c8c",
   "metadata": {},
   "outputs": [
    {
     "name": "stdout",
     "output_type": "stream",
     "text": [
      "[[247 224 186 186]]\n"
     ]
    }
   ],
   "source": [
    "print(myCoordinates)"
   ]
  },
  {
   "cell_type": "code",
   "execution_count": 11,
   "id": "6b1730bb",
   "metadata": {},
   "outputs": [
    {
     "name": "stdout",
     "output_type": "stream",
     "text": [
      "1\n"
     ]
    }
   ],
   "source": [
    "print(len(myCoordinates))"
   ]
  },
  {
   "cell_type": "code",
   "execution_count": 12,
   "id": "7a843535",
   "metadata": {},
   "outputs": [],
   "source": [
    "x1=myCoordinates[0][0]\n",
    "y1=myCoordinates[0][1]\n",
    "x2=myCoordinates[0][2]+x1\n",
    "y2=myCoordinates[0][3]+y1"
   ]
  },
  {
   "cell_type": "code",
   "execution_count": 13,
   "id": "7f4fefec",
   "metadata": {},
   "outputs": [],
   "source": [
    "newphoto=cv2.rectangle(newphoto,(x1,y1),(x2,y2),[0,255,0],5)"
   ]
  },
  {
   "cell_type": "code",
   "execution_count": 14,
   "id": "da565e8a",
   "metadata": {},
   "outputs": [],
   "source": [
    "cv2.imshow(\"myphoto\",newphoto)\n",
    "cv2.waitKey()\n",
    "cv2.destroyAllWindows()"
   ]
  },
  {
   "cell_type": "code",
   "execution_count": 20,
   "id": "c71f465c",
   "metadata": {},
   "outputs": [],
   "source": [
    "pattern_resized = cv2.resize(pattern, (newphoto.shape[1], newphoto.shape[0]))"
   ]
  },
  {
   "cell_type": "code",
   "execution_count": 21,
   "id": "f3efe485",
   "metadata": {},
   "outputs": [],
   "source": [
    "final_photo=pattern_resized.copy()"
   ]
  },
  {
   "cell_type": "code",
   "execution_count": 22,
   "id": "f1032c6f",
   "metadata": {},
   "outputs": [],
   "source": [
    "final_photo[y1:y2,x1:x2]=newphoto[y1:y2,x1:x2]"
   ]
  },
  {
   "cell_type": "code",
   "execution_count": 23,
   "id": "d95ca919",
   "metadata": {},
   "outputs": [],
   "source": [
    "cv2.imshow(\"myphoto\",final_photo)\n",
    "cv2.waitKey()\n",
    "cv2.destroyAllWindows()"
   ]
  }
 ],
 "metadata": {
  "kernelspec": {
   "display_name": "Python 3 (ipykernel)",
   "language": "python",
   "name": "python3"
  },
  "language_info": {
   "codemirror_mode": {
    "name": "ipython",
    "version": 3
   },
   "file_extension": ".py",
   "mimetype": "text/x-python",
   "name": "python",
   "nbconvert_exporter": "python",
   "pygments_lexer": "ipython3",
   "version": "3.10.9"
  }
 },
 "nbformat": 4,
 "nbformat_minor": 5
}
