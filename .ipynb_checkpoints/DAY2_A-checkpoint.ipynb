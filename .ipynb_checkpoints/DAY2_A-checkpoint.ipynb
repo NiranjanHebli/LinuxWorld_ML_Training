{
 "cells": [
  {
   "cell_type": "code",
   "execution_count": 6,
   "id": "2fafdb9e",
   "metadata": {},
   "outputs": [],
   "source": [
    "students = [\n",
    "            [\"vimal\",1111,\"ok\"],\n",
    "            [\"rahul\",2222,\"vgood\"],\n",
    "            [\"amit\",3333,\"good\"],\n",
    "            [\"jack\",4444,\"ok\"],\n",
    "]"
   ]
  },
  {
   "cell_type": "code",
   "execution_count": 7,
   "id": "106e348a",
   "metadata": {},
   "outputs": [
    {
     "data": {
      "text/plain": [
       "[['vimal', 1111, 'ok'],\n",
       " ['rahul', 2222, 'vgood'],\n",
       " ['amit', 3333, 'good'],\n",
       " ['jack', 4444, 'ok']]"
      ]
     },
     "execution_count": 7,
     "metadata": {},
     "output_type": "execute_result"
    }
   ],
   "source": [
    "students"
   ]
  },
  {
   "cell_type": "code",
   "execution_count": 8,
   "id": "db2926df",
   "metadata": {},
   "outputs": [
    {
     "data": {
      "text/plain": [
       "[['vimal', 1111, 'ok'],\n",
       " ['rahul', 2222, 'vgood'],\n",
       " ['amit', 3333, 'good'],\n",
       " ['jack', 4444, 'ok']]"
      ]
     },
     "execution_count": 8,
     "metadata": {},
     "output_type": "execute_result"
    }
   ],
   "source": [
    "students[:]"
   ]
  },
  {
   "cell_type": "code",
   "execution_count": 9,
   "id": "1a527ba8",
   "metadata": {},
   "outputs": [
    {
     "data": {
      "text/plain": [
       "[['vimal', 1111, 'ok'],\n",
       " ['rahul', 2222, 'vgood'],\n",
       " ['amit', 3333, 'good'],\n",
       " ['jack', 4444, 'ok']]"
      ]
     },
     "execution_count": 9,
     "metadata": {},
     "output_type": "execute_result"
    }
   ],
   "source": [
    "students"
   ]
  },
  {
   "cell_type": "code",
   "execution_count": 10,
   "id": "1aa8d215",
   "metadata": {},
   "outputs": [
    {
     "data": {
      "text/plain": [
       "4"
      ]
     },
     "execution_count": 10,
     "metadata": {},
     "output_type": "execute_result"
    }
   ],
   "source": [
    "len(students)"
   ]
  },
  {
   "cell_type": "code",
   "execution_count": 11,
   "id": "bde36d53",
   "metadata": {},
   "outputs": [
    {
     "data": {
      "text/plain": [
       "3333"
      ]
     },
     "execution_count": 11,
     "metadata": {},
     "output_type": "execute_result"
    }
   ],
   "source": [
    "students[2][1]"
   ]
  },
  {
   "cell_type": "code",
   "execution_count": 12,
   "id": "2b5cea61",
   "metadata": {},
   "outputs": [
    {
     "data": {
      "text/plain": [
       "[['rahul', 2222, 'vgood'], ['amit', 3333, 'good'], ['jack', 4444, 'ok']]"
      ]
     },
     "execution_count": 12,
     "metadata": {},
     "output_type": "execute_result"
    }
   ],
   "source": [
    "students[1:4]"
   ]
  },
  {
   "cell_type": "markdown",
   "id": "f32d318c",
   "metadata": {},
   "source": [
    "-> We cant do operation on list column wise\n",
    "for ex:- find all numbers from previous example\n"
   ]
  },
  {
   "cell_type": "code",
   "execution_count": 50,
   "id": "3c55cb7a",
   "metadata": {},
   "outputs": [
    {
     "data": {
      "text/plain": [
       "list"
      ]
     },
     "execution_count": 50,
     "metadata": {},
     "output_type": "execute_result"
    }
   ],
   "source": [
    "type(students)"
   ]
  },
  {
   "cell_type": "code",
   "execution_count": 52,
   "id": "af965aec",
   "metadata": {},
   "outputs": [],
   "source": [
    "import numpy \n"
   ]
  },
  {
   "cell_type": "markdown",
   "id": "025be916",
   "metadata": {},
   "source": [
    "pip list -> used to display all the libraries preinstalled"
   ]
  },
  {
   "cell_type": "code",
   "execution_count": 56,
   "id": "d0d2db05",
   "metadata": {},
   "outputs": [],
   "source": [
    "b=numpy.array(students)"
   ]
  },
  {
   "cell_type": "code",
   "execution_count": 57,
   "id": "ad8bc3b4",
   "metadata": {},
   "outputs": [
    {
     "data": {
      "text/plain": [
       "list"
      ]
     },
     "execution_count": 57,
     "metadata": {},
     "output_type": "execute_result"
    }
   ],
   "source": [
    "type(students)"
   ]
  },
  {
   "cell_type": "code",
   "execution_count": 58,
   "id": "08230f93",
   "metadata": {},
   "outputs": [
    {
     "data": {
      "text/plain": [
       "numpy.ndarray"
      ]
     },
     "execution_count": 58,
     "metadata": {},
     "output_type": "execute_result"
    }
   ],
   "source": [
    "type(b)"
   ]
  },
  {
   "cell_type": "code",
   "execution_count": 59,
   "id": "b6e7ca17",
   "metadata": {},
   "outputs": [
    {
     "data": {
      "text/plain": [
       "2"
      ]
     },
     "execution_count": 59,
     "metadata": {},
     "output_type": "execute_result"
    }
   ],
   "source": [
    "b.ndim"
   ]
  },
  {
   "cell_type": "code",
   "execution_count": 60,
   "id": "d37573e8",
   "metadata": {},
   "outputs": [
    {
     "data": {
      "text/plain": [
       "(4, 3)"
      ]
     },
     "execution_count": 60,
     "metadata": {},
     "output_type": "execute_result"
    }
   ],
   "source": [
    "b.shape"
   ]
  },
  {
   "cell_type": "code",
   "execution_count": 61,
   "id": "b5a3c516",
   "metadata": {},
   "outputs": [
    {
     "data": {
      "text/plain": [
       "array(['rahul', '2222', 'vgood'], dtype='<U11')"
      ]
     },
     "execution_count": 61,
     "metadata": {},
     "output_type": "execute_result"
    }
   ],
   "source": [
    "b[1]"
   ]
  },
  {
   "cell_type": "code",
   "execution_count": 63,
   "id": "d39fb3fb",
   "metadata": {},
   "outputs": [
    {
     "data": {
      "text/plain": [
       "array(['1111', '2222', '3333', '4444'], dtype='<U11')"
      ]
     },
     "execution_count": 63,
     "metadata": {},
     "output_type": "execute_result"
    }
   ],
   "source": [
    "b[:,1]"
   ]
  },
  {
   "cell_type": "code",
   "execution_count": null,
   "id": "004369ae",
   "metadata": {},
   "outputs": [],
   "source": []
  }
 ],
 "metadata": {
  "kernelspec": {
   "display_name": "Python 3 (ipykernel)",
   "language": "python",
   "name": "python3"
  },
  "language_info": {
   "codemirror_mode": {
    "name": "ipython",
    "version": 3
   },
   "file_extension": ".py",
   "mimetype": "text/x-python",
   "name": "python",
   "nbconvert_exporter": "python",
   "pygments_lexer": "ipython3",
   "version": "3.10.9"
  }
 },
 "nbformat": 4,
 "nbformat_minor": 5
}
