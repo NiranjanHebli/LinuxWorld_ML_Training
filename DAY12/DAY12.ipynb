{
 "cells": [
  {
   "cell_type": "code",
   "execution_count": 1,
   "id": "fd73c748",
   "metadata": {},
   "outputs": [],
   "source": [
    "import cv2"
   ]
  },
  {
   "cell_type": "code",
   "execution_count": 18,
   "id": "f08af6ee",
   "metadata": {},
   "outputs": [],
   "source": [
    "cap=cv2.VideoCapture(0)"
   ]
  },
  {
   "cell_type": "code",
   "execution_count": 17,
   "id": "0422d4e8",
   "metadata": {},
   "outputs": [],
   "source": [
    "cap.release()"
   ]
  },
  {
   "cell_type": "code",
   "execution_count": 11,
   "id": "fe95077e",
   "metadata": {},
   "outputs": [],
   "source": [
    "cap=cv2.VideoCapture(\"https://100.109.218.50:8080/video\")"
   ]
  },
  {
   "cell_type": "code",
   "execution_count": 19,
   "id": "dc7b771a",
   "metadata": {},
   "outputs": [],
   "source": [
    "status,photo=cap.read()"
   ]
  },
  {
   "cell_type": "code",
   "execution_count": 15,
   "id": "e87ad509",
   "metadata": {},
   "outputs": [],
   "source": [
    "cv2.imshow(\"hi\",photo)"
   ]
  },
  {
   "cell_type": "code",
   "execution_count": 5,
   "id": "aa6145e6",
   "metadata": {},
   "outputs": [],
   "source": [
    "import numpy as np"
   ]
  },
  {
   "cell_type": "code",
   "execution_count": 16,
   "id": "e26ae181",
   "metadata": {},
   "outputs": [],
   "source": [
    "a=np.array([\n",
    "[1,10,100],\n",
    "[2,20,200],\n",
    "[3,30,300],\n",
    "[4,40,400]\n",
    "]\n",
    ")"
   ]
  },
  {
   "cell_type": "code",
   "execution_count": 17,
   "id": "8a4ff0a4",
   "metadata": {},
   "outputs": [
    {
     "data": {
      "text/plain": [
       "array([[  1,  10, 100],\n",
       "       [  2,  20, 200],\n",
       "       [  3,  30, 300],\n",
       "       [  4,  40, 400]])"
      ]
     },
     "execution_count": 17,
     "metadata": {},
     "output_type": "execute_result"
    }
   ],
   "source": [
    "a"
   ]
  },
  {
   "cell_type": "code",
   "execution_count": 18,
   "id": "c16cfa8c",
   "metadata": {},
   "outputs": [
    {
     "data": {
      "text/plain": [
       "(4, 3)"
      ]
     },
     "execution_count": 18,
     "metadata": {},
     "output_type": "execute_result"
    }
   ],
   "source": [
    "a.shape"
   ]
  },
  {
   "cell_type": "code",
   "execution_count": 19,
   "id": "28471f43",
   "metadata": {},
   "outputs": [
    {
     "data": {
      "text/plain": [
       "array([[ 20, 200],\n",
       "       [ 30, 300]])"
      ]
     },
     "execution_count": 19,
     "metadata": {},
     "output_type": "execute_result"
    }
   ],
   "source": [
    "a[1:3,1:3]"
   ]
  },
  {
   "cell_type": "code",
   "execution_count": 20,
   "id": "9a137db5",
   "metadata": {},
   "outputs": [],
   "source": [
    "l=[\n",
    "[1,10,100],\n",
    "[2,20,200],\n",
    "[3,30,300],\n",
    "[4,40,400]\n",
    "]"
   ]
  },
  {
   "cell_type": "code",
   "execution_count": 21,
   "id": "c9856e98",
   "metadata": {},
   "outputs": [],
   "source": [
    "b=np.array(l)"
   ]
  },
  {
   "cell_type": "code",
   "execution_count": 22,
   "id": "95015ef9",
   "metadata": {},
   "outputs": [
    {
     "data": {
      "text/plain": [
       "array([[  1,  10, 100],\n",
       "       [  2,  20, 200],\n",
       "       [  3,  30, 300],\n",
       "       [  4,  40, 400]])"
      ]
     },
     "execution_count": 22,
     "metadata": {},
     "output_type": "execute_result"
    }
   ],
   "source": [
    "b"
   ]
  },
  {
   "cell_type": "code",
   "execution_count": 23,
   "id": "d3c3f4d4",
   "metadata": {},
   "outputs": [
    {
     "data": {
      "text/plain": [
       "2"
      ]
     },
     "execution_count": 23,
     "metadata": {},
     "output_type": "execute_result"
    }
   ],
   "source": [
    "a.ndim"
   ]
  },
  {
   "cell_type": "code",
   "execution_count": 4,
   "id": "d75d75c3",
   "metadata": {},
   "outputs": [
    {
     "data": {
      "text/plain": [
       "array([[[223, 179, 231],\n",
       "        [223, 179, 230],\n",
       "        [223, 180, 229],\n",
       "        ...,\n",
       "        [129,  96, 137],\n",
       "        [133,  92, 132],\n",
       "        [135,  93, 133]],\n",
       "\n",
       "       [[225, 179, 231],\n",
       "        [223, 178, 230],\n",
       "        [222, 178, 230],\n",
       "        ...,\n",
       "        [134,  95, 139],\n",
       "        [136,  94, 136],\n",
       "        [138,  96, 139]],\n",
       "\n",
       "       [[222, 178, 230],\n",
       "        [222, 176, 229],\n",
       "        [224, 177, 232],\n",
       "        ...,\n",
       "        [132,  95, 140],\n",
       "        [135,  97, 144],\n",
       "        [134,  96, 142]],\n",
       "\n",
       "       ...,\n",
       "\n",
       "       [[161, 173, 229],\n",
       "        [136, 174, 235],\n",
       "        [110, 174, 241],\n",
       "        ...,\n",
       "        [ 81,  80, 196],\n",
       "        [ 83,  82, 194],\n",
       "        [ 84,  83, 195]],\n",
       "\n",
       "       [[135, 165, 244],\n",
       "        [124, 168, 242],\n",
       "        [114, 174, 241],\n",
       "        ...,\n",
       "        [ 85,  80, 201],\n",
       "        [ 88,  81, 202],\n",
       "        [ 88,  81, 202]],\n",
       "\n",
       "       [[121, 168, 243],\n",
       "        [117, 169, 242],\n",
       "        [118, 174, 244],\n",
       "        ...,\n",
       "        [ 89,  77, 199],\n",
       "        [ 92,  80, 202],\n",
       "        [ 92,  80, 202]]], dtype=uint8)"
      ]
     },
     "execution_count": 4,
     "metadata": {},
     "output_type": "execute_result"
    }
   ],
   "source": [
    "photo"
   ]
  },
  {
   "cell_type": "code",
   "execution_count": 10,
   "id": "3e7371f6",
   "metadata": {},
   "outputs": [],
   "source": [
    "photo[:,:,0:2]=0"
   ]
  },
  {
   "cell_type": "code",
   "execution_count": 21,
   "id": "f29d3715",
   "metadata": {},
   "outputs": [],
   "source": [
    "grayPhoto=cv2.cvtColor(photo,cv2.COLOR_BGR2GRAY)"
   ]
  },
  {
   "cell_type": "code",
   "execution_count": 22,
   "id": "c31706cd",
   "metadata": {},
   "outputs": [],
   "source": [
    "cv2.imshow(\"hi\",grayPhoto)"
   ]
  },
  {
   "cell_type": "code",
   "execution_count": null,
   "id": "620da614",
   "metadata": {},
   "outputs": [],
   "source": [
    "cv2.imshow(\"hi\",photo)"
   ]
  },
  {
   "cell_type": "code",
   "execution_count": null,
   "id": "f6e74798",
   "metadata": {},
   "outputs": [],
   "source": []
  }
 ],
 "metadata": {
  "kernelspec": {
   "display_name": "Python 3 (ipykernel)",
   "language": "python",
   "name": "python3"
  },
  "language_info": {
   "codemirror_mode": {
    "name": "ipython",
    "version": 3
   },
   "file_extension": ".py",
   "mimetype": "text/x-python",
   "name": "python",
   "nbconvert_exporter": "python",
   "pygments_lexer": "ipython3",
   "version": "3.10.9"
  }
 },
 "nbformat": 4,
 "nbformat_minor": 5
}
