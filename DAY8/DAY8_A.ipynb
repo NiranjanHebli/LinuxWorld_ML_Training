{
 "cells": [
  {
   "cell_type": "code",
   "execution_count": 51,
   "id": "1a2f5236",
   "metadata": {},
   "outputs": [],
   "source": [
    "f=open(\"lwfile\",\"r\")"
   ]
  },
  {
   "cell_type": "code",
   "execution_count": 15,
   "id": "51387dfc",
   "metadata": {},
   "outputs": [
    {
     "data": {
      "text/plain": [
       "0"
      ]
     },
     "execution_count": 15,
     "metadata": {},
     "output_type": "execute_result"
    }
   ],
   "source": [
    "f.tell()"
   ]
  },
  {
   "cell_type": "code",
   "execution_count": 16,
   "id": "afce1f24",
   "metadata": {},
   "outputs": [
    {
     "data": {
      "text/plain": [
       "'this i'"
      ]
     },
     "execution_count": 16,
     "metadata": {},
     "output_type": "execute_result"
    }
   ],
   "source": [
    "f.read(6)"
   ]
  },
  {
   "cell_type": "code",
   "execution_count": 17,
   "id": "f853927c",
   "metadata": {},
   "outputs": [
    {
     "data": {
      "text/plain": [
       "6"
      ]
     },
     "execution_count": 17,
     "metadata": {},
     "output_type": "execute_result"
    }
   ],
   "source": [
    "f.tell()"
   ]
  },
  {
   "cell_type": "code",
   "execution_count": 18,
   "id": "47164bb8",
   "metadata": {},
   "outputs": [
    {
     "data": {
      "text/plain": [
       "'f fi'"
      ]
     },
     "execution_count": 18,
     "metadata": {},
     "output_type": "execute_result"
    }
   ],
   "source": [
    "f.read(4)"
   ]
  },
  {
   "cell_type": "code",
   "execution_count": 19,
   "id": "8f12984d",
   "metadata": {},
   "outputs": [
    {
     "data": {
      "text/plain": [
       "10"
      ]
     },
     "execution_count": 19,
     "metadata": {},
     "output_type": "execute_result"
    }
   ],
   "source": [
    "f.tell()"
   ]
  },
  {
   "cell_type": "code",
   "execution_count": 21,
   "id": "5f965727",
   "metadata": {},
   "outputs": [
    {
     "data": {
      "text/plain": [
       "0"
      ]
     },
     "execution_count": 21,
     "metadata": {},
     "output_type": "execute_result"
    }
   ],
   "source": [
    "f.seek(0,0)"
   ]
  },
  {
   "cell_type": "code",
   "execution_count": 22,
   "id": "af561387",
   "metadata": {},
   "outputs": [
    {
     "data": {
      "text/plain": [
       "30"
      ]
     },
     "execution_count": 22,
     "metadata": {},
     "output_type": "execute_result"
    }
   ],
   "source": [
    "f.seek(30,0)"
   ]
  },
  {
   "cell_type": "code",
   "execution_count": 23,
   "id": "e798cb0a",
   "metadata": {},
   "outputs": [
    {
     "data": {
      "text/plain": [
       "30"
      ]
     },
     "execution_count": 23,
     "metadata": {},
     "output_type": "execute_result"
    }
   ],
   "source": [
    "f.tell()"
   ]
  },
  {
   "cell_type": "code",
   "execution_count": 24,
   "id": "60f48e51",
   "metadata": {},
   "outputs": [
    {
     "data": {
      "text/plain": [
       "'\\nthird line \\nfourth line \\nfifth line sixth line\\n'"
      ]
     },
     "execution_count": 24,
     "metadata": {},
     "output_type": "execute_result"
    }
   ],
   "source": [
    "f.read()"
   ]
  },
  {
   "cell_type": "code",
   "execution_count": 25,
   "id": "5d3aa6a7",
   "metadata": {},
   "outputs": [
    {
     "data": {
      "text/plain": [
       "0"
      ]
     },
     "execution_count": 25,
     "metadata": {},
     "output_type": "execute_result"
    }
   ],
   "source": [
    "f.seek(0,0)"
   ]
  },
  {
   "cell_type": "code",
   "execution_count": 26,
   "id": "fa8f084e",
   "metadata": {},
   "outputs": [
    {
     "data": {
      "text/plain": [
       "0"
      ]
     },
     "execution_count": 26,
     "metadata": {},
     "output_type": "execute_result"
    }
   ],
   "source": [
    "f.tell()"
   ]
  },
  {
   "cell_type": "code",
   "execution_count": 29,
   "id": "4614951f",
   "metadata": {},
   "outputs": [
    {
     "data": {
      "text/plain": [
       "6"
      ]
     },
     "execution_count": 29,
     "metadata": {},
     "output_type": "execute_result"
    }
   ],
   "source": [
    "f.seek(6,0)"
   ]
  },
  {
   "cell_type": "code",
   "execution_count": 31,
   "id": "1908ebef",
   "metadata": {},
   "outputs": [],
   "source": [
    "f.close()"
   ]
  },
  {
   "cell_type": "code",
   "execution_count": 32,
   "id": "b5e987a0",
   "metadata": {},
   "outputs": [
    {
     "ename": "ValueError",
     "evalue": "I/O operation on closed file.",
     "output_type": "error",
     "traceback": [
      "\u001b[1;31m---------------------------------------------------------------------------\u001b[0m",
      "\u001b[1;31mValueError\u001b[0m                                Traceback (most recent call last)",
      "Cell \u001b[1;32mIn[32], line 1\u001b[0m\n\u001b[1;32m----> 1\u001b[0m \u001b[43mf\u001b[49m\u001b[38;5;241;43m.\u001b[39;49m\u001b[43mtell\u001b[49m\u001b[43m(\u001b[49m\u001b[43m)\u001b[49m\n",
      "\u001b[1;31mValueError\u001b[0m: I/O operation on closed file."
     ]
    }
   ],
   "source": [
    "f.tell()"
   ]
  },
  {
   "cell_type": "code",
   "execution_count": 33,
   "id": "fddbcf5d",
   "metadata": {},
   "outputs": [
    {
     "ename": "ValueError",
     "evalue": "I/O operation on closed file.",
     "output_type": "error",
     "traceback": [
      "\u001b[1;31m---------------------------------------------------------------------------\u001b[0m",
      "\u001b[1;31mValueError\u001b[0m                                Traceback (most recent call last)",
      "Cell \u001b[1;32mIn[33], line 1\u001b[0m\n\u001b[1;32m----> 1\u001b[0m \u001b[43mf\u001b[49m\u001b[38;5;241;43m.\u001b[39;49m\u001b[43mread\u001b[49m\u001b[43m(\u001b[49m\u001b[43m)\u001b[49m\n",
      "\u001b[1;31mValueError\u001b[0m: I/O operation on closed file."
     ]
    }
   ],
   "source": [
    "f.read()"
   ]
  },
  {
   "cell_type": "code",
   "execution_count": 34,
   "id": "6c1e055f",
   "metadata": {},
   "outputs": [
    {
     "ename": "ValueError",
     "evalue": "I/O operation on closed file.",
     "output_type": "error",
     "traceback": [
      "\u001b[1;31m---------------------------------------------------------------------------\u001b[0m",
      "\u001b[1;31mValueError\u001b[0m                                Traceback (most recent call last)",
      "Cell \u001b[1;32mIn[34], line 1\u001b[0m\n\u001b[1;32m----> 1\u001b[0m \u001b[43mf\u001b[49m\u001b[38;5;241;43m.\u001b[39;49m\u001b[43mseek\u001b[49m\u001b[43m(\u001b[49m\u001b[38;5;241;43m0\u001b[39;49m\u001b[43m,\u001b[49m\u001b[38;5;241;43m0\u001b[39;49m\u001b[43m)\u001b[49m\n",
      "\u001b[1;31mValueError\u001b[0m: I/O operation on closed file."
     ]
    }
   ],
   "source": [
    "f.seek(0,0)"
   ]
  },
  {
   "cell_type": "code",
   "execution_count": 53,
   "id": "d7ea4a6e",
   "metadata": {},
   "outputs": [],
   "source": [
    "myfile=open(\"lwfile\")"
   ]
  },
  {
   "cell_type": "code",
   "execution_count": 37,
   "id": "b1bb1146",
   "metadata": {},
   "outputs": [
    {
     "data": {
      "text/plain": [
       "'this if first line\\nsecond line\\nthird line \\nfourth line \\nfifth line sixth line\\n'"
      ]
     },
     "execution_count": 37,
     "metadata": {},
     "output_type": "execute_result"
    }
   ],
   "source": [
    "myfile.read()"
   ]
  },
  {
   "cell_type": "code",
   "execution_count": 40,
   "id": "0998371d",
   "metadata": {},
   "outputs": [
    {
     "name": "stdout",
     "output_type": "stream",
     "text": [
      "this if first line\n",
      "second line\n",
      "third line \n",
      "fourth line \n",
      "fifth line sixth line\n",
      "\n"
     ]
    }
   ],
   "source": [
    "print(myfile.read())"
   ]
  },
  {
   "cell_type": "code",
   "execution_count": 41,
   "id": "9b56b85e",
   "metadata": {},
   "outputs": [],
   "source": [
    "a =[1,2,3]"
   ]
  },
  {
   "cell_type": "code",
   "execution_count": 42,
   "id": "6d45533b",
   "metadata": {},
   "outputs": [
    {
     "name": "stdout",
     "output_type": "stream",
     "text": [
      "1 2 3 "
     ]
    }
   ],
   "source": [
    "for x in a:\n",
    "    print(x,end=\" \")"
   ]
  },
  {
   "cell_type": "code",
   "execution_count": 50,
   "id": "0fdbec54",
   "metadata": {},
   "outputs": [
    {
     "name": "stdout",
     "output_type": "stream",
     "text": [
      "this if first line\n",
      "\n",
      "second line\n",
      "\n",
      "third line \n",
      "\n",
      "fourth line \n",
      "\n",
      "fifth line sixth line\n",
      "\n"
     ]
    }
   ],
   "source": [
    "for x in myfile:\n",
    "    print(x)"
   ]
  },
  {
   "cell_type": "code",
   "execution_count": 54,
   "id": "61dd0d09",
   "metadata": {},
   "outputs": [
    {
     "name": "stdout",
     "output_type": "stream",
     "text": [
      "second line\n",
      "\n"
     ]
    }
   ],
   "source": [
    "for x in myfile:\n",
    "    if \"second\" in x:\n",
    "        print(x)"
   ]
  },
  {
   "cell_type": "code",
   "execution_count": 61,
   "id": "90701841",
   "metadata": {},
   "outputs": [],
   "source": [
    "s=\"This is a string\""
   ]
  },
  {
   "cell_type": "code",
   "execution_count": 62,
   "id": "2d2f2280",
   "metadata": {},
   "outputs": [
    {
     "data": {
      "text/plain": [
       "['This', 'is', 'a', 'string']"
      ]
     },
     "execution_count": 62,
     "metadata": {},
     "output_type": "execute_result"
    }
   ],
   "source": [
    "s.split()"
   ]
  },
  {
   "cell_type": "code",
   "execution_count": 63,
   "id": "040799f2",
   "metadata": {},
   "outputs": [
    {
     "data": {
      "text/plain": [
       "'string'"
      ]
     },
     "execution_count": 63,
     "metadata": {},
     "output_type": "execute_result"
    }
   ],
   "source": [
    "s.split()[3]"
   ]
  },
  {
   "cell_type": "code",
   "execution_count": 77,
   "id": "4226caf1",
   "metadata": {},
   "outputs": [],
   "source": [
    "myfile1=open(\"data\")"
   ]
  },
  {
   "cell_type": "code",
   "execution_count": 78,
   "id": "fd1dcc54",
   "metadata": {},
   "outputs": [
    {
     "name": "stdout",
     "output_type": "stream",
     "text": [
      "9829000000\n",
      "9829101345\n",
      "9899999990\n"
     ]
    }
   ],
   "source": [
    "for x in myfile1:\n",
    "    print(x.split()[3])"
   ]
  },
  {
   "cell_type": "code",
   "execution_count": 93,
   "id": "c8578443",
   "metadata": {},
   "outputs": [],
   "source": [
    "fh=open(\"mylw123.txt\",mode=\"w\")"
   ]
  },
  {
   "cell_type": "code",
   "execution_count": 90,
   "id": "343aff04",
   "metadata": {},
   "outputs": [
    {
     "data": {
      "text/plain": [
       "17"
      ]
     },
     "execution_count": 90,
     "metadata": {},
     "output_type": "execute_result"
    }
   ],
   "source": [
    "fh.write(\"this is 1st line\\n\")"
   ]
  },
  {
   "cell_type": "code",
   "execution_count": 91,
   "id": "8f32e042",
   "metadata": {},
   "outputs": [
    {
     "data": {
      "text/plain": [
       "0"
      ]
     },
     "execution_count": 91,
     "metadata": {},
     "output_type": "execute_result"
    }
   ],
   "source": [
    "fh.seek(0,0)"
   ]
  },
  {
   "cell_type": "code",
   "execution_count": 92,
   "id": "48fb6e5d",
   "metadata": {},
   "outputs": [],
   "source": [
    "fh.close()"
   ]
  },
  {
   "cell_type": "code",
   "execution_count": 94,
   "id": "eac7f522",
   "metadata": {},
   "outputs": [
    {
     "data": {
      "text/plain": [
       "9"
      ]
     },
     "execution_count": 94,
     "metadata": {},
     "output_type": "execute_result"
    }
   ],
   "source": [
    "fh.write(\"new data\\n\")"
   ]
  },
  {
   "cell_type": "code",
   "execution_count": 95,
   "id": "02947d86",
   "metadata": {},
   "outputs": [],
   "source": [
    "fh.close()"
   ]
  },
  {
   "cell_type": "code",
   "execution_count": 102,
   "id": "8b855db5",
   "metadata": {},
   "outputs": [],
   "source": [
    "fh=open(\"mylw123.txt\",mode=\"a\")"
   ]
  },
  {
   "cell_type": "code",
   "execution_count": 103,
   "id": "5389d67b",
   "metadata": {},
   "outputs": [
    {
     "data": {
      "text/plain": [
       "5"
      ]
     },
     "execution_count": 103,
     "metadata": {},
     "output_type": "execute_result"
    }
   ],
   "source": [
    "fh.write(\"byeee\")"
   ]
  },
  {
   "cell_type": "code",
   "execution_count": 104,
   "id": "89be57ce",
   "metadata": {},
   "outputs": [],
   "source": [
    "fh.close()"
   ]
  },
  {
   "cell_type": "code",
   "execution_count": 112,
   "id": "f07bc8c7",
   "metadata": {},
   "outputs": [],
   "source": [
    "fh=open(\"mylw123.txt\",mode=\"r+\")"
   ]
  },
  {
   "cell_type": "code",
   "execution_count": 113,
   "id": "eba930bb",
   "metadata": {},
   "outputs": [
    {
     "data": {
      "text/plain": [
       "'byeeebyeeebyee'"
      ]
     },
     "execution_count": 113,
     "metadata": {},
     "output_type": "execute_result"
    }
   ],
   "source": [
    "fh.read()"
   ]
  },
  {
   "cell_type": "code",
   "execution_count": 110,
   "id": "7880071b",
   "metadata": {},
   "outputs": [
    {
     "data": {
      "text/plain": [
       "4"
      ]
     },
     "execution_count": 110,
     "metadata": {},
     "output_type": "execute_result"
    }
   ],
   "source": [
    "fh.write(\"byee\")"
   ]
  },
  {
   "cell_type": "code",
   "execution_count": 114,
   "id": "28549dbb",
   "metadata": {},
   "outputs": [],
   "source": [
    "fh.close()"
   ]
  },
  {
   "cell_type": "code",
   "execution_count": null,
   "id": "0cdb6855",
   "metadata": {},
   "outputs": [],
   "source": []
  }
 ],
 "metadata": {
  "kernelspec": {
   "display_name": "Python 3 (ipykernel)",
   "language": "python",
   "name": "python3"
  },
  "language_info": {
   "codemirror_mode": {
    "name": "ipython",
    "version": 3
   },
   "file_extension": ".py",
   "mimetype": "text/x-python",
   "name": "python",
   "nbconvert_exporter": "python",
   "pygments_lexer": "ipython3",
   "version": "3.10.9"
  }
 },
 "nbformat": 4,
 "nbformat_minor": 5
}
