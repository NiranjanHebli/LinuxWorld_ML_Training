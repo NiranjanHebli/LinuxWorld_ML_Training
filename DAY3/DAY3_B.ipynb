{
 "cells": [
  {
   "cell_type": "code",
   "execution_count": 30,
   "id": "3b2dae5e",
   "metadata": {},
   "outputs": [],
   "source": [
    "import pandas\n"
   ]
  },
  {
   "cell_type": "code",
   "execution_count": 31,
   "id": "f688e5c7",
   "metadata": {},
   "outputs": [],
   "source": [
    "dataset=pandas.read_csv(\"Student - Sheet1.csv\")"
   ]
  },
  {
   "cell_type": "code",
   "execution_count": 32,
   "id": "2f45c883",
   "metadata": {},
   "outputs": [
    {
     "data": {
      "text/html": [
       "<div>\n",
       "<style scoped>\n",
       "    .dataframe tbody tr th:only-of-type {\n",
       "        vertical-align: middle;\n",
       "    }\n",
       "\n",
       "    .dataframe tbody tr th {\n",
       "        vertical-align: top;\n",
       "    }\n",
       "\n",
       "    .dataframe thead th {\n",
       "        text-align: right;\n",
       "    }\n",
       "</style>\n",
       "<table border=\"1\" class=\"dataframe\">\n",
       "  <thead>\n",
       "    <tr style=\"text-align: right;\">\n",
       "      <th></th>\n",
       "      <th>Name</th>\n",
       "      <th>Hours</th>\n",
       "      <th>Score</th>\n",
       "    </tr>\n",
       "  </thead>\n",
       "  <tbody>\n",
       "    <tr>\n",
       "      <th>0</th>\n",
       "      <td>Vimal</td>\n",
       "      <td>3</td>\n",
       "      <td>30</td>\n",
       "    </tr>\n",
       "    <tr>\n",
       "      <th>1</th>\n",
       "      <td>Rahul</td>\n",
       "      <td>5</td>\n",
       "      <td>50</td>\n",
       "    </tr>\n",
       "    <tr>\n",
       "      <th>2</th>\n",
       "      <td>Abhi</td>\n",
       "      <td>2</td>\n",
       "      <td>20</td>\n",
       "    </tr>\n",
       "    <tr>\n",
       "      <th>3</th>\n",
       "      <td>Jake</td>\n",
       "      <td>1</td>\n",
       "      <td>10</td>\n",
       "    </tr>\n",
       "    <tr>\n",
       "      <th>4</th>\n",
       "      <td>X</td>\n",
       "      <td>8</td>\n",
       "      <td>?</td>\n",
       "    </tr>\n",
       "  </tbody>\n",
       "</table>\n",
       "</div>"
      ],
      "text/plain": [
       "    Name  Hours Score\n",
       "0  Vimal      3    30\n",
       "1  Rahul      5    50\n",
       "2   Abhi      2    20\n",
       "3   Jake      1    10\n",
       "4      X      8     ?"
      ]
     },
     "execution_count": 32,
     "metadata": {},
     "output_type": "execute_result"
    }
   ],
   "source": [
    "dataset"
   ]
  },
  {
   "cell_type": "code",
   "execution_count": 33,
   "id": "3c95868f",
   "metadata": {},
   "outputs": [
    {
     "data": {
      "text/plain": [
       "0    30\n",
       "1    50\n",
       "2    20\n",
       "3    10\n",
       "Name: Score, dtype: object"
      ]
     },
     "execution_count": 33,
     "metadata": {},
     "output_type": "execute_result"
    }
   ],
   "source": [
    "dataset[\"Score\"][:4]"
   ]
  },
  {
   "cell_type": "code",
   "execution_count": 34,
   "id": "67d1f8da",
   "metadata": {},
   "outputs": [],
   "source": [
    "Y=dataset[\"Score\"][:4]"
   ]
  },
  {
   "cell_type": "code",
   "execution_count": 35,
   "id": "64f5cb6c",
   "metadata": {},
   "outputs": [],
   "source": [
    "X=dataset[\"Hours\"][:4]"
   ]
  },
  {
   "cell_type": "code",
   "execution_count": 36,
   "id": "47858a84",
   "metadata": {},
   "outputs": [],
   "source": [
    "# import sklearn.linear_model\n"
   ]
  },
  {
   "cell_type": "code",
   "execution_count": 37,
   "id": "2ded0d85",
   "metadata": {},
   "outputs": [],
   "source": [
    "from sklearn.linear_model import LinearRegression"
   ]
  },
  {
   "cell_type": "code",
   "execution_count": 38,
   "id": "daa1ab02",
   "metadata": {},
   "outputs": [],
   "source": [
    "model=LinearRegression()\n"
   ]
  },
  {
   "cell_type": "code",
   "execution_count": 39,
   "id": "19ec0cc9",
   "metadata": {},
   "outputs": [],
   "source": [
    "# model.fit(X,Y)"
   ]
  },
  {
   "cell_type": "code",
   "execution_count": 40,
   "id": "08b59938",
   "metadata": {},
   "outputs": [
    {
     "data": {
      "text/plain": [
       "pandas.core.series.Series"
      ]
     },
     "execution_count": 40,
     "metadata": {},
     "output_type": "execute_result"
    }
   ],
   "source": [
    "type(X)"
   ]
  },
  {
   "cell_type": "code",
   "execution_count": 41,
   "id": "f12a3081",
   "metadata": {},
   "outputs": [],
   "source": [
    "import numpy"
   ]
  },
  {
   "cell_type": "code",
   "execution_count": 42,
   "id": "86d80553",
   "metadata": {},
   "outputs": [],
   "source": [
    "X= numpy.array(X)"
   ]
  },
  {
   "cell_type": "code",
   "execution_count": 43,
   "id": "e98cbd7f",
   "metadata": {},
   "outputs": [],
   "source": [
    "Y=numpy.array(Y)"
   ]
  },
  {
   "cell_type": "code",
   "execution_count": 44,
   "id": "b5b8d50f",
   "metadata": {},
   "outputs": [
    {
     "data": {
      "text/plain": [
       "numpy.ndarray"
      ]
     },
     "execution_count": 44,
     "metadata": {},
     "output_type": "execute_result"
    }
   ],
   "source": [
    "type(X)"
   ]
  },
  {
   "cell_type": "code",
   "execution_count": 47,
   "id": "f06636c9",
   "metadata": {},
   "outputs": [],
   "source": [
    "X=X.reshape(4,1)"
   ]
  },
  {
   "cell_type": "code",
   "execution_count": 48,
   "id": "1998fb8a",
   "metadata": {},
   "outputs": [],
   "source": [
    "Y=Y.reshape(4,1)"
   ]
  },
  {
   "cell_type": "code",
   "execution_count": 50,
   "id": "b6283308",
   "metadata": {},
   "outputs": [
    {
     "data": {
      "text/plain": [
       "2"
      ]
     },
     "execution_count": 50,
     "metadata": {},
     "output_type": "execute_result"
    }
   ],
   "source": [
    "X.ndim"
   ]
  },
  {
   "cell_type": "code",
   "execution_count": 52,
   "id": "326955a2",
   "metadata": {},
   "outputs": [
    {
     "data": {
      "text/plain": [
       "2"
      ]
     },
     "execution_count": 52,
     "metadata": {},
     "output_type": "execute_result"
    }
   ],
   "source": [
    "Y.ndim"
   ]
  },
  {
   "cell_type": "code",
   "execution_count": 55,
   "id": "85e53367",
   "metadata": {},
   "outputs": [],
   "source": [
    "mlmodel=model.fit(X,Y)"
   ]
  },
  {
   "cell_type": "code",
   "execution_count": 67,
   "id": "db76d01a",
   "metadata": {},
   "outputs": [
    {
     "data": {
      "text/plain": [
       "array([[50.]])"
      ]
     },
     "execution_count": 67,
     "metadata": {},
     "output_type": "execute_result"
    }
   ],
   "source": [
    "mlmodel.predict([[5]])"
   ]
  },
  {
   "cell_type": "code",
   "execution_count": null,
   "id": "54acdfc3",
   "metadata": {},
   "outputs": [],
   "source": []
  }
 ],
 "metadata": {
  "kernelspec": {
   "display_name": "Python 3 (ipykernel)",
   "language": "python",
   "name": "python3"
  },
  "language_info": {
   "codemirror_mode": {
    "name": "ipython",
    "version": 3
   },
   "file_extension": ".py",
   "mimetype": "text/x-python",
   "name": "python",
   "nbconvert_exporter": "python",
   "pygments_lexer": "ipython3",
   "version": "3.10.9"
  }
 },
 "nbformat": 4,
 "nbformat_minor": 5
}
