{
 "cells": [
  {
   "cell_type": "code",
   "execution_count": 30,
   "id": "ce2981aa",
   "metadata": {},
   "outputs": [],
   "source": [
    "import pandas\n"
   ]
  },
  {
   "cell_type": "code",
   "execution_count": 31,
   "id": "10aaf506",
   "metadata": {},
   "outputs": [],
   "source": [
    "dataset=pandas.read_csv(\"Student - Sheet1.csv\")"
   ]
  },
  {
   "cell_type": "code",
   "execution_count": 32,
   "id": "7e62c249",
   "metadata": {},
   "outputs": [
    {
     "data": {
      "text/html": [
       "<div>\n",
       "<style scoped>\n",
       "    .dataframe tbody tr th:only-of-type {\n",
       "        vertical-align: middle;\n",
       "    }\n",
       "\n",
       "    .dataframe tbody tr th {\n",
       "        vertical-align: top;\n",
       "    }\n",
       "\n",
       "    .dataframe thead th {\n",
       "        text-align: right;\n",
       "    }\n",
       "</style>\n",
       "<table border=\"1\" class=\"dataframe\">\n",
       "  <thead>\n",
       "    <tr style=\"text-align: right;\">\n",
       "      <th></th>\n",
       "      <th>Name</th>\n",
       "      <th>Hours</th>\n",
       "      <th>Score</th>\n",
       "    </tr>\n",
       "  </thead>\n",
       "  <tbody>\n",
       "    <tr>\n",
       "      <th>0</th>\n",
       "      <td>Vimal</td>\n",
       "      <td>3</td>\n",
       "      <td>30</td>\n",
       "    </tr>\n",
       "    <tr>\n",
       "      <th>1</th>\n",
       "      <td>Rahul</td>\n",
       "      <td>5</td>\n",
       "      <td>50</td>\n",
       "    </tr>\n",
       "    <tr>\n",
       "      <th>2</th>\n",
       "      <td>Abhi</td>\n",
       "      <td>2</td>\n",
       "      <td>20</td>\n",
       "    </tr>\n",
       "    <tr>\n",
       "      <th>3</th>\n",
       "      <td>Jake</td>\n",
       "      <td>1</td>\n",
       "      <td>10</td>\n",
       "    </tr>\n",
       "    <tr>\n",
       "      <th>4</th>\n",
       "      <td>X</td>\n",
       "      <td>8</td>\n",
       "      <td>?</td>\n",
       "    </tr>\n",
       "  </tbody>\n",
       "</table>\n",
       "</div>"
      ],
      "text/plain": [
       "    Name  Hours Score\n",
       "0  Vimal      3    30\n",
       "1  Rahul      5    50\n",
       "2   Abhi      2    20\n",
       "3   Jake      1    10\n",
       "4      X      8     ?"
      ]
     },
     "execution_count": 32,
     "metadata": {},
     "output_type": "execute_result"
    }
   ],
   "source": [
    "dataset"
   ]
  },
  {
   "cell_type": "code",
   "execution_count": 33,
   "id": "1aaa3e12",
   "metadata": {},
   "outputs": [
    {
     "data": {
      "text/plain": [
       "0    30\n",
       "1    50\n",
       "2    20\n",
       "3    10\n",
       "Name: Score, dtype: object"
      ]
     },
     "execution_count": 33,
     "metadata": {},
     "output_type": "execute_result"
    }
   ],
   "source": [
    "dataset[\"Score\"][:4]"
   ]
  },
  {
   "cell_type": "code",
   "execution_count": 34,
   "id": "e3b88f3d",
   "metadata": {},
   "outputs": [],
   "source": [
    "Y=dataset[\"Score\"][:4]"
   ]
  },
  {
   "cell_type": "code",
   "execution_count": 35,
   "id": "1ea46655",
   "metadata": {},
   "outputs": [],
   "source": [
    "X=dataset[\"Hours\"][:4]"
   ]
  },
  {
   "cell_type": "code",
   "execution_count": 36,
   "id": "fa910ab0",
   "metadata": {},
   "outputs": [],
   "source": [
    "# import sklearn.linear_model\n"
   ]
  },
  {
   "cell_type": "code",
   "execution_count": 37,
   "id": "a4fa7eef",
   "metadata": {},
   "outputs": [],
   "source": [
    "from sklearn.linear_model import LinearRegression"
   ]
  },
  {
   "cell_type": "code",
   "execution_count": 38,
   "id": "c167a5f4",
   "metadata": {},
   "outputs": [],
   "source": [
    "model=LinearRegression()\n"
   ]
  },
  {
   "cell_type": "code",
   "execution_count": 39,
   "id": "1a612012",
   "metadata": {},
   "outputs": [],
   "source": [
    "# model.fit(X,Y)"
   ]
  },
  {
   "cell_type": "code",
   "execution_count": 40,
   "id": "c21b1cb2",
   "metadata": {},
   "outputs": [
    {
     "data": {
      "text/plain": [
       "pandas.core.series.Series"
      ]
     },
     "execution_count": 40,
     "metadata": {},
     "output_type": "execute_result"
    }
   ],
   "source": [
    "type(X)"
   ]
  },
  {
   "cell_type": "code",
   "execution_count": 41,
   "id": "cec16360",
   "metadata": {},
   "outputs": [],
   "source": [
    "import numpy"
   ]
  },
  {
   "cell_type": "code",
   "execution_count": 42,
   "id": "ff42b30a",
   "metadata": {},
   "outputs": [],
   "source": [
    "X= numpy.array(X)"
   ]
  },
  {
   "cell_type": "code",
   "execution_count": 43,
   "id": "80e841b2",
   "metadata": {},
   "outputs": [],
   "source": [
    "Y=numpy.array(Y)"
   ]
  },
  {
   "cell_type": "code",
   "execution_count": 44,
   "id": "b46f8800",
   "metadata": {},
   "outputs": [
    {
     "data": {
      "text/plain": [
       "numpy.ndarray"
      ]
     },
     "execution_count": 44,
     "metadata": {},
     "output_type": "execute_result"
    }
   ],
   "source": [
    "type(X)"
   ]
  },
  {
   "cell_type": "code",
   "execution_count": 47,
   "id": "6581f868",
   "metadata": {},
   "outputs": [],
   "source": [
    "X=X.reshape(4,1)"
   ]
  },
  {
   "cell_type": "code",
   "execution_count": 48,
   "id": "cd35f09c",
   "metadata": {},
   "outputs": [],
   "source": [
    "Y=Y.reshape(4,1)"
   ]
  },
  {
   "cell_type": "code",
   "execution_count": 50,
   "id": "117e7bed",
   "metadata": {},
   "outputs": [
    {
     "data": {
      "text/plain": [
       "2"
      ]
     },
     "execution_count": 50,
     "metadata": {},
     "output_type": "execute_result"
    }
   ],
   "source": [
    "X.ndim"
   ]
  },
  {
   "cell_type": "code",
   "execution_count": 52,
   "id": "23a26478",
   "metadata": {},
   "outputs": [
    {
     "data": {
      "text/plain": [
       "2"
      ]
     },
     "execution_count": 52,
     "metadata": {},
     "output_type": "execute_result"
    }
   ],
   "source": [
    "Y.ndim"
   ]
  },
  {
   "cell_type": "code",
   "execution_count": 55,
   "id": "7241e931",
   "metadata": {},
   "outputs": [],
   "source": [
    "mlmodel=model.fit(X,Y)"
   ]
  },
  {
   "cell_type": "code",
   "execution_count": 67,
   "id": "8ec5ba80",
   "metadata": {},
   "outputs": [
    {
     "data": {
      "text/plain": [
       "array([[50.]])"
      ]
     },
     "execution_count": 67,
     "metadata": {},
     "output_type": "execute_result"
    }
   ],
   "source": [
    "mlmodel.predict([[5]])"
   ]
  },
  {
   "cell_type": "code",
   "execution_count": 68,
   "id": "1d3ef179",
   "metadata": {},
   "outputs": [],
   "source": [
    "import joblib\n"
   ]
  },
  {
   "cell_type": "code",
   "execution_count": 69,
   "id": "61453cf4",
   "metadata": {},
   "outputs": [
    {
     "data": {
      "text/plain": [
       "['mymarks.model']"
      ]
     },
     "execution_count": 69,
     "metadata": {},
     "output_type": "execute_result"
    }
   ],
   "source": [
    "joblib.dump(model,\"mymarks.model\")"
   ]
  },
  {
   "cell_type": "code",
   "execution_count": 70,
   "id": "6a3f5168",
   "metadata": {},
   "outputs": [],
   "source": [
    "mymodel=joblib.load(\"mymarks.model\")"
   ]
  },
  {
   "cell_type": "code",
   "execution_count": 71,
   "id": "c0514cc8",
   "metadata": {},
   "outputs": [
    {
     "data": {
      "text/plain": [
       "array([[50.]])"
      ]
     },
     "execution_count": 71,
     "metadata": {},
     "output_type": "execute_result"
    }
   ],
   "source": [
    "mymodel.predict([[5]])"
   ]
  },
  {
   "cell_type": "code",
   "execution_count": null,
   "id": "e59dc7ef",
   "metadata": {},
   "outputs": [],
   "source": []
  }
 ],
 "metadata": {
  "kernelspec": {
   "display_name": "Python 3 (ipykernel)",
   "language": "python",
   "name": "python3"
  },
  "language_info": {
   "codemirror_mode": {
    "name": "ipython",
    "version": 3
   },
   "file_extension": ".py",
   "mimetype": "text/x-python",
   "name": "python",
   "nbconvert_exporter": "python",
   "pygments_lexer": "ipython3",
   "version": "3.10.9"
  }
 },
 "nbformat": 4,
 "nbformat_minor": 5
}
