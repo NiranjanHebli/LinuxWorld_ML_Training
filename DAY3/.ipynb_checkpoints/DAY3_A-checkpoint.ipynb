{
 "cells": [
  {
   "cell_type": "markdown",
   "id": "0026c862",
   "metadata": {},
   "source": [
    "## TASKS"
   ]
  },
  {
   "cell_type": "code",
   "execution_count": 1,
   "id": "44f6a7ec",
   "metadata": {},
   "outputs": [
    {
     "name": "stdout",
     "output_type": "stream",
     "text": [
      "welcome to LW\n"
     ]
    }
   ],
   "source": [
    "print(\"welcome to LW\")"
   ]
  },
  {
   "cell_type": "code",
   "execution_count": 3,
   "id": "39286ddf",
   "metadata": {},
   "outputs": [],
   "source": [
    "import pyttsx3\n"
   ]
  },
  {
   "cell_type": "code",
   "execution_count": 5,
   "id": "c6993cb7",
   "metadata": {},
   "outputs": [],
   "source": [
    "myspeaker=pyttsx3.init()"
   ]
  },
  {
   "cell_type": "code",
   "execution_count": 10,
   "id": "2325cce9",
   "metadata": {},
   "outputs": [],
   "source": [
    "myspeaker.say(\"Welcome to Linux World\")\n"
   ]
  },
  {
   "cell_type": "code",
   "execution_count": 11,
   "id": "cd24c12f",
   "metadata": {},
   "outputs": [],
   "source": [
    "myspeaker.runAndWait()"
   ]
  },
  {
   "cell_type": "code",
   "execution_count": 14,
   "id": "119fed01",
   "metadata": {},
   "outputs": [],
   "source": [
    "db=[1,\"vimal\",\"ok\",98291]"
   ]
  },
  {
   "cell_type": "code",
   "execution_count": 15,
   "id": "5795fd6a",
   "metadata": {},
   "outputs": [],
   "source": [
    "db.insert(2,\"v@gmail.com\")"
   ]
  },
  {
   "cell_type": "code",
   "execution_count": 16,
   "id": "65f09a2b",
   "metadata": {},
   "outputs": [
    {
     "data": {
      "text/plain": [
       "'ok'"
      ]
     },
     "execution_count": 16,
     "metadata": {},
     "output_type": "execute_result"
    }
   ],
   "source": [
    "db[3]\n"
   ]
  },
  {
   "cell_type": "code",
   "execution_count": 24,
   "id": "20b1dc69",
   "metadata": {},
   "outputs": [],
   "source": [
    "db={ \n",
    "    \"id\":1,\n",
    "    \"name\":\"vimal\",\n",
    "    \"email\":\"v@gmail.com\",\n",
    "    \"remarks\":\"ok\",\n",
    "    \"mob\":98291\n",
    "  }"
   ]
  },
  {
   "cell_type": "markdown",
   "id": "5759e367",
   "metadata": {},
   "source": [
    "Key should be always unique"
   ]
  },
  {
   "cell_type": "code",
   "execution_count": 25,
   "id": "de089c8c",
   "metadata": {},
   "outputs": [
    {
     "data": {
      "text/plain": [
       "dict"
      ]
     },
     "execution_count": 25,
     "metadata": {},
     "output_type": "execute_result"
    }
   ],
   "source": [
    "type(db)"
   ]
  },
  {
   "cell_type": "code",
   "execution_count": 26,
   "id": "46344032",
   "metadata": {},
   "outputs": [
    {
     "data": {
      "text/plain": [
       "98291"
      ]
     },
     "execution_count": 26,
     "metadata": {},
     "output_type": "execute_result"
    }
   ],
   "source": [
    "db[\"mob\"]"
   ]
  },
  {
   "cell_type": "code",
   "execution_count": 38,
   "id": "ec0a364d",
   "metadata": {},
   "outputs": [],
   "source": [
    "students ={\n",
    "    \"name\":[\"vimal\",\"abhi\",\"rahul\",\"tom\"],\n",
    "    \"remarks\": [\"ok\",\"good\",\"vgood\",\"good\"],\n",
    "    \"mob\": [1111,2222,3333,4444]\n",
    "}"
   ]
  },
  {
   "cell_type": "code",
   "execution_count": 39,
   "id": "7ed3f63a",
   "metadata": {},
   "outputs": [
    {
     "data": {
      "text/plain": [
       "{'name': ['vimal', 'abhi', 'rahul', 'tom'],\n",
       " 'remarks': ['ok', 'good', 'vgood', 'good'],\n",
       " 'mob': [1111, 2222, 3333, 4444]}"
      ]
     },
     "execution_count": 39,
     "metadata": {},
     "output_type": "execute_result"
    }
   ],
   "source": [
    "students\n"
   ]
  },
  {
   "cell_type": "code",
   "execution_count": 40,
   "id": "f3624c3a",
   "metadata": {},
   "outputs": [
    {
     "data": {
      "text/plain": [
       "2222"
      ]
     },
     "execution_count": 40,
     "metadata": {},
     "output_type": "execute_result"
    }
   ],
   "source": [
    "students[\"mob\"][1]"
   ]
  },
  {
   "cell_type": "code",
   "execution_count": 41,
   "id": "a7a67bd8",
   "metadata": {},
   "outputs": [
    {
     "data": {
      "text/plain": [
       "[2222, 3333]"
      ]
     },
     "execution_count": 41,
     "metadata": {},
     "output_type": "execute_result"
    }
   ],
   "source": [
    "students[\"mob\"][1:3]"
   ]
  },
  {
   "cell_type": "markdown",
   "id": "ea1192da",
   "metadata": {},
   "source": [
    "We can only do column-wise operation in dictionary wherelse we can only do row-wise operation in list"
   ]
  },
  {
   "cell_type": "code",
   "execution_count": 42,
   "id": "13ccba5f",
   "metadata": {},
   "outputs": [],
   "source": [
    "import pandas"
   ]
  },
  {
   "cell_type": "code",
   "execution_count": 45,
   "id": "14433d4f",
   "metadata": {},
   "outputs": [],
   "source": [
    "mydb=pandas.DataFrame(students)"
   ]
  },
  {
   "cell_type": "code",
   "execution_count": 47,
   "id": "e5086de2",
   "metadata": {},
   "outputs": [
    {
     "data": {
      "text/plain": [
       "pandas.core.frame.DataFrame"
      ]
     },
     "execution_count": 47,
     "metadata": {},
     "output_type": "execute_result"
    }
   ],
   "source": [
    "type(mydb)"
   ]
  },
  {
   "cell_type": "code",
   "execution_count": 48,
   "id": "7f635d90",
   "metadata": {},
   "outputs": [
    {
     "data": {
      "text/html": [
       "<div>\n",
       "<style scoped>\n",
       "    .dataframe tbody tr th:only-of-type {\n",
       "        vertical-align: middle;\n",
       "    }\n",
       "\n",
       "    .dataframe tbody tr th {\n",
       "        vertical-align: top;\n",
       "    }\n",
       "\n",
       "    .dataframe thead th {\n",
       "        text-align: right;\n",
       "    }\n",
       "</style>\n",
       "<table border=\"1\" class=\"dataframe\">\n",
       "  <thead>\n",
       "    <tr style=\"text-align: right;\">\n",
       "      <th></th>\n",
       "      <th>name</th>\n",
       "      <th>remarks</th>\n",
       "      <th>mob</th>\n",
       "    </tr>\n",
       "  </thead>\n",
       "  <tbody>\n",
       "    <tr>\n",
       "      <th>0</th>\n",
       "      <td>vimal</td>\n",
       "      <td>ok</td>\n",
       "      <td>1111</td>\n",
       "    </tr>\n",
       "    <tr>\n",
       "      <th>1</th>\n",
       "      <td>abhi</td>\n",
       "      <td>good</td>\n",
       "      <td>2222</td>\n",
       "    </tr>\n",
       "    <tr>\n",
       "      <th>2</th>\n",
       "      <td>rahul</td>\n",
       "      <td>vgood</td>\n",
       "      <td>3333</td>\n",
       "    </tr>\n",
       "    <tr>\n",
       "      <th>3</th>\n",
       "      <td>tom</td>\n",
       "      <td>good</td>\n",
       "      <td>4444</td>\n",
       "    </tr>\n",
       "  </tbody>\n",
       "</table>\n",
       "</div>"
      ],
      "text/plain": [
       "    name remarks   mob\n",
       "0  vimal      ok  1111\n",
       "1   abhi    good  2222\n",
       "2  rahul   vgood  3333\n",
       "3    tom    good  4444"
      ]
     },
     "execution_count": 48,
     "metadata": {},
     "output_type": "execute_result"
    }
   ],
   "source": [
    "mydb"
   ]
  },
  {
   "cell_type": "code",
   "execution_count": 50,
   "id": "3ae929cf",
   "metadata": {},
   "outputs": [
    {
     "data": {
      "text/html": [
       "<div>\n",
       "<style scoped>\n",
       "    .dataframe tbody tr th:only-of-type {\n",
       "        vertical-align: middle;\n",
       "    }\n",
       "\n",
       "    .dataframe tbody tr th {\n",
       "        vertical-align: top;\n",
       "    }\n",
       "\n",
       "    .dataframe thead th {\n",
       "        text-align: right;\n",
       "    }\n",
       "</style>\n",
       "<table border=\"1\" class=\"dataframe\">\n",
       "  <thead>\n",
       "    <tr style=\"text-align: right;\">\n",
       "      <th></th>\n",
       "      <th>name</th>\n",
       "      <th>mob</th>\n",
       "    </tr>\n",
       "  </thead>\n",
       "  <tbody>\n",
       "    <tr>\n",
       "      <th>0</th>\n",
       "      <td>vimal</td>\n",
       "      <td>1111</td>\n",
       "    </tr>\n",
       "    <tr>\n",
       "      <th>1</th>\n",
       "      <td>abhi</td>\n",
       "      <td>2222</td>\n",
       "    </tr>\n",
       "    <tr>\n",
       "      <th>2</th>\n",
       "      <td>rahul</td>\n",
       "      <td>3333</td>\n",
       "    </tr>\n",
       "    <tr>\n",
       "      <th>3</th>\n",
       "      <td>tom</td>\n",
       "      <td>4444</td>\n",
       "    </tr>\n",
       "  </tbody>\n",
       "</table>\n",
       "</div>"
      ],
      "text/plain": [
       "    name   mob\n",
       "0  vimal  1111\n",
       "1   abhi  2222\n",
       "2  rahul  3333\n",
       "3    tom  4444"
      ]
     },
     "execution_count": 50,
     "metadata": {},
     "output_type": "execute_result"
    }
   ],
   "source": [
    "mydb[[\"name\",\"mob\"]]"
   ]
  },
  {
   "cell_type": "code",
   "execution_count": 51,
   "id": "f32840e7",
   "metadata": {},
   "outputs": [
    {
     "data": {
      "text/plain": [
       "name       rahul\n",
       "remarks    vgood\n",
       "mob         3333\n",
       "Name: 2, dtype: object"
      ]
     },
     "execution_count": 51,
     "metadata": {},
     "output_type": "execute_result"
    }
   ],
   "source": [
    "mydb.loc[2]"
   ]
  },
  {
   "cell_type": "code",
   "execution_count": 52,
   "id": "ae091415",
   "metadata": {},
   "outputs": [
    {
     "data": {
      "text/html": [
       "<div>\n",
       "<style scoped>\n",
       "    .dataframe tbody tr th:only-of-type {\n",
       "        vertical-align: middle;\n",
       "    }\n",
       "\n",
       "    .dataframe tbody tr th {\n",
       "        vertical-align: top;\n",
       "    }\n",
       "\n",
       "    .dataframe thead th {\n",
       "        text-align: right;\n",
       "    }\n",
       "</style>\n",
       "<table border=\"1\" class=\"dataframe\">\n",
       "  <thead>\n",
       "    <tr style=\"text-align: right;\">\n",
       "      <th></th>\n",
       "      <th>name</th>\n",
       "      <th>remarks</th>\n",
       "      <th>mob</th>\n",
       "    </tr>\n",
       "  </thead>\n",
       "  <tbody>\n",
       "    <tr>\n",
       "      <th>2</th>\n",
       "      <td>rahul</td>\n",
       "      <td>vgood</td>\n",
       "      <td>3333</td>\n",
       "    </tr>\n",
       "    <tr>\n",
       "      <th>3</th>\n",
       "      <td>tom</td>\n",
       "      <td>good</td>\n",
       "      <td>4444</td>\n",
       "    </tr>\n",
       "  </tbody>\n",
       "</table>\n",
       "</div>"
      ],
      "text/plain": [
       "    name remarks   mob\n",
       "2  rahul   vgood  3333\n",
       "3    tom    good  4444"
      ]
     },
     "execution_count": 52,
     "metadata": {},
     "output_type": "execute_result"
    }
   ],
   "source": [
    "mydb.loc[[2,3]]"
   ]
  },
  {
   "cell_type": "code",
   "execution_count": 53,
   "id": "cd28a127",
   "metadata": {},
   "outputs": [
    {
     "data": {
      "text/html": [
       "<div>\n",
       "<style scoped>\n",
       "    .dataframe tbody tr th:only-of-type {\n",
       "        vertical-align: middle;\n",
       "    }\n",
       "\n",
       "    .dataframe tbody tr th {\n",
       "        vertical-align: top;\n",
       "    }\n",
       "\n",
       "    .dataframe thead th {\n",
       "        text-align: right;\n",
       "    }\n",
       "</style>\n",
       "<table border=\"1\" class=\"dataframe\">\n",
       "  <thead>\n",
       "    <tr style=\"text-align: right;\">\n",
       "      <th></th>\n",
       "      <th>name</th>\n",
       "      <th>remarks</th>\n",
       "      <th>mob</th>\n",
       "    </tr>\n",
       "  </thead>\n",
       "  <tbody>\n",
       "    <tr>\n",
       "      <th>2</th>\n",
       "      <td>rahul</td>\n",
       "      <td>vgood</td>\n",
       "      <td>3333</td>\n",
       "    </tr>\n",
       "    <tr>\n",
       "      <th>3</th>\n",
       "      <td>tom</td>\n",
       "      <td>good</td>\n",
       "      <td>4444</td>\n",
       "    </tr>\n",
       "  </tbody>\n",
       "</table>\n",
       "</div>"
      ],
      "text/plain": [
       "    name remarks   mob\n",
       "2  rahul   vgood  3333\n",
       "3    tom    good  4444"
      ]
     },
     "execution_count": 53,
     "metadata": {},
     "output_type": "execute_result"
    }
   ],
   "source": [
    "mydb.loc[2:3]"
   ]
  },
  {
   "cell_type": "code",
   "execution_count": 55,
   "id": "5181c215",
   "metadata": {},
   "outputs": [],
   "source": [
    "mynewdb=pandas.read_csv(\"mydbtest.csv\")"
   ]
  },
  {
   "cell_type": "code",
   "execution_count": 56,
   "id": "46fe2de8",
   "metadata": {},
   "outputs": [
    {
     "data": {
      "text/plain": [
       "pandas.core.frame.DataFrame"
      ]
     },
     "execution_count": 56,
     "metadata": {},
     "output_type": "execute_result"
    }
   ],
   "source": [
    "type(mynewdb)"
   ]
  },
  {
   "cell_type": "code",
   "execution_count": 57,
   "id": "c401b89c",
   "metadata": {},
   "outputs": [
    {
     "data": {
      "text/plain": [
       "<bound method NDFrame.describe of      name  age  mob no remarks\n",
       "0    Jack   23    1111      ok\n",
       "1  Harry    22   22222    good\n",
       "2   Umesh   21    3333   vgood>"
      ]
     },
     "execution_count": 57,
     "metadata": {},
     "output_type": "execute_result"
    }
   ],
   "source": [
    "mynewdb.describe"
   ]
  },
  {
   "cell_type": "code",
   "execution_count": 58,
   "id": "d6d393b5",
   "metadata": {},
   "outputs": [
    {
     "data": {
      "text/html": [
       "<div>\n",
       "<style scoped>\n",
       "    .dataframe tbody tr th:only-of-type {\n",
       "        vertical-align: middle;\n",
       "    }\n",
       "\n",
       "    .dataframe tbody tr th {\n",
       "        vertical-align: top;\n",
       "    }\n",
       "\n",
       "    .dataframe thead th {\n",
       "        text-align: right;\n",
       "    }\n",
       "</style>\n",
       "<table border=\"1\" class=\"dataframe\">\n",
       "  <thead>\n",
       "    <tr style=\"text-align: right;\">\n",
       "      <th></th>\n",
       "      <th>name</th>\n",
       "      <th>age</th>\n",
       "      <th>mob no</th>\n",
       "      <th>remarks</th>\n",
       "    </tr>\n",
       "  </thead>\n",
       "  <tbody>\n",
       "    <tr>\n",
       "      <th>0</th>\n",
       "      <td>Jack</td>\n",
       "      <td>23</td>\n",
       "      <td>1111</td>\n",
       "      <td>ok</td>\n",
       "    </tr>\n",
       "    <tr>\n",
       "      <th>1</th>\n",
       "      <td>Harry</td>\n",
       "      <td>22</td>\n",
       "      <td>22222</td>\n",
       "      <td>good</td>\n",
       "    </tr>\n",
       "    <tr>\n",
       "      <th>2</th>\n",
       "      <td>Umesh</td>\n",
       "      <td>21</td>\n",
       "      <td>3333</td>\n",
       "      <td>vgood</td>\n",
       "    </tr>\n",
       "  </tbody>\n",
       "</table>\n",
       "</div>"
      ],
      "text/plain": [
       "     name  age  mob no remarks\n",
       "0    Jack   23    1111      ok\n",
       "1  Harry    22   22222    good\n",
       "2   Umesh   21    3333   vgood"
      ]
     },
     "execution_count": 58,
     "metadata": {},
     "output_type": "execute_result"
    }
   ],
   "source": [
    "mynewdb"
   ]
  },
  {
   "cell_type": "code",
   "execution_count": 59,
   "id": "d2016fa8",
   "metadata": {},
   "outputs": [
    {
     "data": {
      "text/plain": [
       "array([['Jack', 23, 1111, 'ok'],\n",
       "       ['Harry ', 22, 22222, 'good'],\n",
       "       ['Umesh', 21, 3333, 'vgood']], dtype=object)"
      ]
     },
     "execution_count": 59,
     "metadata": {},
     "output_type": "execute_result"
    }
   ],
   "source": [
    "mynewdb.values"
   ]
  },
  {
   "cell_type": "code",
   "execution_count": null,
   "id": "25042734",
   "metadata": {},
   "outputs": [],
   "source": []
  }
 ],
 "metadata": {
  "kernelspec": {
   "display_name": "Python 3 (ipykernel)",
   "language": "python",
   "name": "python3"
  },
  "language_info": {
   "codemirror_mode": {
    "name": "ipython",
    "version": 3
   },
   "file_extension": ".py",
   "mimetype": "text/x-python",
   "name": "python",
   "nbconvert_exporter": "python",
   "pygments_lexer": "ipython3",
   "version": "3.10.9"
  }
 },
 "nbformat": 4,
 "nbformat_minor": 5
}
