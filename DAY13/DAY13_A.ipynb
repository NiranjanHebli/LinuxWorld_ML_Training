{
 "cells": [
  {
   "cell_type": "code",
   "execution_count": 1,
   "id": "40d3d428",
   "metadata": {},
   "outputs": [],
   "source": [
    "class JobForm:\n",
    "    name = None\n",
    "    mob = None\n",
    "    exp = None\n"
   ]
  },
  {
   "cell_type": "code",
   "execution_count": 2,
   "id": "677f1edd",
   "metadata": {},
   "outputs": [],
   "source": [
    "class StudentForm:\n",
    "    name = None\n",
    "    mob = None\n",
    "    query = None\n",
    "    \n",
    "    "
   ]
  },
  {
   "cell_type": "code",
   "execution_count": 40,
   "id": "c73952ef",
   "metadata": {},
   "outputs": [],
   "source": [
    "class CommonForm:\n",
    "    name = None\n",
    "    mob =None\n",
    "    country = None\n",
    "    \n",
    "    def __init__(self,name,mob,country):\n",
    "        self.name=name\n",
    "        self.mob=mob\n",
    "        self.country=country\n",
    "        \n",
    "    def my(self):\n",
    "        print(self.name)"
   ]
  },
  {
   "cell_type": "code",
   "execution_count": 10,
   "id": "87fb837b",
   "metadata": {},
   "outputs": [],
   "source": [
    "class JobForm(CommonForm):\n",
    "    exp = None\n"
   ]
  },
  {
   "cell_type": "code",
   "execution_count": 41,
   "id": "74f1ebeb",
   "metadata": {},
   "outputs": [],
   "source": [
    "class StudentForm(CommonForm):\n",
    "    query = None\n",
    "    def __init__(name,mob,country,query):\n",
    "        super().__init__()\n",
    "        self.query=query\n",
    "        super().my()"
   ]
  },
  {
   "cell_type": "code",
   "execution_count": 20,
   "id": "a9494729",
   "metadata": {},
   "outputs": [],
   "source": [
    "tom=StudentForm(\"name\",9203428342,\"Very Good\",\"City\")"
   ]
  },
  {
   "cell_type": "code",
   "execution_count": 21,
   "id": "25b53e81",
   "metadata": {},
   "outputs": [
    {
     "data": {
      "text/plain": [
       "{'name': 'name', 'mob': 9203428342, 'query': 'Very Good', 'city': 'City'}"
      ]
     },
     "execution_count": 21,
     "metadata": {},
     "output_type": "execute_result"
    }
   ],
   "source": [
    "tom.__dict__"
   ]
  },
  {
   "cell_type": "code",
   "execution_count": 22,
   "id": "5a360f88",
   "metadata": {},
   "outputs": [],
   "source": [
    "tom.name=\"tom\""
   ]
  },
  {
   "cell_type": "code",
   "execution_count": 23,
   "id": "591237b1",
   "metadata": {},
   "outputs": [
    {
     "name": "stdout",
     "output_type": "stream",
     "text": [
      "tom\n"
     ]
    }
   ],
   "source": [
    "tom.my()"
   ]
  },
  {
   "cell_type": "code",
   "execution_count": 24,
   "id": "e9316c43",
   "metadata": {},
   "outputs": [],
   "source": [
    "tom.query=\"Very Good\""
   ]
  },
  {
   "cell_type": "code",
   "execution_count": 25,
   "id": "2598e599",
   "metadata": {},
   "outputs": [
    {
     "data": {
      "text/plain": [
       "{'name': 'tom', 'mob': 9203428342, 'query': 'Very Good', 'city': 'City'}"
      ]
     },
     "execution_count": 25,
     "metadata": {},
     "output_type": "execute_result"
    }
   ],
   "source": [
    "tom.__dict__"
   ]
  },
  {
   "cell_type": "code",
   "execution_count": 26,
   "id": "9e3ba53a",
   "metadata": {},
   "outputs": [],
   "source": [
    "rahul=StudentForm(\n",
    "name=\"rahul\",\n",
    "mob=9320342332,\n",
    "query=\"Good\",\n",
    "city=\"City\"\n",
    ")"
   ]
  },
  {
   "cell_type": "code",
   "execution_count": 27,
   "id": "adddbd2d",
   "metadata": {},
   "outputs": [
    {
     "data": {
      "text/plain": [
       "{'name': 'rahul', 'mob': 9320342332, 'query': 'Good', 'city': 'City'}"
      ]
     },
     "execution_count": 27,
     "metadata": {},
     "output_type": "execute_result"
    }
   ],
   "source": [
    "rahul.__dict__"
   ]
  },
  {
   "cell_type": "code",
   "execution_count": null,
   "id": "bb8d2a45",
   "metadata": {},
   "outputs": [],
   "source": []
  },
  {
   "cell_type": "code",
   "execution_count": null,
   "id": "3d3884eb",
   "metadata": {},
   "outputs": [],
   "source": []
  }
 ],
 "metadata": {
  "kernelspec": {
   "display_name": "Python 3 (ipykernel)",
   "language": "python",
   "name": "python3"
  },
  "language_info": {
   "codemirror_mode": {
    "name": "ipython",
    "version": 3
   },
   "file_extension": ".py",
   "mimetype": "text/x-python",
   "name": "python",
   "nbconvert_exporter": "python",
   "pygments_lexer": "ipython3",
   "version": "3.10.9"
  }
 },
 "nbformat": 4,
 "nbformat_minor": 5
}
